{
 "cells": [
  {
   "cell_type": "code",
   "execution_count": null,
   "metadata": {},
   "outputs": [],
   "source": [
    "import os\n",
    "\n",
    "import pandas as pd\n",
    "import scipy.stats as sts"
   ]
  },
  {
   "cell_type": "code",
   "execution_count": null,
   "metadata": {},
   "outputs": [],
   "source": [
    "from pathlib import Path\n",
    "from itertools import product\n",
    "from collections import Counter"
   ]
  },
  {
   "cell_type": "code",
   "execution_count": null,
   "metadata": {},
   "outputs": [],
   "source": [
    "import plotly.express as px"
   ]
  },
  {
   "cell_type": "code",
   "execution_count": null,
   "metadata": {},
   "outputs": [],
   "source": [
    "from oktmo_names import oktmo_names_decode as oktmo_names"
   ]
  },
  {
   "cell_type": "code",
   "execution_count": null,
   "metadata": {},
   "outputs": [],
   "source": [
    "PATH_DATA = os.path.join(Path.cwd(), 'data')\n",
    "PATH_SUBM = os.path.join(Path.cwd(), 'submissions')"
   ]
  },
  {
   "cell_type": "code",
   "execution_count": null,
   "metadata": {},
   "outputs": [],
   "source": [
    "import numpy as np"
   ]
  },
  {
   "cell_type": "code",
   "execution_count": null,
   "metadata": {},
   "outputs": [],
   "source": []
  },
  {
   "cell_type": "markdown",
   "metadata": {},
   "source": [
    "# Подготовка данных"
   ]
  },
  {
   "cell_type": "code",
   "execution_count": null,
   "metadata": {},
   "outputs": [],
   "source": [
    "#train = pd.read_csv(os.path.join(PATH_DATA, 'train_orig.csv'), sep = ';', encoding = 'utf-8', engine='python')\n",
    "train = pd.read_csv(os.path.join(PATH_DATA, 'train.csv'),\n",
    "                    sep = ';',\n",
    "                    parse_dates=['date'],\n",
    "                    infer_datetime_format=True,\n",
    "                    decimal = ',',\n",
    "                    thousands='\\xa0',\n",
    "                    engine='python',\n",
    "                   )\n",
    "train.shape"
   ]
  },
  {
   "cell_type": "code",
   "execution_count": null,
   "metadata": {},
   "outputs": [],
   "source": [
    "train.tail()"
   ]
  },
  {
   "cell_type": "code",
   "execution_count": null,
   "metadata": {},
   "outputs": [],
   "source": []
  },
  {
   "cell_type": "code",
   "execution_count": null,
   "metadata": {},
   "outputs": [],
   "source": []
  },
  {
   "cell_type": "code",
   "execution_count": null,
   "metadata": {},
   "outputs": [],
   "source": [
    "items = train.columns.drop(['region', 'oktmo', 'okato', 'date'])\n",
    "items"
   ]
  },
  {
   "cell_type": "code",
   "execution_count": null,
   "metadata": {},
   "outputs": [],
   "source": [
    "for el in items:\n",
    "    ###train[el] = train[el].map(lambda_dot).astype(float)\n",
    "    train[el] = train[el].astype(float)"
   ]
  },
  {
   "cell_type": "raw",
   "metadata": {},
   "source": [
    "train['weekday'] = train.date.map(lambda x: x.weekday())\n",
    "train.weekday.value_counts()"
   ]
  },
  {
   "cell_type": "code",
   "execution_count": null,
   "metadata": {},
   "outputs": [],
   "source": [
    "#train.info()"
   ]
  },
  {
   "cell_type": "code",
   "execution_count": null,
   "metadata": {},
   "outputs": [],
   "source": [
    "#print(train.shape)#26000000000\n",
    "#train.drop(index = train.index[train.oktmo == 26000000000], axis = 0, inplace = True)\n",
    "#print(train.shape)"
   ]
  },
  {
   "cell_type": "code",
   "execution_count": null,
   "metadata": {},
   "outputs": [],
   "source": []
  },
  {
   "cell_type": "code",
   "execution_count": null,
   "metadata": {},
   "outputs": [],
   "source": []
  },
  {
   "cell_type": "code",
   "execution_count": null,
   "metadata": {},
   "outputs": [],
   "source": [
    "regs = train.region.unique()\n",
    "regs"
   ]
  },
  {
   "cell_type": "code",
   "execution_count": null,
   "metadata": {},
   "outputs": [],
   "source": [
    "oktmo = train.oktmo.unique()\n",
    "len(oktmo)"
   ]
  },
  {
   "cell_type": "code",
   "execution_count": null,
   "metadata": {},
   "outputs": [],
   "source": [
    "oktmo = [\n",
    "    # big regions. own plots similar to common\n",
    "       45000000000, 40000000000, 46000000000, 25000000000,\n",
    "       92000000000,\n",
    "    # common plots\n",
    "       71000000000, 75000000000, 73000000000, 65000000000, \n",
    "       63000000000, 66000000000, 78000000000, 47000000000, \n",
    "       22000000000, 50000000000, 49000000000, 12000000000, \n",
    "       15000000000, 14000000000, 17000000000, 35000000000, \n",
    "       80000000000, 79000000000, 81000000000, \n",
    "       98000000000, 89000000000, 94000000000,\n",
    "       87000000000, 86000000000, 88000000000,  3000000000,  \n",
    "       4000000000,  97000000000,  1000000000, 36000000000, \n",
    "       61000000000, 60000000000, 58000000000, 27000000000, \n",
    "       32000000000, 29000000000, 38000000000, 34000000000,\n",
    "       33000000000, 67000000000, 28000000000, 70000000000, \n",
    "       68000000000, 41000000000, 42000000000, 11000000000, \n",
    "       7000000000,  24000000000, 19000000000, 18000000000, \n",
    "       20000000000, 54000000000, 52000000000, 53000000000, \n",
    "       56000000000, 57000000000,\n",
    "    # hz 0\n",
    "       71900000000, 71800000000, \n",
    "    # hz 1\n",
    "       82000000000, 85000000000, 83000000000, 90000000000,\n",
    "    # sibir, over ocean\n",
    "       30000000000,  5000000000, 10000000000,  8000000000, \n",
    "       44000000000, 64000000000, 84000000000, 93000000000, \n",
    "       95000000000, 37000000000, 69000000000, 99000000000, \n",
    "       11800000000, \n",
    "    # south mountains\n",
    "       96000000000, 91000000000,\n",
    "    # hz 2    \n",
    "       76000000000, 77000000000, #26000000000, \n",
    "    ]"
   ]
  },
  {
   "cell_type": "code",
   "execution_count": null,
   "metadata": {},
   "outputs": [],
   "source": []
  },
  {
   "cell_type": "code",
   "execution_count": null,
   "metadata": {},
   "outputs": [],
   "source": [
    "items = train.columns.drop(['region', 'oktmo', 'okato', 'date'])\n",
    "items"
   ]
  },
  {
   "cell_type": "raw",
   "metadata": {},
   "source": [
    "with open(os.path.join(PATH_DATA, 'products.csv'), 'w') as fd:\n",
    "    for el in items: \n",
    "        fd.write(str(el) + '\\n')"
   ]
  },
  {
   "cell_type": "code",
   "execution_count": null,
   "metadata": {},
   "outputs": [],
   "source": []
  },
  {
   "cell_type": "markdown",
   "metadata": {},
   "source": [
    "## Графики"
   ]
  },
  {
   "cell_type": "markdown",
   "metadata": {},
   "source": [
    "оценка отношений/схожести среднего по всем регионам и значений в каждом регионе в разрезе продукта"
   ]
  },
  {
   "cell_type": "markdown",
   "metadata": {},
   "source": [
    "на основании этих данных формировались кластеры и выбиральсь существенно влиюящие праздники и диапазон влияния"
   ]
  },
  {
   "cell_type": "code",
   "execution_count": null,
   "metadata": {},
   "outputs": [],
   "source": [
    "def graph_research_products(inp_item, inp_oktmo = None, half = None):\n",
    "    print(inp_item)\n",
    "    \n",
    "    use_cols = ['oktmo', 'date'] + [inp_item]\n",
    "    Xsum = train[use_cols].groupby('date').sum().sort_values(by='date')\n",
    "    #fig = px.line(y = Xsum[inp_item], x = Xsum.index)\n",
    "    #fig.show()\n",
    "    \n",
    "    Xaver = train[use_cols].groupby('date').mean().sort_values(by='date')\n",
    "    \n",
    "    if inp_oktmo:\n",
    "        X = train[use_cols].query('oktmo == @inp_oktmo').sort_values(by='date')\n",
    "        fig = px.line(y = X[inp_item], x = X.date)#, title='region vs aver')\n",
    "        fig.add_scatter(y = Xaver[inp_item], x = Xaver.index, name = 'aver')\n",
    "        #fig.add_scatter(y = Xaver[inp_item], x = Xaver.index, name = 'aver')\n",
    "        fig.show()\n",
    "        \n",
    "        return\n",
    "    \n",
    "    if half == 0:\n",
    "        idx_oktmo = oktmo[:40]\n",
    "    elif half == 1:\n",
    "        idx_oktmo = oktmo[40:]\n",
    "    else:\n",
    "        idx_oktmo = oktmo\n",
    "        \n",
    "    #for reg_id in regs[0:10]:\n",
    "    for reg_id in idx_oktmo:\n",
    "        #if reg_id in except_reg:\n",
    "        #    continue\n",
    "            \n",
    "        print(str(reg_id), oktmo_names[reg_id])\n",
    "        \n",
    "        X = train[use_cols].query('oktmo == @reg_id').sort_values(by='date')\n",
    "        \n",
    "        #fig = px.box(x = Xaver.index)\n",
    "        fig = px.line(y = X[inp_item], x = X.date)#, title='region vs aver')\n",
    "        fig.add_scatter(y = Xaver[inp_item], x = Xaver.index, name = 'aver')\n",
    "        #fig.add_scatter(y = Xaver[inp_item], x = Xaver.index, name = 'aver')\n",
    "        fig.show()\n",
    "    \n",
    "    return"
   ]
  },
  {
   "cell_type": "code",
   "execution_count": null,
   "metadata": {},
   "outputs": [],
   "source": [
    "75-67"
   ]
  },
  {
   "cell_type": "code",
   "execution_count": null,
   "metadata": {
    "tags": []
   },
   "outputs": [],
   "source": [
    "#graph_research_products(items[-75], half = 1)\n",
    "graph_research_products('dt', half = 0)\n",
    "\n",
    "#graph_research_products(items[-28], 77000000000  )"
   ]
  },
  {
   "cell_type": "markdown",
   "metadata": {},
   "source": [
    "оценка отношений/схожести среднего по всем регионам и значений в каждом регионе в разрезе региона"
   ]
  },
  {
   "cell_type": "code",
   "execution_count": null,
   "metadata": {},
   "outputs": [],
   "source": [
    "def graph_research_region(inp_reg):\n",
    "    print(str(inp_reg), oktmo_names[inp_reg])\n",
    "    \n",
    "    Xaver = train.groupby('date').mean().sort_values(by='date')\n",
    "    X = train.query('oktmo == @inp_reg').sort_values(by='date')\n",
    "    print(X.head())\n",
    "    #for reg_id in regs[0:10]:\n",
    "    for prod in items:\n",
    "        print(str(prod))\n",
    "        #use_cols = ['oktmo', 'date'] + [prod]\n",
    "        \n",
    "        #Xaver = train[use_cols].groupby('date').mean().sort_values(by='date')\n",
    "        #X = train[use_cols].query('oktmo == @inp_reg').sort_values(by='date')\n",
    "        \n",
    "        #fig = px.box(x = Xaver.index)\n",
    "        fig = px.line(y = X[prod], x = X.date)#, title='region vs aver')\n",
    "        fig.add_scatter(y = Xaver[prod], x = Xaver.index, name = 'aver')\n",
    "        #fig.add_scatter(y = Xaver[inp_item], x = Xaver.index, name = 'aver')\n",
    "        fig.show()"
   ]
  },
  {
   "cell_type": "code",
   "execution_count": null,
   "metadata": {},
   "outputs": [],
   "source": [
    "graph_research_region(26000000000)"
   ]
  },
  {
   "cell_type": "code",
   "execution_count": null,
   "metadata": {},
   "outputs": [],
   "source": []
  },
  {
   "cell_type": "markdown",
   "metadata": {},
   "source": [
    "графики средних значений по всем продуктам"
   ]
  },
  {
   "cell_type": "code",
   "execution_count": null,
   "metadata": {},
   "outputs": [],
   "source": [
    "def graph_all_prod_aver():\n",
    "    \n",
    "    for prod in items:\n",
    "        print(str(prod))\n",
    "        use_cols = ['date'] + [prod]\n",
    "\n",
    "        Xaver = train[use_cols].groupby('date').mean().sort_values(by='date')\n",
    "\n",
    "        #fig = px.box(x = Xaver.index)\n",
    "        #fig = px.line(y = X[prod], x = X.date)#, title='region vs aver')\n",
    "        fig = px.line(y = Xaver[prod], x = Xaver.index)\n",
    "        #fig.add_scatter(y = Xaver[inp_item], x = Xaver.index, name = 'aver')\n",
    "        fig.show()"
   ]
  },
  {
   "cell_type": "code",
   "execution_count": null,
   "metadata": {},
   "outputs": [],
   "source": [
    "graph_all_prod_aver()"
   ]
  },
  {
   "cell_type": "code",
   "execution_count": null,
   "metadata": {},
   "outputs": [],
   "source": []
  },
  {
   "cell_type": "code",
   "execution_count": null,
   "metadata": {},
   "outputs": [],
   "source": []
  },
  {
   "cell_type": "code",
   "execution_count": null,
   "metadata": {},
   "outputs": [],
   "source": []
  },
  {
   "cell_type": "markdown",
   "metadata": {},
   "source": [
    "# Корреляция"
   ]
  },
  {
   "cell_type": "code",
   "execution_count": null,
   "metadata": {},
   "outputs": [],
   "source": [
    "%%time\n",
    "\n",
    "#!!!!! CATCH WARNING AS ERROR\n",
    "\n",
    "\n",
    "corr_df = pd.DataFrame(columns = ['region'] + list(items), index = oktmo)\n",
    "corr_df['region'] = corr_df.index.map(lambda x: oktmo_names[x])\n",
    "\n",
    "for el in items:\n",
    "\n",
    "    use_cols = ['oktmo', 'date'] + [el]\n",
    "    #Xsum = train[use_cols].groupby('date').sum().sort_values(by='date')\n",
    "    Xaver = train[use_cols].groupby('date').mean().sort_values(by='date')\n",
    "\n",
    "\n",
    "    for reg_id in oktmo:\n",
    "\n",
    "        X = train[use_cols].query('oktmo == @reg_id').sort_values(by='date')\n",
    "        corr_sp = sts.spearmanr(Xaver[el].values, \n",
    "                           X[el].values, \n",
    "                            axis = 1) \n",
    "        \n",
    "        corr_df.loc[reg_id, el] = corr_sp.correlation\n",
    "        \n"
   ]
  },
  {
   "cell_type": "code",
   "execution_count": null,
   "metadata": {},
   "outputs": [],
   "source": [
    "corr_df.drop(['region'], axis = 1)"
   ]
  },
  {
   "cell_type": "code",
   "execution_count": null,
   "metadata": {},
   "outputs": [],
   "source": []
  },
  {
   "cell_type": "code",
   "execution_count": null,
   "metadata": {},
   "outputs": [],
   "source": [
    "THRESHOLD = 0.1\n",
    "heat = corr_df.drop(['region'], axis = 1).copy()\n",
    "#for el in heat.columns:\n",
    "#     heat[el] = heat[el].map(lambda x: x if x < THRESHOLD else np.nan)"
   ]
  },
  {
   "cell_type": "code",
   "execution_count": null,
   "metadata": {},
   "outputs": [],
   "source": []
  },
  {
   "cell_type": "code",
   "execution_count": null,
   "metadata": {},
   "outputs": [],
   "source": [
    "#fig = px.imshow(corr_df.drop(['region'], axis = 1).values,\n",
    "fig = px.imshow(heat.values,\n",
    "               width=1200, height=1200\n",
    "               )\n",
    "#fig.update_layout(\n",
    "#    xaxis = dict(\n",
    "#        tickmode = 'array',\n",
    "#       tickvals = corr_df.drop(['region'], axis = 1).columns,\n",
    "#        ticktext = corr_df.drop(['region'], axis = 1).columns\n",
    "#   )\n",
    "#\n",
    "fig.show()"
   ]
  },
  {
   "cell_type": "code",
   "execution_count": null,
   "metadata": {},
   "outputs": [],
   "source": [
    "#corr_df"
   ]
  },
  {
   "cell_type": "raw",
   "metadata": {},
   "source": [
    "corr_df.to_excel(os.path.join(Path.cwd(), 'notes.xlsx'),\n",
    "                 sheet_name = 'corr')"
   ]
  },
  {
   "cell_type": "markdown",
   "metadata": {},
   "source": [
    "Сохраним некоторые статистики в excel"
   ]
  },
  {
   "cell_type": "markdown",
   "metadata": {},
   "source": [
    "!!! файл notes.xlsx пересоздается здесь"
   ]
  },
  {
   "cell_type": "code",
   "execution_count": null,
   "metadata": {},
   "outputs": [],
   "source": [
    "with pd.ExcelWriter(os.path.join(Path.cwd(), 'notes.xlsx'), engine=\"openpyxl\") as writer:  \n",
    "    corr_df.to_excel(writer,\n",
    "                 sheet_name = 'corr')\n",
    "    "
   ]
  },
  {
   "cell_type": "code",
   "execution_count": null,
   "metadata": {},
   "outputs": [],
   "source": []
  },
  {
   "cell_type": "markdown",
   "metadata": {},
   "source": [
    "если не пересоздаем файл, требуется его загрузка для дальнейших опеаций с ним"
   ]
  },
  {
   "cell_type": "code",
   "execution_count": null,
   "metadata": {},
   "outputs": [],
   "source": [
    "corr_df = pd.read_excel(os.path.join(Path.cwd(), 'notes.xlsx'), sheet_name = 'corr', index_col = 0)"
   ]
  },
  {
   "cell_type": "code",
   "execution_count": null,
   "metadata": {},
   "outputs": [],
   "source": [
    "corr_df.drop(['region'], axis = 1).values"
   ]
  },
  {
   "cell_type": "code",
   "execution_count": null,
   "metadata": {},
   "outputs": [],
   "source": [
    "#sum(corr_df.drop(['region'], axis = 1) < 0.6)"
   ]
  },
  {
   "cell_type": "code",
   "execution_count": null,
   "metadata": {},
   "outputs": [],
   "source": [
    "corr_df.pasta.shape"
   ]
  },
  {
   "cell_type": "code",
   "execution_count": null,
   "metadata": {},
   "outputs": [],
   "source": [
    "sum(sum(corr_df.drop(['region', 'weekday'], axis = 1).values < 0.4))"
   ]
  },
  {
   "cell_type": "code",
   "execution_count": null,
   "metadata": {},
   "outputs": [],
   "source": []
  },
  {
   "cell_type": "code",
   "execution_count": null,
   "metadata": {},
   "outputs": [],
   "source": []
  },
  {
   "cell_type": "markdown",
   "metadata": {},
   "source": [
    "### Нули"
   ]
  },
  {
   "cell_type": "code",
   "execution_count": null,
   "metadata": {},
   "outputs": [],
   "source": [
    "%%time\n",
    "ttl = len(train.date.unique())\n",
    "\n",
    "zeros_df = pd.DataFrame(columns = ['region'] + list(items), index = oktmo)\n",
    "zeros_df['region'] = zeros_df.index.map(lambda x: oktmo_names[x])\n",
    "\n",
    "for item, el in product(items, oktmo):\n",
    "    #zeros_values = train.query('oktmo == @el and @item == 0').pasta.shape[0]\n",
    "    zeros_values = sum(train.query('oktmo == @el')[item] == 0)\n",
    "    zeros_df.loc[el, item] = zeros_values/ttl\n",
    "    #if zeros_values > 0:\n",
    "    #    print(f'{zeros_values/ttl:.04f}', oktmo_names[el])\n",
    "    #break"
   ]
  },
  {
   "cell_type": "code",
   "execution_count": null,
   "metadata": {},
   "outputs": [],
   "source": [
    "fig = px.imshow(zeros_df.drop(['region'], axis = 1).values,\n",
    "               width=1200, height=1200,\n",
    "               )\n",
    "#fig.update_xaxes(col = zeros_df.region)\n",
    "fig.show()"
   ]
  },
  {
   "cell_type": "raw",
   "metadata": {},
   "source": [
    "#zeros_df.to_csv(os.path.join(PATH_DATA, 'train_orig.csv'))\n",
    "zeros_df.to_excel(os.path.join(Path.cwd(), 'notes.xlsx'),\n",
    "                 sheet_name = 'zeros')"
   ]
  },
  {
   "cell_type": "code",
   "execution_count": null,
   "metadata": {},
   "outputs": [],
   "source": [
    "with pd.ExcelWriter(os.path.join(Path.cwd(), 'notes.xlsx'), mode='a', engine=\"openpyxl\") as writer:  \n",
    "    zeros_df.to_excel(writer,\n",
    "                 sheet_name = 'zeros')"
   ]
  },
  {
   "cell_type": "code",
   "execution_count": null,
   "metadata": {},
   "outputs": [],
   "source": []
  },
  {
   "cell_type": "code",
   "execution_count": null,
   "metadata": {},
   "outputs": [],
   "source": []
  },
  {
   "cell_type": "raw",
   "metadata": {},
   "source": [
    "for id in range(20, 30):\n",
    "    use_cols = ['region', 'date'] + [items[id]]\n",
    "    print(items[id])\n",
    "    X = X = train[use_cols].groupby('date').sum().sort_values(by='date')\n",
    "\n",
    "    fig = px.line(y = X[items[id]], x = X.index)\n",
    "    #fig = px.line(y = X[items[id]], x = X.date)\n",
    "    #fig.add_scatter(y = X.pasta, x = X.date, mode='lines')\n",
    "    fig.show()"
   ]
  },
  {
   "cell_type": "code",
   "execution_count": null,
   "metadata": {},
   "outputs": [],
   "source": []
  },
  {
   "cell_type": "code",
   "execution_count": null,
   "metadata": {},
   "outputs": [],
   "source": []
  },
  {
   "cell_type": "markdown",
   "metadata": {},
   "source": [
    "### Пропуски в датах"
   ]
  },
  {
   "cell_type": "code",
   "execution_count": null,
   "metadata": {},
   "outputs": [],
   "source": [
    "el = 71000000000"
   ]
  },
  {
   "cell_type": "code",
   "execution_count": null,
   "metadata": {},
   "outputs": [],
   "source": [
    "train.query('oktmo == @el')['pasta'].dropna().shape"
   ]
  },
  {
   "cell_type": "raw",
   "metadata": {},
   "source": [
    "преобразовать в dataframe. считать null"
   ]
  },
  {
   "cell_type": "code",
   "execution_count": null,
   "metadata": {},
   "outputs": [],
   "source": [
    "%%time\n",
    "ttl = len(train.date.unique())\n",
    "\n",
    "na_df = pd.DataFrame(columns = ['region'] + list(items), index = oktmo)\n",
    "na_df['region'] = na_df.index.map(lambda x: oktmo_names[x])\n",
    "\n",
    "for item, el in product(items, oktmo):\n",
    "    #na_values = sum(train.query('oktmo == @el')[item] == 0)\n",
    "    na_values = ttl - train.query('oktmo == @el')[item].dropna().shape[0]\n",
    "    na_df.loc[el, item] = na_values/ttl\n"
   ]
  },
  {
   "cell_type": "code",
   "execution_count": null,
   "metadata": {},
   "outputs": [],
   "source": [
    "fig = px.imshow(na_df.drop(['region'], axis = 1).values,\n",
    "               width=1200, height=1200)\n",
    "\n",
    "fig.show()"
   ]
  },
  {
   "cell_type": "code",
   "execution_count": null,
   "metadata": {},
   "outputs": [],
   "source": []
  },
  {
   "cell_type": "code",
   "execution_count": null,
   "metadata": {},
   "outputs": [],
   "source": [
    "with pd.ExcelWriter(os.path.join(Path.cwd(), 'notes.xlsx'), mode='a', engine=\"openpyxl\") as writer:  \n",
    "    na_df.to_excel(writer,\n",
    "                 sheet_name = 'na')"
   ]
  },
  {
   "cell_type": "code",
   "execution_count": null,
   "metadata": {},
   "outputs": [],
   "source": []
  },
  {
   "cell_type": "code",
   "execution_count": null,
   "metadata": {},
   "outputs": [],
   "source": []
  },
  {
   "cell_type": "code",
   "execution_count": null,
   "metadata": {},
   "outputs": [],
   "source": []
  },
  {
   "cell_type": "markdown",
   "metadata": {},
   "source": [
    "# Посмотрим на Ej (ошибку) модели, сформированную на последующих этапах."
   ]
  },
  {
   "cell_type": "markdown",
   "metadata": {},
   "source": [
    "на основании данных карт величин ошибок выбираются ряды, вносящие наиболее существенное влияние и для них строятся отдельные модели.    \n",
    "идея в том, что бы не строить отдельные модели для всех рядов, а только для наиболее выделяющихся.    \n",
    "для остальных - \"кластеризация\" и отдельная модель для каждого кластера."
   ]
  },
  {
   "cell_type": "code",
   "execution_count": null,
   "metadata": {},
   "outputs": [],
   "source": [
    "ej = pd.read_csv(os.path.join(PATH_DATA, 'ej_full.csv'), index_col = 0)"
   ]
  },
  {
   "cell_type": "code",
   "execution_count": null,
   "metadata": {},
   "outputs": [],
   "source": [
    "fig = px.imshow(ej.values,\n",
    "               width=1200, height=1200\n",
    "               )\n",
    "fig.show()"
   ]
  },
  {
   "cell_type": "code",
   "execution_count": null,
   "metadata": {},
   "outputs": [],
   "source": []
  },
  {
   "cell_type": "code",
   "execution_count": null,
   "metadata": {},
   "outputs": [],
   "source": [
    "#ej_p = pd.read_csv(os.path.join(PATH_DATA, 'ej_part.csv'), index_col = 0)\n",
    "ej_p = pd.read_csv(os.path.join(PATH_DATA, 'ej_gr.csv'), index_col = 0)"
   ]
  },
  {
   "cell_type": "code",
   "execution_count": null,
   "metadata": {},
   "outputs": [],
   "source": [
    "fig = px.imshow(ej_p.values,\n",
    "               width=1200, height=1200\n",
    "               )\n",
    "fig.show()"
   ]
  },
  {
   "cell_type": "code",
   "execution_count": null,
   "metadata": {},
   "outputs": [],
   "source": []
  },
  {
   "cell_type": "code",
   "execution_count": null,
   "metadata": {},
   "outputs": [],
   "source": [
    "#THRESHOLD = 55.55555555\n",
    "\n",
    "THRESHOLD = 100\n",
    "heat = ej_p.copy()\n",
    "tt = ej_p.copy()\n",
    "for el in heat.columns:\n",
    "    heat[el] = heat[el].map(lambda x: x if x > THRESHOLD else np.nan)\n",
    "    tt[el] = tt[el].map(lambda x: 1 if x > THRESHOLD else 0)\n",
    "     \n",
    "print(np.sum(tt.sum()))\n",
    "#fig = px.imshow(ej_p.values,\n",
    "fig = px.imshow(heat.values,\n",
    "               width=1200, height=1200\n",
    "               )\n",
    "fig.show()"
   ]
  },
  {
   "cell_type": "code",
   "execution_count": null,
   "metadata": {},
   "outputs": [],
   "source": [
    "ej_p"
   ]
  },
  {
   "cell_type": "code",
   "execution_count": null,
   "metadata": {},
   "outputs": [],
   "source": []
  }
 ],
 "metadata": {
  "kernelspec": {
   "display_name": "Python 3",
   "language": "python",
   "name": "python3"
  },
  "language_info": {
   "codemirror_mode": {
    "name": "ipython",
    "version": 3
   },
   "file_extension": ".py",
   "mimetype": "text/x-python",
   "name": "python",
   "nbconvert_exporter": "python",
   "pygments_lexer": "ipython3",
   "version": "3.7.10"
  }
 },
 "nbformat": 4,
 "nbformat_minor": 4
}
