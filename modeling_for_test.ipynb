{
 "cells": [
  {
   "cell_type": "code",
   "execution_count": null,
   "metadata": {},
   "outputs": [],
   "source": [
    "import os\n",
    "\n",
    "import pandas as pd\n",
    "import numpy as np\n",
    "from pathlib import Path\n",
    "import plotly.express as px\n",
    "import plotly.graph_objects as go\n",
    "\n",
    "from tqdm import tqdm"
   ]
  },
  {
   "cell_type": "code",
   "execution_count": null,
   "metadata": {},
   "outputs": [],
   "source": [
    "from sklearn.metrics import mean_absolute_error"
   ]
  },
  {
   "cell_type": "code",
   "execution_count": null,
   "metadata": {},
   "outputs": [],
   "source": [
    "from prophet import Prophet\n",
    "from prophet.plot import add_changepoints_to_plot"
   ]
  },
  {
   "cell_type": "code",
   "execution_count": null,
   "metadata": {},
   "outputs": [],
   "source": [
    "from oktmo_names import oktmo_names_decode as oktmo_names"
   ]
  },
  {
   "cell_type": "code",
   "execution_count": null,
   "metadata": {},
   "outputs": [],
   "source": [
    "from pylab import rcParams\n",
    "rcParams['figure.figsize'] = 22, 7"
   ]
  },
  {
   "cell_type": "code",
   "execution_count": null,
   "metadata": {},
   "outputs": [],
   "source": [
    "#%pylab inline"
   ]
  },
  {
   "cell_type": "code",
   "execution_count": null,
   "metadata": {},
   "outputs": [],
   "source": [
    "PATH_DATA = os.path.join(Path.cwd(), 'data')\n",
    "PATH_SUBM = os.path.join(Path.cwd(), 'submissions')"
   ]
  },
  {
   "cell_type": "code",
   "execution_count": null,
   "metadata": {},
   "outputs": [],
   "source": []
  },
  {
   "cell_type": "code",
   "execution_count": null,
   "metadata": {},
   "outputs": [],
   "source": []
  },
  {
   "cell_type": "markdown",
   "metadata": {},
   "source": [
    "Read train data. Set type of all columns to float."
   ]
  },
  {
   "cell_type": "code",
   "execution_count": null,
   "metadata": {},
   "outputs": [],
   "source": [
    "data2 = pd.read_csv(os.path.join(PATH_DATA, 'train.csv'),\n",
    "                    sep = ';',\n",
    "                    parse_dates=['date'],\n",
    "                    infer_datetime_format=True,\n",
    "                    decimal = ',',\n",
    "                    thousands='\\xa0',\n",
    "                    engine='python',\n",
    "                   )\n",
    "\n",
    "items = data2.columns.drop(['region', 'oktmo', 'okato', 'date'])\n",
    "for el in items:\n",
    "    data2[el] = data2[el].astype(float)\n",
    "    \n",
    "data2.shape"
   ]
  },
  {
   "cell_type": "code",
   "execution_count": null,
   "metadata": {},
   "outputs": [],
   "source": []
  },
  {
   "cell_type": "code",
   "execution_count": null,
   "metadata": {},
   "outputs": [],
   "source": [
    "dt = np.datetime64('2020-10-31')"
   ]
  },
  {
   "cell_type": "code",
   "execution_count": null,
   "metadata": {},
   "outputs": [],
   "source": [
    "train_df = data2.query('date <= @dt')\n",
    "train_df.shape"
   ]
  },
  {
   "cell_type": "code",
   "execution_count": null,
   "metadata": {},
   "outputs": [],
   "source": [
    "test_df = data2.query('date > @dt')\n",
    "test_df.shape"
   ]
  },
  {
   "cell_type": "code",
   "execution_count": null,
   "metadata": {},
   "outputs": [],
   "source": [
    "data2.date.max() - test_df.date.min(), test_df.date.min() - data2.date.min()"
   ]
  },
  {
   "cell_type": "code",
   "execution_count": null,
   "metadata": {},
   "outputs": [],
   "source": []
  },
  {
   "cell_type": "code",
   "execution_count": null,
   "metadata": {},
   "outputs": [],
   "source": []
  },
  {
   "cell_type": "markdown",
   "metadata": {},
   "source": [
    "Get aver over all oktmo (except Ingush in set)"
   ]
  },
  {
   "cell_type": "code",
   "execution_count": null,
   "metadata": {},
   "outputs": [],
   "source": [
    "def get_aver(inp_prod, inp_df, ignore_Ingush = True):\n",
    "    \n",
    "    if ignore_Ingush:\n",
    "        use_cols = ['date', inp_prod, 'oktmo']\n",
    "        #ignore_oktmo = oktmo_names[26000000000]\n",
    "        ignore_oktmo = 26000000000\n",
    "        return inp_df[use_cols].query('oktmo != @ignore_oktmo')[['date', inp_prod]].groupby('date').mean().sort_values(by='date')\n",
    "    \n",
    "    use_cols = ['date', inp_prod]        \n",
    "    return inp_df[use_cols].groupby('date').mean().sort_values(by='date')"
   ]
  },
  {
   "cell_type": "markdown",
   "metadata": {},
   "source": [
    "Calculate deviation from aver over all oktmo over all products"
   ]
  },
  {
   "cell_type": "code",
   "execution_count": null,
   "metadata": {},
   "outputs": [],
   "source": [
    "def calculate_deviation_v2(inp_prod, inp_df):\n",
    "    \n",
    "    aver = get_aver(inp_prod, inp_df, True)\n",
    "    \n",
    "    deviation = {el: 0 for el in inp_df.oktmo.unique()}\n",
    "    devider_const = inp_df.query('oktmo == @inp_df.oktmo.unique()[0]').shape[0]\n",
    "\n",
    "    for reg in inp_df.oktmo.unique():\n",
    "        devider = devider_const\n",
    "        for idx in inp_df.query('oktmo == @reg').index:\n",
    "            if inp_df.loc[idx, inp_prod] > 0:\n",
    "                deviation[reg] += (inp_df.loc[idx, inp_prod] - aver.loc[inp_df.loc[idx, 'date']].values[0])\n",
    "                #deviation[reg] += (inp_df.loc[idx, inp_prod] / aver.loc[inp_df.loc[idx, 'date']].values[0])\n",
    "            else:\n",
    "                devider -= 1\n",
    "                \n",
    "        if devider != 0: \n",
    "            deviation[reg] = deviation[reg] / devider\n",
    "        else:\n",
    "            deviation[reg] = 0\n",
    "            \n",
    "    return deviation"
   ]
  },
  {
   "cell_type": "code",
   "execution_count": null,
   "metadata": {},
   "outputs": [],
   "source": [
    "holidays.reset_index(inplace = True)"
   ]
  },
  {
   "cell_type": "code",
   "execution_count": null,
   "metadata": {},
   "outputs": [],
   "source": [
    "holidays.loc[el, 'lower_window']"
   ]
  },
  {
   "cell_type": "code",
   "execution_count": null,
   "metadata": {},
   "outputs": [],
   "source": [
    "holiday_except = list()\n",
    "#one_day = np.da\n",
    "for el in holidays.index:\n",
    "    cur_date = holidays.loc[el, 'ds']\n",
    "    for before in range(abs(holidays.loc[el, 'lower_window'])):\n",
    "        holiday_except.append(cur_date - before * np.timedelta64(1,'D'))\n",
    "    \n",
    "    for after in range(abs(holidays.loc[el, 'upper_window'])):\n",
    "        holiday_except.append(cur_date + after * np.timedelta64(1,'D'))"
   ]
  },
  {
   "cell_type": "code",
   "execution_count": null,
   "metadata": {},
   "outputs": [],
   "source": [
    "holiday_except = set(holiday_except)"
   ]
  },
  {
   "cell_type": "code",
   "execution_count": null,
   "metadata": {},
   "outputs": [],
   "source": [
    "#holiday_except"
   ]
  },
  {
   "cell_type": "code",
   "execution_count": null,
   "metadata": {},
   "outputs": [],
   "source": [
    "def calculate_deviation_v3(inp_prod, inp_df):\n",
    "    \n",
    "    aver = get_aver(inp_prod, inp_df, True)\n",
    "    \n",
    "    deviation = {el: 0 for el in inp_df.oktmo.unique()}\n",
    "    devider_const = inp_df.query('oktmo == @inp_df.oktmo.unique()[0]').shape[0]\n",
    "\n",
    "    for reg in inp_df.oktmo.unique():\n",
    "        devider = devider_const\n",
    "        for idx in inp_df.query('oktmo == @reg').index:\n",
    "            if inp_df.loc[idx, inp_prod] > 0 and (inp_df.loc[idx, 'date'] not in holiday_except):\n",
    "                deviation[reg] += (inp_df.loc[idx, inp_prod] - aver.loc[inp_df.loc[idx, 'date']].values[0])\n",
    "                #deviation[reg] += (inp_df.loc[idx, inp_prod] / aver.loc[inp_df.loc[idx, 'date']].values[0])\n",
    "            else:\n",
    "                devider -= 1\n",
    "                \n",
    "        if devider != 0: \n",
    "            deviation[reg] = deviation[reg] / devider\n",
    "        else:\n",
    "            deviation[reg] = 0\n",
    "            \n",
    "    return deviation"
   ]
  },
  {
   "cell_type": "code",
   "execution_count": null,
   "metadata": {},
   "outputs": [],
   "source": [
    "#train_df.loc[7, 'date']"
   ]
  },
  {
   "cell_type": "code",
   "execution_count": null,
   "metadata": {},
   "outputs": [],
   "source": [
    "oktmo = data2.oktmo.unique()\n",
    "deviation_df = pd.DataFrame(columns = list(items), index = oktmo)"
   ]
  },
  {
   "cell_type": "code",
   "execution_count": null,
   "metadata": {
    "tags": []
   },
   "outputs": [],
   "source": [
    "for itm in tqdm(items):\n",
    "    #temp = calculate_deviation_v3(itm, train_df)\n",
    "    temp = calculate_deviation_v2(itm, data2)\n",
    "    for el in temp.keys():\n",
    "        deviation_df.loc[el, itm] = temp[el]\n",
    "        \n",
    "        "
   ]
  },
  {
   "cell_type": "code",
   "execution_count": null,
   "metadata": {},
   "outputs": [],
   "source": [
    "deviation_df.head()"
   ]
  },
  {
   "cell_type": "code",
   "execution_count": null,
   "metadata": {},
   "outputs": [],
   "source": []
  },
  {
   "cell_type": "code",
   "execution_count": null,
   "metadata": {},
   "outputs": [],
   "source": [
    "deviation_df.to_csv(os.path.join(PATH_DATA, 'deviation_sum_nz_nh_full.csv'))\n",
    "#deviation_df.to_csv(os.path.join(PATH_DATA, 'deviation_mult_nz.csv'))"
   ]
  },
  {
   "cell_type": "code",
   "execution_count": null,
   "metadata": {},
   "outputs": [],
   "source": []
  },
  {
   "cell_type": "code",
   "execution_count": null,
   "metadata": {},
   "outputs": [],
   "source": [
    "if os.path.exists(os.path.join(PATH_DATA, 'deviation_sum_nz_nh_part.csv')):\n",
    "    deviation_df = pd.read_csv(os.path.join(PATH_DATA, 'deviation_sum_nz_part.csv'),\n",
    "#if os.path.exists(os.path.join(PATH_DATA, 'deviation_mult_nz.csv')):\n",
    "    #deviation_df = pd.read_csv(os.path.join(PATH_DATA, 'deviation_mult_nz.csv'),\n",
    "                              index_col = 0,\n",
    "                              )"
   ]
  },
  {
   "cell_type": "code",
   "execution_count": null,
   "metadata": {},
   "outputs": [],
   "source": []
  },
  {
   "cell_type": "code",
   "execution_count": null,
   "metadata": {},
   "outputs": [],
   "source": []
  },
  {
   "cell_type": "markdown",
   "metadata": {},
   "source": [
    "Make future dates from 01.04.2021 to 30.06.2021 "
   ]
  },
  {
   "cell_type": "code",
   "execution_count": null,
   "metadata": {},
   "outputs": [],
   "source": [
    "X = get_aver('fruit_value', train_df)\n",
    "X = X.reset_index()[['date', 'fruit_value']]\n",
    "X.columns=['ds', 'y']"
   ]
  },
  {
   "cell_type": "code",
   "execution_count": null,
   "metadata": {},
   "outputs": [],
   "source": [
    "model = Prophet(yearly_seasonality=True, daily_seasonality=True)\n",
    "model.fit(X)"
   ]
  },
  {
   "cell_type": "code",
   "execution_count": null,
   "metadata": {},
   "outputs": [],
   "source": [
    "future = model.make_future_dataframe(periods = test_df.date.unique().shape[0])\n",
    "future = future[train_df.date.unique().shape[0]:]"
   ]
  },
  {
   "cell_type": "code",
   "execution_count": null,
   "metadata": {},
   "outputs": [],
   "source": []
  },
  {
   "cell_type": "markdown",
   "metadata": {},
   "source": [
    "Make models (without saving) and submissions"
   ]
  },
  {
   "cell_type": "markdown",
   "metadata": {},
   "source": [
    "Для каждого прогнозируемого показателя (столбца) рассчитывается его среднее значение v_mean j  и значение метрики MAE: v_mae j   \n",
    "Для каждого показателя вычисляется отношение   \n",
    "E j  = v_mae j  / v_mean j    \n",
    "Рассчитывается среднее значение E среди всех столбцов    \n",
    "E_mean = 1 / n * sum(E j )   \n",
    "Берется обратная величина и делится на константу 1000   \n",
    "score = 1 / (1000 * E_mean)   "
   ]
  },
  {
   "cell_type": "code",
   "execution_count": null,
   "metadata": {
    "tags": []
   },
   "outputs": [],
   "source": [
    "ej = list()\n",
    "for itm in tqdm(items):\n",
    "    train = get_aver(itm, train_df)\n",
    "    X = train.reset_index()[['date', itm]]#.columns = ['ds', 'y']\n",
    "    X.columns=['ds', 'y']\n",
    "    \n",
    "    model = Prophet(yearly_seasonality=True, daily_seasonality=True,\n",
    "                    seasonality_mode='multiplicative',  # hz. future firecast more sharp\n",
    "                    #changepoint_prior_scale=0.01,   # 0.1 - 0.15 looks adequately\n",
    "                    holidays = holidays,\n",
    "                    #changepoints=['2020-09-23', '2020-03-09', '2020-10-26'],\n",
    "                   )\n",
    "    #model.add_country_holidays(country_name='RUS')\n",
    "    model.fit(X)\n",
    "    \n",
    "    forecast = model.predict(future)\n",
    "    \n",
    "    for reg in oktmo:\n",
    "        mult = deviation_df.loc[reg, itm]\n",
    "        #val = forecast.yhat.values + mult\n",
    "        #val = list(map(lambda x: x if x >=0 else 0, val))\n",
    "        v_mae_j  = mean_absolute_error( test_df.loc[test_df.oktmo == reg, itm], forecast.yhat.values + mult)\n",
    "        #v_mae_j  = mean_absolute_error( test_df.loc[test_df.oktmo == reg, itm], forecast.yhat.values * mult)\n",
    "        #v_mae_j  = mean_absolute_error( test_df.loc[test_df.oktmo == reg, itm], val)\n",
    "        v_mean_j  = np.mean(forecast.yhat.values + mult)\n",
    "        ej.append(v_mae_j / v_mean_j)"
   ]
  },
  {
   "cell_type": "code",
   "execution_count": null,
   "metadata": {},
   "outputs": [],
   "source": [
    "e_mean = np.mean(ej)\n",
    "score  = 1 / (1000 * e_mean)"
   ]
  },
  {
   "cell_type": "code",
   "execution_count": null,
   "metadata": {},
   "outputs": [],
   "source": [
    "print(score, e_mean)"
   ]
  },
  {
   "cell_type": "code",
   "execution_count": null,
   "metadata": {},
   "outputs": [],
   "source": [
    "0.003645681214459922 0.27429715906966423"
   ]
  },
  {
   "cell_type": "code",
   "execution_count": null,
   "metadata": {},
   "outputs": [],
   "source": []
  },
  {
   "cell_type": "code",
   "execution_count": null,
   "metadata": {},
   "outputs": [],
   "source": []
  },
  {
   "cell_type": "code",
   "execution_count": null,
   "metadata": {},
   "outputs": [],
   "source": []
  },
  {
   "cell_type": "markdown",
   "metadata": {},
   "source": [
    "# below this level - trash. do not used"
   ]
  },
  {
   "cell_type": "code",
   "execution_count": null,
   "metadata": {},
   "outputs": [],
   "source": []
  },
  {
   "cell_type": "code",
   "execution_count": null,
   "metadata": {},
   "outputs": [],
   "source": [
    "train = get_aver('fruit_value', data2)\n",
    "train.shape"
   ]
  },
  {
   "cell_type": "code",
   "execution_count": null,
   "metadata": {},
   "outputs": [],
   "source": [
    "train.head()"
   ]
  },
  {
   "cell_type": "code",
   "execution_count": null,
   "metadata": {},
   "outputs": [],
   "source": [
    "train.fruit_value.plot()"
   ]
  },
  {
   "cell_type": "code",
   "execution_count": null,
   "metadata": {},
   "outputs": [],
   "source": []
  },
  {
   "cell_type": "code",
   "execution_count": null,
   "metadata": {},
   "outputs": [],
   "source": []
  },
  {
   "cell_type": "code",
   "execution_count": null,
   "metadata": {},
   "outputs": [],
   "source": [
    "X = train.reset_index()[['date', 'fruit_value']]#.columns = ['ds', 'y']\n",
    "X.columns=['ds', 'y']\n",
    "X.head()"
   ]
  },
  {
   "cell_type": "code",
   "execution_count": null,
   "metadata": {},
   "outputs": [],
   "source": []
  },
  {
   "cell_type": "code",
   "execution_count": null,
   "metadata": {},
   "outputs": [],
   "source": [
    "NY =  pd.DataFrame({\n",
    "  'holiday': 'new year',\n",
    "  'ds': pd.to_datetime(['2019-01-01', '2020-01-01', '2021-01-01', '2022-01-01']),\n",
    "  'lower_window': -7,  # 7 days before holiday affect on values\n",
    "  'upper_window': 12, # 12 days after holiday affect on values\n",
    "})\n",
    "\n",
    "#= pd.DataFrame({\n",
    "#  'holiday': '',\n",
    "#  'ds': pd.to_datetime([]),\n",
    "# 'lower_window': ,  #  days before holiday affect on values\n",
    "#  'upper_window': , #  days after holiday affect on values\n",
    "#})\n",
    "\n",
    "feb14 = pd.DataFrame({\n",
    "  'holiday': 'valentines day',\n",
    "  'ds': pd.to_datetime(['2019-02-14', '2020-02-14', '2021-02-14', '2022-02-14']),\n",
    "  'lower_window': -1,  # 1 days before holiday affect on values\n",
    "  'upper_window': 1,  # 1 days after holiday affect on values\n",
    "})\n",
    "\n",
    "feb23 = pd.DataFrame({\n",
    "  'holiday': 'defender of the fatherland day',\n",
    "  'ds': pd.to_datetime(['2019-02-23', '2020-02-23', '2021-02-23', '2022-02-23']),\n",
    "  'lower_window': -5,  # 5 days before holiday affect on values\n",
    "  'upper_window': 3,  # 3 days after holiday affect on values\n",
    "})\n",
    "\n",
    "march8 = pd.DataFrame({\n",
    "  'holiday': 'womens day',\n",
    "  'ds': pd.to_datetime(['2019-03-08', '2020-03-08', '2021-03-08', '2022-03-08']),\n",
    "  'lower_window': -3,  # 3 days before holiday affect on values\n",
    "  'upper_window': 1,  # 1 days after holiday affect on values\n",
    "})\n",
    "\n",
    "easter = pd.DataFrame({\n",
    "  'holiday': 'easter',\n",
    "  'ds': pd.to_datetime(['2019-04-28', '2020-04-19', '2021-05-02', '2022-04-24']),\n",
    "  'lower_window': -4,  # 4 days before holiday affect on values\n",
    "  'upper_window': 1,  # 1 days after holiday affect on values\n",
    "})\n",
    "\n",
    "\n",
    "may1 = pd.DataFrame({\n",
    "  'holiday': 'labor day',\n",
    "  'ds': pd.to_datetime(['2019-05-10', '2020-05-01', '2021-05-01', '2022-05-01']),\n",
    "  'lower_window': -1,  # 1 days before holiday affect on values\n",
    "  'upper_window': 6,  # 6 days after holiday affect on values\n",
    "})\n",
    "\n",
    "may9 = pd.DataFrame({\n",
    "  'holiday': 'v-day',\n",
    "  #'ds': pd.to_datetime(['2019-05-09', '2020-05-09', '2021-05-09', '2022-05-09']),\n",
    "  'ds': pd.to_datetime(['2019-05-09', '2021-05-09', '2022-05-09']), #???????????????????????????\n",
    "  'lower_window': -3,  # 3 days before holiday affect on values\n",
    "  'upper_window': 2,  # 2 days after holiday affect on values\n",
    "})\n",
    "\n",
    "russia_day = pd.DataFrame({\n",
    "  'holiday': 'russia day',\n",
    "  'ds': pd.to_datetime(['2019-06-12', '2020-06-12', '2021-06-12', '2022-06-12']),\n",
    "  'lower_window': -3,  # 3 days before holiday affect on values\n",
    "  'upper_window': 3,  # 3 days after holiday affect on values\n",
    "})\n",
    "\n",
    "teachers_day = pd.DataFrame({\n",
    "  'holiday': 'teachers day',\n",
    "  'ds': pd.to_datetime(['2019-10-05', '2020-10-05', '2021-10-05', '2022-10-05']),\n",
    "  'lower_window': -1,  # 1 days before holiday affect on values\n",
    "  'upper_window': 0,  # 0 days after holiday affect on values\n",
    "})\n",
    "\n",
    "national_unity_day = pd.DataFrame({\n",
    "  'holiday': 'national unity day',\n",
    "  'ds': pd.to_datetime(['2019-11-04', '2020-11-04', '2021-11-04', '2021-11-04']),\n",
    "  'lower_window': -1,  #  days before holiday affect on values\n",
    "  'upper_window': 0, #  days after holiday affect on values\n",
    "})"
   ]
  },
  {
   "cell_type": "code",
   "execution_count": null,
   "metadata": {},
   "outputs": [],
   "source": [
    "holidays = pd.concat((NY, feb14, feb23, march8, easter, may1, may9, russia_day, teachers_day, national_unity_day))\n",
    "#holidays.reset_index(inplace = True)"
   ]
  },
  {
   "cell_type": "code",
   "execution_count": null,
   "metadata": {},
   "outputs": [],
   "source": [
    "model = Prophet(\n",
    "                #seasonality_mode='multiplicative',\n",
    "                daily_seasonality=True,\n",
    "               )\n",
    "\n",
    "model2 = Prophet(holidays = holidays,\n",
    "                 yearly_seasonality=True,\n",
    "                #seasonality_mode='multiplicative',  # hz. future firecast more sharp\n",
    "                changepoint_prior_scale=0.5,   # 0.1 - 0.15 looks adequately\n",
    "                #growth='logistic',\n",
    "                changepoints=['2020-09-23', '2020-03-09', '2020-10-26'], \n",
    "                daily_seasonality=True,\n",
    "                #holidays_prior_scale = 50,\n",
    "               )\n",
    "\n",
    "model2.add_country_holidays(country_name='RUS')"
   ]
  },
  {
   "cell_type": "code",
   "execution_count": null,
   "metadata": {},
   "outputs": [],
   "source": [
    "#model.fit(X)\n",
    "model2.fit(X)"
   ]
  },
  {
   "cell_type": "code",
   "execution_count": null,
   "metadata": {},
   "outputs": [],
   "source": [
    "future = model2.make_future_dataframe(periods=91)\n",
    "#print(future.shape)\n",
    "#future = future[821:]"
   ]
  },
  {
   "cell_type": "code",
   "execution_count": null,
   "metadata": {},
   "outputs": [],
   "source": [
    "#forecast = model.predict(future)\n",
    "forecast2 = model2.predict(future)"
   ]
  },
  {
   "cell_type": "code",
   "execution_count": null,
   "metadata": {},
   "outputs": [],
   "source": [
    "model2.holidays_prior_scale"
   ]
  },
  {
   "cell_type": "code",
   "execution_count": null,
   "metadata": {},
   "outputs": [],
   "source": [
    "#dir(model2)"
   ]
  },
  {
   "cell_type": "code",
   "execution_count": null,
   "metadata": {},
   "outputs": [],
   "source": [
    "fig12 = model2.plot(forecast2, figsize = (22, 7))\n",
    "#a=add_changepoints_to_plot(fig1.gca(),model,forecast)"
   ]
  },
  {
   "cell_type": "code",
   "execution_count": null,
   "metadata": {},
   "outputs": [],
   "source": [
    "fig12 = model2.plot(forecast2, figsize = (22, 7))"
   ]
  },
  {
   "cell_type": "code",
   "execution_count": null,
   "metadata": {},
   "outputs": [],
   "source": []
  },
  {
   "cell_type": "code",
   "execution_count": null,
   "metadata": {},
   "outputs": [],
   "source": [
    "fig = px.line(y = Xfull.fruit, x = Xfull.index)\n",
    "#fig.add_scatter(px.line(Xtrue))\n",
    "fig.add_trace(go.Scatter(y = Xtrue.fruit, x = Xtrue.index))\n",
    "fig.add_trace(go.Scatter(y = Xtrue.fruit, x = Xtrue.index))\n",
    "fig.show()\n"
   ]
  },
  {
   "cell_type": "code",
   "execution_count": null,
   "metadata": {},
   "outputs": [],
   "source": []
  },
  {
   "cell_type": "code",
   "execution_count": null,
   "metadata": {},
   "outputs": [],
   "source": []
  },
  {
   "cell_type": "code",
   "execution_count": null,
   "metadata": {},
   "outputs": [],
   "source": []
  },
  {
   "cell_type": "code",
   "execution_count": null,
   "metadata": {},
   "outputs": [],
   "source": [
    "fig1 = model.plot(forecast, figsize = (22, 7))"
   ]
  },
  {
   "cell_type": "code",
   "execution_count": null,
   "metadata": {},
   "outputs": [],
   "source": [
    "fig2 = model.plot_components(forecast, figsize = (22, 21))"
   ]
  },
  {
   "cell_type": "code",
   "execution_count": null,
   "metadata": {},
   "outputs": [],
   "source": [
    "fig22 = model2.plot_components(forecast2, figsize = (22, 21))"
   ]
  },
  {
   "cell_type": "code",
   "execution_count": null,
   "metadata": {},
   "outputs": [],
   "source": []
  },
  {
   "cell_type": "code",
   "execution_count": null,
   "metadata": {},
   "outputs": [],
   "source": []
  },
  {
   "cell_type": "code",
   "execution_count": null,
   "metadata": {},
   "outputs": [],
   "source": [
    "forecast['ds']"
   ]
  },
  {
   "cell_type": "code",
   "execution_count": null,
   "metadata": {},
   "outputs": [],
   "source": []
  },
  {
   "cell_type": "code",
   "execution_count": null,
   "metadata": {},
   "outputs": [],
   "source": [
    "fig = px.line(x = forecast['ds'], y = forecast['yhat'])\n",
    "fig.show()"
   ]
  },
  {
   "cell_type": "code",
   "execution_count": null,
   "metadata": {},
   "outputs": [],
   "source": [
    "fig = px.line(x = forecast['ds'], y = forecast['yhat'])\n",
    "fig.show()"
   ]
  },
  {
   "cell_type": "code",
   "execution_count": null,
   "metadata": {},
   "outputs": [],
   "source": []
  },
  {
   "cell_type": "code",
   "execution_count": null,
   "metadata": {},
   "outputs": [],
   "source": []
  },
  {
   "cell_type": "code",
   "execution_count": null,
   "metadata": {},
   "outputs": [],
   "source": [
    "Xfull.fruit.mean(), Xtrue.fruit.mean()"
   ]
  },
  {
   "cell_type": "code",
   "execution_count": null,
   "metadata": {},
   "outputs": [],
   "source": [
    "Xfull = get_aver('fruit', ignore_Ingush = False)\n",
    "Xtrue = get_aver('fruit', ignore_Ingush = True)"
   ]
  },
  {
   "cell_type": "code",
   "execution_count": null,
   "metadata": {},
   "outputs": [],
   "source": [
    "fig = px.line(y = Xfull.fruit, x = Xfull.index)\n",
    "#fig.add_scatter(px.line(Xtrue))\n",
    "fig.add_trace(go.Scatter(y = Xtrue.fruit, x = Xtrue.index))\n",
    "fig.show()"
   ]
  },
  {
   "cell_type": "code",
   "execution_count": null,
   "metadata": {},
   "outputs": [],
   "source": [
    "Xfull.index\n",
    "#Xtrue.index"
   ]
  },
  {
   "cell_type": "code",
   "execution_count": null,
   "metadata": {},
   "outputs": [],
   "source": [
    "fig = px.line(y = Xfull.fruit, x= Xfull.index)\n",
    "fig.show()"
   ]
  },
  {
   "cell_type": "code",
   "execution_count": null,
   "metadata": {},
   "outputs": [],
   "source": [
    "fig = px.line(y = Xtrue.fruit, x= Xtrue.index)\n",
    "fig.show()"
   ]
  },
  {
   "cell_type": "code",
   "execution_count": null,
   "metadata": {},
   "outputs": [],
   "source": []
  }
 ],
 "metadata": {
  "kernelspec": {
   "display_name": "Python 3",
   "language": "python",
   "name": "python3"
  },
  "language_info": {
   "codemirror_mode": {
    "name": "ipython",
    "version": 3
   },
   "file_extension": ".py",
   "mimetype": "text/x-python",
   "name": "python",
   "nbconvert_exporter": "python",
   "pygments_lexer": "ipython3",
   "version": "3.7.10"
  }
 },
 "nbformat": 4,
 "nbformat_minor": 4
}
