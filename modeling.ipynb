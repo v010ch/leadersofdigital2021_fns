{
 "cells": [
  {
   "cell_type": "code",
   "execution_count": null,
   "metadata": {},
   "outputs": [],
   "source": [
    "import os\n",
    "\n",
    "import pandas as pd\n",
    "import numpy as np\n",
    "from pathlib import Path\n",
    "import plotly.express as px\n",
    "import plotly.graph_objects as go\n",
    "\n",
    "from tqdm import tqdm"
   ]
  },
  {
   "cell_type": "code",
   "execution_count": null,
   "metadata": {},
   "outputs": [],
   "source": []
  },
  {
   "cell_type": "code",
   "execution_count": null,
   "metadata": {},
   "outputs": [],
   "source": [
    "from prophet import Prophet"
   ]
  },
  {
   "cell_type": "code",
   "execution_count": null,
   "metadata": {},
   "outputs": [],
   "source": [
    "#from prophet.plot import plot as fbplot"
   ]
  },
  {
   "cell_type": "code",
   "execution_count": null,
   "metadata": {},
   "outputs": [],
   "source": [
    "from oktmo_names import oktmo_names_decode as oktmo_names\n",
    "from fns_holidays import all_holidays\n",
    "from individual_models import individual_models"
   ]
  },
  {
   "cell_type": "code",
   "execution_count": null,
   "metadata": {},
   "outputs": [],
   "source": [
    "from pylab import rcParams\n",
    "rcParams['figure.figsize'] = 22, 7"
   ]
  },
  {
   "cell_type": "code",
   "execution_count": null,
   "metadata": {},
   "outputs": [],
   "source": [
    "#%pylab inline"
   ]
  },
  {
   "cell_type": "code",
   "execution_count": null,
   "metadata": {},
   "outputs": [],
   "source": [
    "PATH_DATA = os.path.join(Path.cwd(), 'data')\n",
    "PATH_SUBM = os.path.join(Path.cwd(), 'submissions')"
   ]
  },
  {
   "cell_type": "code",
   "execution_count": null,
   "metadata": {},
   "outputs": [],
   "source": []
  },
  {
   "cell_type": "code",
   "execution_count": null,
   "metadata": {},
   "outputs": [],
   "source": []
  },
  {
   "cell_type": "code",
   "execution_count": null,
   "metadata": {},
   "outputs": [],
   "source": []
  },
  {
   "cell_type": "code",
   "execution_count": null,
   "metadata": {},
   "outputs": [],
   "source": [
    "submission = pd.read_csv(os.path.join(PATH_DATA, 'sample_submission.csv'), \n",
    "                        parse_dates = ['date'])\n",
    "submission.shape"
   ]
  },
  {
   "cell_type": "code",
   "execution_count": null,
   "metadata": {},
   "outputs": [],
   "source": [
    "submission.head()"
   ]
  },
  {
   "cell_type": "code",
   "execution_count": null,
   "metadata": {},
   "outputs": [],
   "source": [
    "submission.date.min(), submission.date.max()"
   ]
  },
  {
   "cell_type": "code",
   "execution_count": null,
   "metadata": {},
   "outputs": [],
   "source": []
  },
  {
   "cell_type": "markdown",
   "metadata": {},
   "source": [
    "Read train data. Set type of all columns to float."
   ]
  },
  {
   "cell_type": "code",
   "execution_count": null,
   "metadata": {},
   "outputs": [],
   "source": [
    "data = pd.read_csv(os.path.join(PATH_DATA, 'train.csv'),\n",
    "                    sep = ';',\n",
    "                    parse_dates=['date'],\n",
    "                    infer_datetime_format=True,\n",
    "                    decimal = ',',\n",
    "                    thousands='\\xa0',\n",
    "                    engine='python',\n",
    "                   )\n",
    "\n",
    "items = data.columns.drop(['region', 'oktmo', 'okato', 'date'])\n",
    "for el in items:\n",
    "    data[el] = data[el].astype(float)\n",
    "    \n",
    "data.shape"
   ]
  },
  {
   "cell_type": "code",
   "execution_count": null,
   "metadata": {},
   "outputs": [],
   "source": [
    "#dt_train = np.datetime64('2020-10-31')\n",
    "#train_df = data.query('date <= @dt_train')\n",
    "#train_df.shape"
   ]
  },
  {
   "cell_type": "code",
   "execution_count": null,
   "metadata": {},
   "outputs": [],
   "source": []
  },
  {
   "cell_type": "markdown",
   "metadata": {},
   "source": [
    "Get aver over all oktmo (except Ingush in set)"
   ]
  },
  {
   "cell_type": "code",
   "execution_count": null,
   "metadata": {},
   "outputs": [],
   "source": [
    "def get_aver_v2(inp_prod, inp_df, ignore = set()):\n",
    "    \n",
    "    use_cols = ['date', inp_prod, 'oktmo']\n",
    "\n",
    "    return inp_df[use_cols].query('oktmo not in @ignore')[['date', inp_prod]].groupby('date').mean().sort_values(by='date')    "
   ]
  },
  {
   "cell_type": "code",
   "execution_count": null,
   "metadata": {},
   "outputs": [],
   "source": [
    "oktmo = data.oktmo.unique()\n",
    "#deviation_df = pd.DataFrame(columns = list(items), index = oktmo)"
   ]
  },
  {
   "cell_type": "code",
   "execution_count": null,
   "metadata": {},
   "outputs": [],
   "source": [
    "if os.path.exists(os.path.join(PATH_DATA, 'deviation_500_sum_short_full.csv')):\n",
    "    deviation_df = pd.read_csv(os.path.join(PATH_DATA, 'deviation_500_sum_short_full.csv'),\n",
    "#if os.path.exists(os.path.join(PATH_DATA, 'deviation_mult_nz.csv')):\n",
    "    #deviation_df = pd.read_csv(os.path.join(PATH_DATA, 'deviation_mult_nz.csv'),\n",
    "                              index_col = 0,\n",
    "                              )"
   ]
  },
  {
   "cell_type": "code",
   "execution_count": null,
   "metadata": {},
   "outputs": [],
   "source": []
  },
  {
   "cell_type": "code",
   "execution_count": null,
   "metadata": {},
   "outputs": [],
   "source": []
  },
  {
   "cell_type": "markdown",
   "metadata": {},
   "source": [
    "Make future dates from 01.04.2021 to 30.06.2021 "
   ]
  },
  {
   "cell_type": "code",
   "execution_count": null,
   "metadata": {},
   "outputs": [],
   "source": [
    "#train = get_aver('fruit_value', data)\n",
    "X = get_aver_v2('fruit_value', data, individual_models['fruit_value'])\n",
    "#X = get_aver_v2('fruit_value', train_df, individual_models['fruit_value'])\n",
    "X = X.reset_index()[['date', 'fruit_value']]\n",
    "X.columns=['ds', 'y']"
   ]
  },
  {
   "cell_type": "code",
   "execution_count": null,
   "metadata": {},
   "outputs": [],
   "source": [
    "model = Prophet(yearly_seasonality=True,daily_seasonality=True)\n",
    "model.fit(X)"
   ]
  },
  {
   "cell_type": "code",
   "execution_count": null,
   "metadata": {},
   "outputs": [],
   "source": [
    "future = model.make_future_dataframe(periods=91)\n",
    "#future = model.make_future_dataframe(periods=242)\n",
    "future = future[821:]"
   ]
  },
  {
   "cell_type": "markdown",
   "metadata": {},
   "source": [
    "Make models and submissions"
   ]
  },
  {
   "cell_type": "code",
   "execution_count": null,
   "metadata": {
    "tags": []
   },
   "outputs": [],
   "source": [
    "for itm in tqdm(items):\n",
    "    #train = get_aver(itm, data)\n",
    "    X = get_aver_v2(itm, data, individual_models[itm])\n",
    "    #X = get_aver_v2(itm, train_df, individual_models[itm])\n",
    "    X = X.reset_index()[['date', itm]]\n",
    "    X.columns=['ds', 'y']\n",
    "    \n",
    "    model = Prophet(yearly_seasonality=True, daily_seasonality=True,\n",
    "                    seasonality_mode='multiplicative',  # hz. future firecast more sharp\n",
    "                    #changepoint_prior_scale=0.15,   # 0.1 - 0.15 looks adequately\n",
    "                    holidays = all_holidays,\n",
    "                    #changepoints=['2020-09-23', '2020-03-09', '2020-10-26'],\n",
    "                   )\n",
    "    model.fit(X)\n",
    "    \n",
    "    forecast = model.predict(future)\n",
    "    \n",
    "    regions = oktmo.copy()\n",
    "    for el in individual_models[itm]:\n",
    "        regions = (np.delete(regions, np.where(regions == el)))\n",
    "        \n",
    "    for dt in future.ds.values:\n",
    "        for reg in regions:\n",
    "            mult = deviation_df.loc[reg, itm]\n",
    "            #value = forecast.query('ds == @dt')['yhat'] + mult\n",
    "            value = forecast.loc[forecast.ds == dt, 'yhat'].values[0] + mult\n",
    "            if value < 0:\n",
    "                value = 0\n",
    "            submission.loc[(submission.date == dt) & (submission.oktmo == reg), itm] = value"
   ]
  },
  {
   "cell_type": "code",
   "execution_count": null,
   "metadata": {},
   "outputs": [],
   "source": []
  },
  {
   "cell_type": "code",
   "execution_count": null,
   "metadata": {},
   "outputs": [],
   "source": [
    "for itm in tqdm(items):\n",
    "    for reg in individual_models[itm]:\n",
    "        \n",
    "        if reg != 26000000000:\n",
    "            X = data.loc[data.oktmo == reg, ['date', itm]]\n",
    "            #X = train_df.loc[train_df.oktmo == reg, ['date', itm]]\n",
    "\n",
    "            X = X.reset_index()[['date', itm]]\n",
    "            X.columns=['ds', 'y']\n",
    "\n",
    "            model = Prophet(yearly_seasonality=True, daily_seasonality=True,\n",
    "                    seasonality_mode='multiplicative',  # hz. future firecast more sharp\n",
    "                    #changepoint_prior_scale=0.15,   # 0.1 - 0.15 looks adequately\n",
    "                    holidays = all_holidays,\n",
    "                    #changepoints=['2020-09-23', '2020-03-09', '2020-10-26'],\n",
    "                   )\n",
    "            model.fit(X)\n",
    "            forecast = model.predict(future)\n",
    "        #if reg == 26000000000:\n",
    "        else:\n",
    "            forecast.yhat = forecast.yhat * 0\n",
    "\n",
    "        for dt in future.ds.values:\n",
    "            value = forecast.loc[forecast.ds == dt, 'yhat'].values[0]\n",
    "            submission.loc[(submission.date == dt) & (submission.oktmo == reg), itm] = value"
   ]
  },
  {
   "cell_type": "code",
   "execution_count": null,
   "metadata": {},
   "outputs": [],
   "source": []
  },
  {
   "cell_type": "code",
   "execution_count": null,
   "metadata": {},
   "outputs": [],
   "source": [
    "submission.shape"
   ]
  },
  {
   "cell_type": "code",
   "execution_count": null,
   "metadata": {},
   "outputs": [],
   "source": [
    "submission.head()"
   ]
  },
  {
   "cell_type": "code",
   "execution_count": null,
   "metadata": {},
   "outputs": [],
   "source": [
    "submission.tail()"
   ]
  },
  {
   "cell_type": "code",
   "execution_count": null,
   "metadata": {},
   "outputs": [],
   "source": [
    "submission.query('oktmo == 26000000000').head()"
   ]
  },
  {
   "cell_type": "code",
   "execution_count": null,
   "metadata": {},
   "outputs": [],
   "source": [
    "#submission.to_csv(os.path.join(PATH_SUBM, 'phrop_holid_dev_sum_nz_nh_val_nz_full.csv'))"
   ]
  },
  {
   "cell_type": "code",
   "execution_count": null,
   "metadata": {},
   "outputs": [],
   "source": [
    "submission.to_csv(os.path.join(PATH_SUBM, 'many_500_full_full_zn_izero.csv'))"
   ]
  },
  {
   "cell_type": "code",
   "execution_count": null,
   "metadata": {},
   "outputs": [],
   "source": []
  },
  {
   "cell_type": "code",
   "execution_count": null,
   "metadata": {},
   "outputs": [],
   "source": []
  },
  {
   "cell_type": "code",
   "execution_count": null,
   "metadata": {},
   "outputs": [],
   "source": []
  },
  {
   "cell_type": "code",
   "execution_count": null,
   "metadata": {},
   "outputs": [],
   "source": []
  }
 ],
 "metadata": {
  "kernelspec": {
   "display_name": "Python 3",
   "language": "python",
   "name": "python3"
  },
  "language_info": {
   "codemirror_mode": {
    "name": "ipython",
    "version": 3
   },
   "file_extension": ".py",
   "mimetype": "text/x-python",
   "name": "python",
   "nbconvert_exporter": "python",
   "pygments_lexer": "ipython3",
   "version": "3.7.10"
  }
 },
 "nbformat": 4,
 "nbformat_minor": 4
}
