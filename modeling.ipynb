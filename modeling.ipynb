{
 "cells": [
  {
   "cell_type": "code",
   "execution_count": 2,
   "metadata": {},
   "outputs": [],
   "source": [
    "import os\n",
    "\n",
    "import pandas as pd\n",
    "import numpy as np\n",
    "from pathlib import Path\n",
    "import plotly.express as px\n",
    "import plotly.graph_objects as go\n",
    "\n",
    "from tqdm import tqdm"
   ]
  },
  {
   "cell_type": "code",
   "execution_count": null,
   "metadata": {},
   "outputs": [],
   "source": []
  },
  {
   "cell_type": "code",
   "execution_count": 3,
   "metadata": {},
   "outputs": [],
   "source": [
    "from prophet import Prophet"
   ]
  },
  {
   "cell_type": "code",
   "execution_count": 4,
   "metadata": {},
   "outputs": [],
   "source": [
    "#from prophet.plot import plot as fbplot"
   ]
  },
  {
   "cell_type": "code",
   "execution_count": 5,
   "metadata": {},
   "outputs": [],
   "source": [
    "from oktmo_names import oktmo_names_decode as oktmo_names"
   ]
  },
  {
   "cell_type": "code",
   "execution_count": 6,
   "metadata": {},
   "outputs": [],
   "source": [
    "from pylab import rcParams\n",
    "rcParams['figure.figsize'] = 22, 7"
   ]
  },
  {
   "cell_type": "code",
   "execution_count": 7,
   "metadata": {},
   "outputs": [],
   "source": [
    "#%pylab inline"
   ]
  },
  {
   "cell_type": "code",
   "execution_count": 8,
   "metadata": {},
   "outputs": [],
   "source": [
    "PATH_DATA = os.path.join(Path.cwd(), 'data')\n",
    "PATH_SUBM = os.path.join(Path.cwd(), 'submissions')"
   ]
  },
  {
   "cell_type": "code",
   "execution_count": null,
   "metadata": {},
   "outputs": [],
   "source": []
  },
  {
   "cell_type": "code",
   "execution_count": 9,
   "metadata": {},
   "outputs": [
    {
     "data": {
      "text/plain": [
       "(7735, 79)"
      ]
     },
     "execution_count": 9,
     "metadata": {},
     "output_type": "execute_result"
    }
   ],
   "source": [
    "submission = pd.read_csv(os.path.join(PATH_DATA, 'sample_submission.csv'), \n",
    "                        parse_dates = ['date'])\n",
    "submission.shape"
   ]
  },
  {
   "cell_type": "code",
   "execution_count": 15,
   "metadata": {},
   "outputs": [
    {
     "data": {
      "text/html": [
       "<div>\n",
       "<style scoped>\n",
       "    .dataframe tbody tr th:only-of-type {\n",
       "        vertical-align: middle;\n",
       "    }\n",
       "\n",
       "    .dataframe tbody tr th {\n",
       "        vertical-align: top;\n",
       "    }\n",
       "\n",
       "    .dataframe thead th {\n",
       "        text-align: right;\n",
       "    }\n",
       "</style>\n",
       "<table border=\"1\" class=\"dataframe\">\n",
       "  <thead>\n",
       "    <tr style=\"text-align: right;\">\n",
       "      <th></th>\n",
       "      <th>region</th>\n",
       "      <th>oktmo</th>\n",
       "      <th>okato</th>\n",
       "      <th>date</th>\n",
       "      <th>pasta</th>\n",
       "      <th>legumes</th>\n",
       "      <th>bread</th>\n",
       "      <th>flour</th>\n",
       "      <th>rice</th>\n",
       "      <th>groats</th>\n",
       "      <th>...</th>\n",
       "      <th>spice_value</th>\n",
       "      <th>tea_value</th>\n",
       "      <th>ai92</th>\n",
       "      <th>ai95</th>\n",
       "      <th>ai98</th>\n",
       "      <th>dt</th>\n",
       "      <th>ai92_value</th>\n",
       "      <th>ai95_value</th>\n",
       "      <th>ai98_value</th>\n",
       "      <th>dt_value</th>\n",
       "    </tr>\n",
       "  </thead>\n",
       "  <tbody>\n",
       "    <tr>\n",
       "      <th>0</th>\n",
       "      <td>65</td>\n",
       "      <td>64000000000</td>\n",
       "      <td>64000000000</td>\n",
       "      <td>2021-06-30</td>\n",
       "      <td>0</td>\n",
       "      <td>0</td>\n",
       "      <td>0</td>\n",
       "      <td>0</td>\n",
       "      <td>0</td>\n",
       "      <td>0</td>\n",
       "      <td>...</td>\n",
       "      <td>0</td>\n",
       "      <td>0</td>\n",
       "      <td>0</td>\n",
       "      <td>0</td>\n",
       "      <td>0</td>\n",
       "      <td>0</td>\n",
       "      <td>0</td>\n",
       "      <td>0</td>\n",
       "      <td>0</td>\n",
       "      <td>0</td>\n",
       "    </tr>\n",
       "    <tr>\n",
       "      <th>1</th>\n",
       "      <td>66</td>\n",
       "      <td>65000000000</td>\n",
       "      <td>65000000000</td>\n",
       "      <td>2021-06-30</td>\n",
       "      <td>0</td>\n",
       "      <td>0</td>\n",
       "      <td>0</td>\n",
       "      <td>0</td>\n",
       "      <td>0</td>\n",
       "      <td>0</td>\n",
       "      <td>...</td>\n",
       "      <td>0</td>\n",
       "      <td>0</td>\n",
       "      <td>0</td>\n",
       "      <td>0</td>\n",
       "      <td>0</td>\n",
       "      <td>0</td>\n",
       "      <td>0</td>\n",
       "      <td>0</td>\n",
       "      <td>0</td>\n",
       "      <td>0</td>\n",
       "    </tr>\n",
       "    <tr>\n",
       "      <th>2</th>\n",
       "      <td>64</td>\n",
       "      <td>63000000000</td>\n",
       "      <td>63000000000</td>\n",
       "      <td>2021-06-30</td>\n",
       "      <td>0</td>\n",
       "      <td>0</td>\n",
       "      <td>0</td>\n",
       "      <td>0</td>\n",
       "      <td>0</td>\n",
       "      <td>0</td>\n",
       "      <td>...</td>\n",
       "      <td>0</td>\n",
       "      <td>0</td>\n",
       "      <td>0</td>\n",
       "      <td>0</td>\n",
       "      <td>0</td>\n",
       "      <td>0</td>\n",
       "      <td>0</td>\n",
       "      <td>0</td>\n",
       "      <td>0</td>\n",
       "      <td>0</td>\n",
       "    </tr>\n",
       "    <tr>\n",
       "      <th>3</th>\n",
       "      <td>67</td>\n",
       "      <td>66000000000</td>\n",
       "      <td>66000000000</td>\n",
       "      <td>2021-06-30</td>\n",
       "      <td>0</td>\n",
       "      <td>0</td>\n",
       "      <td>0</td>\n",
       "      <td>0</td>\n",
       "      <td>0</td>\n",
       "      <td>0</td>\n",
       "      <td>...</td>\n",
       "      <td>0</td>\n",
       "      <td>0</td>\n",
       "      <td>0</td>\n",
       "      <td>0</td>\n",
       "      <td>0</td>\n",
       "      <td>0</td>\n",
       "      <td>0</td>\n",
       "      <td>0</td>\n",
       "      <td>0</td>\n",
       "      <td>0</td>\n",
       "    </tr>\n",
       "    <tr>\n",
       "      <th>4</th>\n",
       "      <td>70</td>\n",
       "      <td>69000000000</td>\n",
       "      <td>69000000000</td>\n",
       "      <td>2021-06-30</td>\n",
       "      <td>0</td>\n",
       "      <td>0</td>\n",
       "      <td>0</td>\n",
       "      <td>0</td>\n",
       "      <td>0</td>\n",
       "      <td>0</td>\n",
       "      <td>...</td>\n",
       "      <td>0</td>\n",
       "      <td>0</td>\n",
       "      <td>0</td>\n",
       "      <td>0</td>\n",
       "      <td>0</td>\n",
       "      <td>0</td>\n",
       "      <td>0</td>\n",
       "      <td>0</td>\n",
       "      <td>0</td>\n",
       "      <td>0</td>\n",
       "    </tr>\n",
       "  </tbody>\n",
       "</table>\n",
       "<p>5 rows × 79 columns</p>\n",
       "</div>"
      ],
      "text/plain": [
       "   region        oktmo        okato       date  pasta  legumes  bread  flour  \\\n",
       "0      65  64000000000  64000000000 2021-06-30      0        0      0      0   \n",
       "1      66  65000000000  65000000000 2021-06-30      0        0      0      0   \n",
       "2      64  63000000000  63000000000 2021-06-30      0        0      0      0   \n",
       "3      67  66000000000  66000000000 2021-06-30      0        0      0      0   \n",
       "4      70  69000000000  69000000000 2021-06-30      0        0      0      0   \n",
       "\n",
       "   rice  groats  ...  spice_value  tea_value  ai92  ai95  ai98  dt  \\\n",
       "0     0       0  ...            0          0     0     0     0   0   \n",
       "1     0       0  ...            0          0     0     0     0   0   \n",
       "2     0       0  ...            0          0     0     0     0   0   \n",
       "3     0       0  ...            0          0     0     0     0   0   \n",
       "4     0       0  ...            0          0     0     0     0   0   \n",
       "\n",
       "   ai92_value  ai95_value  ai98_value  dt_value  \n",
       "0           0           0           0         0  \n",
       "1           0           0           0         0  \n",
       "2           0           0           0         0  \n",
       "3           0           0           0         0  \n",
       "4           0           0           0         0  \n",
       "\n",
       "[5 rows x 79 columns]"
      ]
     },
     "execution_count": 15,
     "metadata": {},
     "output_type": "execute_result"
    }
   ],
   "source": [
    "submission.head()"
   ]
  },
  {
   "cell_type": "code",
   "execution_count": 16,
   "metadata": {},
   "outputs": [
    {
     "data": {
      "text/html": [
       "<div>\n",
       "<style scoped>\n",
       "    .dataframe tbody tr th:only-of-type {\n",
       "        vertical-align: middle;\n",
       "    }\n",
       "\n",
       "    .dataframe tbody tr th {\n",
       "        vertical-align: top;\n",
       "    }\n",
       "\n",
       "    .dataframe thead th {\n",
       "        text-align: right;\n",
       "    }\n",
       "</style>\n",
       "<table border=\"1\" class=\"dataframe\">\n",
       "  <thead>\n",
       "    <tr style=\"text-align: right;\">\n",
       "      <th></th>\n",
       "      <th>region</th>\n",
       "      <th>oktmo</th>\n",
       "      <th>okato</th>\n",
       "      <th>date</th>\n",
       "      <th>pasta</th>\n",
       "      <th>legumes</th>\n",
       "      <th>bread</th>\n",
       "      <th>flour</th>\n",
       "      <th>rice</th>\n",
       "      <th>groats</th>\n",
       "      <th>...</th>\n",
       "      <th>spice_value</th>\n",
       "      <th>tea_value</th>\n",
       "      <th>ai92</th>\n",
       "      <th>ai95</th>\n",
       "      <th>ai98</th>\n",
       "      <th>dt</th>\n",
       "      <th>ai92_value</th>\n",
       "      <th>ai95_value</th>\n",
       "      <th>ai98_value</th>\n",
       "      <th>dt_value</th>\n",
       "    </tr>\n",
       "  </thead>\n",
       "  <tbody>\n",
       "    <tr>\n",
       "      <th>7730</th>\n",
       "      <td>43</td>\n",
       "      <td>33000000000</td>\n",
       "      <td>33000000000</td>\n",
       "      <td>2021-01-04</td>\n",
       "      <td>0</td>\n",
       "      <td>0</td>\n",
       "      <td>0</td>\n",
       "      <td>0</td>\n",
       "      <td>0</td>\n",
       "      <td>0</td>\n",
       "      <td>...</td>\n",
       "      <td>0</td>\n",
       "      <td>0</td>\n",
       "      <td>0</td>\n",
       "      <td>0</td>\n",
       "      <td>0</td>\n",
       "      <td>0</td>\n",
       "      <td>0</td>\n",
       "      <td>0</td>\n",
       "      <td>0</td>\n",
       "      <td>0</td>\n",
       "    </tr>\n",
       "    <tr>\n",
       "      <th>7731</th>\n",
       "      <td>73</td>\n",
       "      <td>73000000000</td>\n",
       "      <td>73000000000</td>\n",
       "      <td>2021-01-04</td>\n",
       "      <td>0</td>\n",
       "      <td>0</td>\n",
       "      <td>0</td>\n",
       "      <td>0</td>\n",
       "      <td>0</td>\n",
       "      <td>0</td>\n",
       "      <td>...</td>\n",
       "      <td>0</td>\n",
       "      <td>0</td>\n",
       "      <td>0</td>\n",
       "      <td>0</td>\n",
       "      <td>0</td>\n",
       "      <td>0</td>\n",
       "      <td>0</td>\n",
       "      <td>0</td>\n",
       "      <td>0</td>\n",
       "      <td>0</td>\n",
       "    </tr>\n",
       "    <tr>\n",
       "      <th>7732</th>\n",
       "      <td>74</td>\n",
       "      <td>75000000000</td>\n",
       "      <td>75000000000</td>\n",
       "      <td>2021-01-04</td>\n",
       "      <td>0</td>\n",
       "      <td>0</td>\n",
       "      <td>0</td>\n",
       "      <td>0</td>\n",
       "      <td>0</td>\n",
       "      <td>0</td>\n",
       "      <td>...</td>\n",
       "      <td>0</td>\n",
       "      <td>0</td>\n",
       "      <td>0</td>\n",
       "      <td>0</td>\n",
       "      <td>0</td>\n",
       "      <td>0</td>\n",
       "      <td>0</td>\n",
       "      <td>0</td>\n",
       "      <td>0</td>\n",
       "      <td>0</td>\n",
       "    </tr>\n",
       "    <tr>\n",
       "      <th>7733</th>\n",
       "      <td>72</td>\n",
       "      <td>71000000000</td>\n",
       "      <td>71000000000</td>\n",
       "      <td>2021-01-04</td>\n",
       "      <td>0</td>\n",
       "      <td>0</td>\n",
       "      <td>0</td>\n",
       "      <td>0</td>\n",
       "      <td>0</td>\n",
       "      <td>0</td>\n",
       "      <td>...</td>\n",
       "      <td>0</td>\n",
       "      <td>0</td>\n",
       "      <td>0</td>\n",
       "      <td>0</td>\n",
       "      <td>0</td>\n",
       "      <td>0</td>\n",
       "      <td>0</td>\n",
       "      <td>0</td>\n",
       "      <td>0</td>\n",
       "      <td>0</td>\n",
       "    </tr>\n",
       "    <tr>\n",
       "      <th>7734</th>\n",
       "      <td>75</td>\n",
       "      <td>76000000000</td>\n",
       "      <td>76000000000</td>\n",
       "      <td>2021-01-04</td>\n",
       "      <td>0</td>\n",
       "      <td>0</td>\n",
       "      <td>0</td>\n",
       "      <td>0</td>\n",
       "      <td>0</td>\n",
       "      <td>0</td>\n",
       "      <td>...</td>\n",
       "      <td>0</td>\n",
       "      <td>0</td>\n",
       "      <td>0</td>\n",
       "      <td>0</td>\n",
       "      <td>0</td>\n",
       "      <td>0</td>\n",
       "      <td>0</td>\n",
       "      <td>0</td>\n",
       "      <td>0</td>\n",
       "      <td>0</td>\n",
       "    </tr>\n",
       "  </tbody>\n",
       "</table>\n",
       "<p>5 rows × 79 columns</p>\n",
       "</div>"
      ],
      "text/plain": [
       "      region        oktmo        okato       date  pasta  legumes  bread  \\\n",
       "7730      43  33000000000  33000000000 2021-01-04      0        0      0   \n",
       "7731      73  73000000000  73000000000 2021-01-04      0        0      0   \n",
       "7732      74  75000000000  75000000000 2021-01-04      0        0      0   \n",
       "7733      72  71000000000  71000000000 2021-01-04      0        0      0   \n",
       "7734      75  76000000000  76000000000 2021-01-04      0        0      0   \n",
       "\n",
       "      flour  rice  groats  ...  spice_value  tea_value  ai92  ai95  ai98  dt  \\\n",
       "7730      0     0       0  ...            0          0     0     0     0   0   \n",
       "7731      0     0       0  ...            0          0     0     0     0   0   \n",
       "7732      0     0       0  ...            0          0     0     0     0   0   \n",
       "7733      0     0       0  ...            0          0     0     0     0   0   \n",
       "7734      0     0       0  ...            0          0     0     0     0   0   \n",
       "\n",
       "      ai92_value  ai95_value  ai98_value  dt_value  \n",
       "7730           0           0           0         0  \n",
       "7731           0           0           0         0  \n",
       "7732           0           0           0         0  \n",
       "7733           0           0           0         0  \n",
       "7734           0           0           0         0  \n",
       "\n",
       "[5 rows x 79 columns]"
      ]
     },
     "execution_count": 16,
     "metadata": {},
     "output_type": "execute_result"
    }
   ],
   "source": [
    "submission.tail()"
   ]
  },
  {
   "cell_type": "code",
   "execution_count": 17,
   "metadata": {},
   "outputs": [
    {
     "data": {
      "text/plain": [
       "(Timestamp('2021-01-04 00:00:00'), Timestamp('2021-12-06 00:00:00'))"
      ]
     },
     "execution_count": 17,
     "metadata": {},
     "output_type": "execute_result"
    }
   ],
   "source": [
    "submission.date.min(), submission.date.max()"
   ]
  },
  {
   "cell_type": "code",
   "execution_count": null,
   "metadata": {},
   "outputs": [],
   "source": []
  },
  {
   "cell_type": "markdown",
   "metadata": {},
   "source": [
    "Read train data. Set type of all columns to float."
   ]
  },
  {
   "cell_type": "code",
   "execution_count": 18,
   "metadata": {},
   "outputs": [
    {
     "data": {
      "text/plain": [
       "(69785, 79)"
      ]
     },
     "execution_count": 18,
     "metadata": {},
     "output_type": "execute_result"
    }
   ],
   "source": [
    "data = pd.read_csv(os.path.join(PATH_DATA, 'train.csv'),\n",
    "                    sep = ';',\n",
    "                    parse_dates=['date'],\n",
    "                    infer_datetime_format=True,\n",
    "                    decimal = ',',\n",
    "                    thousands='\\xa0',\n",
    "                    engine='python',\n",
    "                   )\n",
    "\n",
    "items = data.columns.drop(['region', 'oktmo', 'okato', 'date'])\n",
    "for el in items:\n",
    "    data[el] = data[el].astype(float)\n",
    "    \n",
    "data.shape"
   ]
  },
  {
   "cell_type": "markdown",
   "metadata": {},
   "source": [
    "Get aver over all oktmo (except Ingush in set)"
   ]
  },
  {
   "cell_type": "code",
   "execution_count": 19,
   "metadata": {},
   "outputs": [],
   "source": [
    "def get_aver(inp_prod, inp_df, ignore_Ingush = True):\n",
    "    \n",
    "    if ignore_Ingush:\n",
    "        use_cols = ['date', inp_prod, 'oktmo']\n",
    "        #ignore_oktmo = oktmo_names[26000000000]\n",
    "        ignore_oktmo = 26000000000\n",
    "        return inp_df[use_cols].query('oktmo != @ignore_oktmo')[['date', inp_prod]].groupby('date').mean().sort_values(by='date')\n",
    "    \n",
    "    use_cols = ['date', inp_prod]        \n",
    "    return inp_df[use_cols].groupby('date').mean().sort_values(by='date')"
   ]
  },
  {
   "cell_type": "markdown",
   "metadata": {},
   "source": [
    "Calculate deviation from aver over all oktmo over all products"
   ]
  },
  {
   "cell_type": "code",
   "execution_count": null,
   "metadata": {},
   "outputs": [],
   "source": [
    "#dt = np.datetime64('2019-01-02')\n",
    "#data.query('oktmo == 47000000000 and date == @dt')['bread']"
   ]
  },
  {
   "cell_type": "code",
   "execution_count": null,
   "metadata": {},
   "outputs": [],
   "source": []
  },
  {
   "cell_type": "code",
   "execution_count": 27,
   "metadata": {},
   "outputs": [],
   "source": [
    "oktmo = data.oktmo.unique()\n",
    "#deviation_df = pd.DataFrame(columns = list(items), index = oktmo)"
   ]
  },
  {
   "cell_type": "code",
   "execution_count": 20,
   "metadata": {},
   "outputs": [],
   "source": [
    "if os.path.exists(os.path.join(PATH_DATA, 'deviation_sum_nz.csv')):\n",
    "    deviation_df = pd.read_csv(os.path.join(PATH_DATA, 'deviation_sum_nz.csv'),\n",
    "#if os.path.exists(os.path.join(PATH_DATA, 'deviation_mult_nz.csv')):\n",
    "    #deviation_df = pd.read_csv(os.path.join(PATH_DATA, 'deviation_mult_nz.csv'),\n",
    "                              index_col = 0,\n",
    "                              )"
   ]
  },
  {
   "cell_type": "code",
   "execution_count": null,
   "metadata": {},
   "outputs": [],
   "source": []
  },
  {
   "cell_type": "code",
   "execution_count": null,
   "metadata": {},
   "outputs": [],
   "source": []
  },
  {
   "cell_type": "markdown",
   "metadata": {},
   "source": [
    "Make future dates from 01.04.2021 to 30.06.2021 "
   ]
  },
  {
   "cell_type": "code",
   "execution_count": 22,
   "metadata": {},
   "outputs": [],
   "source": [
    "train = get_aver('fruit_value', data)\n",
    "X = train.reset_index()[['date', 'fruit_value']]#.columns = ['ds', 'y']\n",
    "X.columns=['ds', 'y']"
   ]
  },
  {
   "cell_type": "code",
   "execution_count": 23,
   "metadata": {},
   "outputs": [
    {
     "data": {
      "text/plain": [
       "<prophet.forecaster.Prophet at 0x20b125bf708>"
      ]
     },
     "execution_count": 23,
     "metadata": {},
     "output_type": "execute_result"
    }
   ],
   "source": [
    "model = Prophet(yearly_seasonality=True,daily_seasonality=True)\n",
    "model.fit(X)"
   ]
  },
  {
   "cell_type": "code",
   "execution_count": 24,
   "metadata": {},
   "outputs": [],
   "source": [
    "future = model.make_future_dataframe(periods=91)\n",
    "future = future[821:]"
   ]
  },
  {
   "cell_type": "code",
   "execution_count": null,
   "metadata": {},
   "outputs": [],
   "source": []
  },
  {
   "cell_type": "markdown",
   "metadata": {},
   "source": [
    "Make models (without saving) and submissions"
   ]
  },
  {
   "cell_type": "code",
   "execution_count": 28,
   "metadata": {
    "tags": []
   },
   "outputs": [
    {
     "name": "stderr",
     "output_type": "stream",
     "text": [
      "100%|██████████████████████████████████████████████████████████████████████████████████| 75/75 [15:46<00:00, 12.62s/it]\n"
     ]
    }
   ],
   "source": [
    "for itm in tqdm(items):\n",
    "    train = get_aver(itm, data)\n",
    "    X = train.reset_index()[['date', itm]]#.columns = ['ds', 'y']\n",
    "    X.columns=['ds', 'y']\n",
    "    \n",
    "    model = Prophet(yearly_seasonality=True, daily_seasonality=True,\n",
    "                    seasonality_mode='multiplicative',  # hz. future firecast more sharp\n",
    "                    #changepoint_prior_scale=0.01,   # 0.1 - 0.15 looks adequately\n",
    "                   )\n",
    "    model.fit(X)\n",
    "    \n",
    "    forecast = model.predict(future)\n",
    "    \n",
    "    for dt in future.ds.values:\n",
    "        for reg in oktmo:\n",
    "            mult = deviation_df.loc[reg, itm]\n",
    "            #value = forecast.query('ds == @dt')['yhat'] + mult\n",
    "            value = forecast.loc[forecast.ds == dt, 'yhat'].values[0] + mult\n",
    "            submission.loc[(submission.date == dt) & (submission.oktmo == reg), itm] = value"
   ]
  },
  {
   "cell_type": "code",
   "execution_count": 29,
   "metadata": {},
   "outputs": [
    {
     "data": {
      "text/html": [
       "<div>\n",
       "<style scoped>\n",
       "    .dataframe tbody tr th:only-of-type {\n",
       "        vertical-align: middle;\n",
       "    }\n",
       "\n",
       "    .dataframe tbody tr th {\n",
       "        vertical-align: top;\n",
       "    }\n",
       "\n",
       "    .dataframe thead th {\n",
       "        text-align: right;\n",
       "    }\n",
       "</style>\n",
       "<table border=\"1\" class=\"dataframe\">\n",
       "  <thead>\n",
       "    <tr style=\"text-align: right;\">\n",
       "      <th></th>\n",
       "      <th>region</th>\n",
       "      <th>oktmo</th>\n",
       "      <th>okato</th>\n",
       "      <th>date</th>\n",
       "      <th>pasta</th>\n",
       "      <th>legumes</th>\n",
       "      <th>bread</th>\n",
       "      <th>flour</th>\n",
       "      <th>rice</th>\n",
       "      <th>groats</th>\n",
       "      <th>...</th>\n",
       "      <th>spice_value</th>\n",
       "      <th>tea_value</th>\n",
       "      <th>ai92</th>\n",
       "      <th>ai95</th>\n",
       "      <th>ai98</th>\n",
       "      <th>dt</th>\n",
       "      <th>ai92_value</th>\n",
       "      <th>ai95_value</th>\n",
       "      <th>ai98_value</th>\n",
       "      <th>dt_value</th>\n",
       "    </tr>\n",
       "  </thead>\n",
       "  <tbody>\n",
       "    <tr>\n",
       "      <th>0</th>\n",
       "      <td>65</td>\n",
       "      <td>64000000000</td>\n",
       "      <td>64000000000</td>\n",
       "      <td>2021-06-30</td>\n",
       "      <td>125.771711</td>\n",
       "      <td>120.960261</td>\n",
       "      <td>107.868709</td>\n",
       "      <td>46.528979</td>\n",
       "      <td>35.532168</td>\n",
       "      <td>38.593252</td>\n",
       "      <td>...</td>\n",
       "      <td>14123.198187</td>\n",
       "      <td>14370.858197</td>\n",
       "      <td>51.036595</td>\n",
       "      <td>50.699178</td>\n",
       "      <td>50.744782</td>\n",
       "      <td>56.381341</td>\n",
       "      <td>2.715143e+05</td>\n",
       "      <td>2.098302e+05</td>\n",
       "      <td>23700.290371</td>\n",
       "      <td>39492.074831</td>\n",
       "    </tr>\n",
       "    <tr>\n",
       "      <th>1</th>\n",
       "      <td>66</td>\n",
       "      <td>65000000000</td>\n",
       "      <td>65000000000</td>\n",
       "      <td>2021-06-30</td>\n",
       "      <td>79.691667</td>\n",
       "      <td>107.671082</td>\n",
       "      <td>79.190276</td>\n",
       "      <td>31.531367</td>\n",
       "      <td>86.199422</td>\n",
       "      <td>66.051402</td>\n",
       "      <td>...</td>\n",
       "      <td>113788.869396</td>\n",
       "      <td>109587.410809</td>\n",
       "      <td>45.055461</td>\n",
       "      <td>48.015626</td>\n",
       "      <td>47.806577</td>\n",
       "      <td>48.630819</td>\n",
       "      <td>1.581581e+06</td>\n",
       "      <td>1.329051e+06</td>\n",
       "      <td>1015.551481</td>\n",
       "      <td>390320.944234</td>\n",
       "    </tr>\n",
       "    <tr>\n",
       "      <th>2</th>\n",
       "      <td>64</td>\n",
       "      <td>63000000000</td>\n",
       "      <td>63000000000</td>\n",
       "      <td>2021-06-30</td>\n",
       "      <td>77.465950</td>\n",
       "      <td>99.551351</td>\n",
       "      <td>76.304977</td>\n",
       "      <td>31.487129</td>\n",
       "      <td>78.214855</td>\n",
       "      <td>68.826715</td>\n",
       "      <td>...</td>\n",
       "      <td>46593.745187</td>\n",
       "      <td>50020.648854</td>\n",
       "      <td>45.908386</td>\n",
       "      <td>49.043088</td>\n",
       "      <td>48.737140</td>\n",
       "      <td>47.379565</td>\n",
       "      <td>9.403241e+05</td>\n",
       "      <td>4.449515e+05</td>\n",
       "      <td>4249.800714</td>\n",
       "      <td>83427.691070</td>\n",
       "    </tr>\n",
       "    <tr>\n",
       "      <th>3</th>\n",
       "      <td>67</td>\n",
       "      <td>66000000000</td>\n",
       "      <td>66000000000</td>\n",
       "      <td>2021-06-30</td>\n",
       "      <td>76.997085</td>\n",
       "      <td>110.900545</td>\n",
       "      <td>79.107664</td>\n",
       "      <td>34.552517</td>\n",
       "      <td>93.409228</td>\n",
       "      <td>59.554521</td>\n",
       "      <td>...</td>\n",
       "      <td>23836.366157</td>\n",
       "      <td>22576.393481</td>\n",
       "      <td>46.040954</td>\n",
       "      <td>49.210342</td>\n",
       "      <td>44.536582</td>\n",
       "      <td>47.318759</td>\n",
       "      <td>3.906330e+05</td>\n",
       "      <td>3.271275e+05</td>\n",
       "      <td>2076.367112</td>\n",
       "      <td>155017.335771</td>\n",
       "    </tr>\n",
       "    <tr>\n",
       "      <th>4</th>\n",
       "      <td>70</td>\n",
       "      <td>69000000000</td>\n",
       "      <td>69000000000</td>\n",
       "      <td>2021-06-30</td>\n",
       "      <td>84.396398</td>\n",
       "      <td>111.861843</td>\n",
       "      <td>74.768127</td>\n",
       "      <td>29.625562</td>\n",
       "      <td>85.558034</td>\n",
       "      <td>65.000312</td>\n",
       "      <td>...</td>\n",
       "      <td>37726.686456</td>\n",
       "      <td>31714.555481</td>\n",
       "      <td>44.093133</td>\n",
       "      <td>46.110521</td>\n",
       "      <td>47.607987</td>\n",
       "      <td>49.841580</td>\n",
       "      <td>3.557702e+05</td>\n",
       "      <td>3.397233e+05</td>\n",
       "      <td>738.279008</td>\n",
       "      <td>26024.235323</td>\n",
       "    </tr>\n",
       "  </tbody>\n",
       "</table>\n",
       "<p>5 rows × 79 columns</p>\n",
       "</div>"
      ],
      "text/plain": [
       "   region        oktmo        okato       date       pasta     legumes  \\\n",
       "0      65  64000000000  64000000000 2021-06-30  125.771711  120.960261   \n",
       "1      66  65000000000  65000000000 2021-06-30   79.691667  107.671082   \n",
       "2      64  63000000000  63000000000 2021-06-30   77.465950   99.551351   \n",
       "3      67  66000000000  66000000000 2021-06-30   76.997085  110.900545   \n",
       "4      70  69000000000  69000000000 2021-06-30   84.396398  111.861843   \n",
       "\n",
       "        bread      flour       rice     groats  ...    spice_value  \\\n",
       "0  107.868709  46.528979  35.532168  38.593252  ...   14123.198187   \n",
       "1   79.190276  31.531367  86.199422  66.051402  ...  113788.869396   \n",
       "2   76.304977  31.487129  78.214855  68.826715  ...   46593.745187   \n",
       "3   79.107664  34.552517  93.409228  59.554521  ...   23836.366157   \n",
       "4   74.768127  29.625562  85.558034  65.000312  ...   37726.686456   \n",
       "\n",
       "       tea_value       ai92       ai95       ai98         dt    ai92_value  \\\n",
       "0   14370.858197  51.036595  50.699178  50.744782  56.381341  2.715143e+05   \n",
       "1  109587.410809  45.055461  48.015626  47.806577  48.630819  1.581581e+06   \n",
       "2   50020.648854  45.908386  49.043088  48.737140  47.379565  9.403241e+05   \n",
       "3   22576.393481  46.040954  49.210342  44.536582  47.318759  3.906330e+05   \n",
       "4   31714.555481  44.093133  46.110521  47.607987  49.841580  3.557702e+05   \n",
       "\n",
       "     ai95_value    ai98_value       dt_value  \n",
       "0  2.098302e+05  23700.290371   39492.074831  \n",
       "1  1.329051e+06   1015.551481  390320.944234  \n",
       "2  4.449515e+05   4249.800714   83427.691070  \n",
       "3  3.271275e+05   2076.367112  155017.335771  \n",
       "4  3.397233e+05    738.279008   26024.235323  \n",
       "\n",
       "[5 rows x 79 columns]"
      ]
     },
     "execution_count": 29,
     "metadata": {},
     "output_type": "execute_result"
    }
   ],
   "source": [
    "submission.head()"
   ]
  },
  {
   "cell_type": "code",
   "execution_count": null,
   "metadata": {},
   "outputs": [],
   "source": []
  },
  {
   "cell_type": "code",
   "execution_count": 30,
   "metadata": {},
   "outputs": [],
   "source": [
    "submission.to_csv(os.path.join(PATH_SUBM, 'phrop_deviation_sum_nz.csv'))"
   ]
  },
  {
   "cell_type": "code",
   "execution_count": null,
   "metadata": {},
   "outputs": [],
   "source": []
  },
  {
   "cell_type": "code",
   "execution_count": null,
   "metadata": {},
   "outputs": [],
   "source": []
  },
  {
   "cell_type": "code",
   "execution_count": null,
   "metadata": {},
   "outputs": [],
   "source": []
  },
  {
   "cell_type": "code",
   "execution_count": null,
   "metadata": {},
   "outputs": [],
   "source": []
  },
  {
   "cell_type": "markdown",
   "metadata": {},
   "source": [
    "# below this level - trash. do not used"
   ]
  },
  {
   "cell_type": "code",
   "execution_count": null,
   "metadata": {},
   "outputs": [],
   "source": []
  },
  {
   "cell_type": "code",
   "execution_count": null,
   "metadata": {},
   "outputs": [],
   "source": [
    "train = get_aver('fruit_value')\n",
    "train.shape"
   ]
  },
  {
   "cell_type": "code",
   "execution_count": null,
   "metadata": {},
   "outputs": [],
   "source": [
    "train.head()"
   ]
  },
  {
   "cell_type": "code",
   "execution_count": null,
   "metadata": {},
   "outputs": [],
   "source": [
    "train.fruit_value.plot()"
   ]
  },
  {
   "cell_type": "code",
   "execution_count": null,
   "metadata": {},
   "outputs": [],
   "source": []
  },
  {
   "cell_type": "code",
   "execution_count": null,
   "metadata": {},
   "outputs": [],
   "source": []
  },
  {
   "cell_type": "code",
   "execution_count": null,
   "metadata": {},
   "outputs": [],
   "source": [
    "X = train.reset_index()[['date', 'fruit_value']]#.columns = ['ds', 'y']\n",
    "X.columns=['ds', 'y']\n",
    "X.head()"
   ]
  },
  {
   "cell_type": "code",
   "execution_count": null,
   "metadata": {},
   "outputs": [],
   "source": []
  },
  {
   "cell_type": "code",
   "execution_count": null,
   "metadata": {},
   "outputs": [],
   "source": [
    "model = Prophet(daily_seasonality=True)"
   ]
  },
  {
   "cell_type": "code",
   "execution_count": null,
   "metadata": {},
   "outputs": [],
   "source": [
    "model.fit(X)"
   ]
  },
  {
   "cell_type": "markdown",
   "metadata": {},
   "source": [
    "c 01.04.2021 по 30.06.2021 "
   ]
  },
  {
   "cell_type": "code",
   "execution_count": null,
   "metadata": {},
   "outputs": [],
   "source": [
    "future = model.make_future_dataframe(periods=91)\n",
    "print(future.shape)\n",
    "future = future[821:]"
   ]
  },
  {
   "cell_type": "code",
   "execution_count": null,
   "metadata": {},
   "outputs": [],
   "source": [
    "future.head(), future.tail()"
   ]
  },
  {
   "cell_type": "code",
   "execution_count": null,
   "metadata": {},
   "outputs": [],
   "source": [
    "forecast = model.predict(future)"
   ]
  },
  {
   "cell_type": "code",
   "execution_count": null,
   "metadata": {},
   "outputs": [],
   "source": [
    "fig1 = model.plot(forecast, figsize = (22, 7))"
   ]
  },
  {
   "cell_type": "code",
   "execution_count": null,
   "metadata": {},
   "outputs": [],
   "source": [
    "fig2 = model.plot_components(forecast)"
   ]
  },
  {
   "cell_type": "code",
   "execution_count": null,
   "metadata": {},
   "outputs": [],
   "source": []
  },
  {
   "cell_type": "code",
   "execution_count": null,
   "metadata": {},
   "outputs": [],
   "source": []
  },
  {
   "cell_type": "code",
   "execution_count": null,
   "metadata": {},
   "outputs": [],
   "source": []
  },
  {
   "cell_type": "code",
   "execution_count": null,
   "metadata": {},
   "outputs": [],
   "source": [
    "forecast['ds']"
   ]
  },
  {
   "cell_type": "code",
   "execution_count": null,
   "metadata": {},
   "outputs": [],
   "source": []
  },
  {
   "cell_type": "code",
   "execution_count": null,
   "metadata": {},
   "outputs": [],
   "source": [
    "fig = px.line(x = forecast['ds'], y = forecast['yhat'])\n",
    "fig.show()"
   ]
  },
  {
   "cell_type": "code",
   "execution_count": null,
   "metadata": {},
   "outputs": [],
   "source": [
    "fig = px.line(x = forecast['ds'], y = forecast['yhat'])\n",
    "fig.show()"
   ]
  },
  {
   "cell_type": "code",
   "execution_count": null,
   "metadata": {},
   "outputs": [],
   "source": []
  },
  {
   "cell_type": "code",
   "execution_count": null,
   "metadata": {},
   "outputs": [],
   "source": []
  },
  {
   "cell_type": "code",
   "execution_count": null,
   "metadata": {},
   "outputs": [],
   "source": [
    "Xfull.fruit.mean(), Xtrue.fruit.mean()"
   ]
  },
  {
   "cell_type": "code",
   "execution_count": null,
   "metadata": {},
   "outputs": [],
   "source": [
    "Xfull = get_aver('fruit', ignore_Ingush = False)\n",
    "Xtrue = get_aver('fruit', ignore_Ingush = True)"
   ]
  },
  {
   "cell_type": "code",
   "execution_count": null,
   "metadata": {},
   "outputs": [],
   "source": [
    "fig = px.line(y = Xfull.fruit, x = Xfull.index)\n",
    "#fig.add_scatter(px.line(Xtrue))\n",
    "fig.add_trace(go.Scatter(y = Xtrue.fruit, x = Xtrue.index))\n",
    "fig.show()"
   ]
  },
  {
   "cell_type": "code",
   "execution_count": null,
   "metadata": {},
   "outputs": [],
   "source": [
    "Xfull.index\n",
    "#Xtrue.index"
   ]
  },
  {
   "cell_type": "code",
   "execution_count": null,
   "metadata": {},
   "outputs": [],
   "source": [
    "fig = px.line(y = Xfull.fruit, x= Xfull.index)\n",
    "fig.show()"
   ]
  },
  {
   "cell_type": "code",
   "execution_count": null,
   "metadata": {},
   "outputs": [],
   "source": [
    "fig = px.line(y = Xtrue.fruit, x= Xtrue.index)\n",
    "fig.show()"
   ]
  },
  {
   "cell_type": "code",
   "execution_count": null,
   "metadata": {},
   "outputs": [],
   "source": []
  }
 ],
 "metadata": {
  "kernelspec": {
   "display_name": "Python 3",
   "language": "python",
   "name": "python3"
  },
  "language_info": {
   "codemirror_mode": {
    "name": "ipython",
    "version": 3
   },
   "file_extension": ".py",
   "mimetype": "text/x-python",
   "name": "python",
   "nbconvert_exporter": "python",
   "pygments_lexer": "ipython3",
   "version": "3.7.10"
  }
 },
 "nbformat": 4,
 "nbformat_minor": 4
}
