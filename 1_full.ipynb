{
 "cells": [
  {
   "cell_type": "code",
   "execution_count": 126,
   "id": "565a462b-778a-4272-867c-4ffb8b045c26",
   "metadata": {},
   "outputs": [],
   "source": [
    "import os\n",
    "from pathlib import Path\n",
    "\n",
    "import pandas as pd\n",
    "import numpy as np\n",
    "import json\n",
    "import pickle as pkl\n",
    "\n",
    "from itertools import product as prd\n",
    "from tqdm.auto import tqdm  # notebook compatible"
   ]
  },
  {
   "cell_type": "code",
   "execution_count": 16,
   "id": "10a2b195-fdaf-4899-bd28-f7869f84c0ad",
   "metadata": {},
   "outputs": [],
   "source": [
    "from prophet import Prophet\n",
    "from sklearn.metrics import mean_absolute_error"
   ]
  },
  {
   "cell_type": "code",
   "execution_count": 3,
   "id": "559a8d9c-8de5-4cb1-97bc-a8c4f325f9c3",
   "metadata": {},
   "outputs": [],
   "source": [
    "from fns_holidays import all_holidays"
   ]
  },
  {
   "cell_type": "code",
   "execution_count": 53,
   "id": "504f4f06-ce58-4180-b688-320e7bde1643",
   "metadata": {},
   "outputs": [],
   "source": [
    "from datetime import datetime"
   ]
  },
  {
   "cell_type": "code",
   "execution_count": 4,
   "id": "97b30d8a-caf4-4b0c-be33-a495107ea7b6",
   "metadata": {},
   "outputs": [],
   "source": [
    "PATH_DATA = os.path.join(Path.cwd(), 'data')\n",
    "PATH_SUBM = os.path.join(Path.cwd(), 'submissions')"
   ]
  },
  {
   "cell_type": "code",
   "execution_count": null,
   "id": "20356cef-4952-4824-b280-040fd30266ba",
   "metadata": {},
   "outputs": [],
   "source": []
  },
  {
   "cell_type": "markdown",
   "id": "67819703-48f5-4284-8e01-b8f68af814d9",
   "metadata": {},
   "source": [
    "# Построение модели для каждого ряда."
   ]
  },
  {
   "cell_type": "markdown",
   "id": "535e1f4e-a4ec-44e0-9cc5-9bb62a09b98b",
   "metadata": {},
   "source": [
    "Загрузка данных"
   ]
  },
  {
   "cell_type": "code",
   "execution_count": 94,
   "id": "45641a6c-6ab6-4397-95bb-4d0c56507889",
   "metadata": {},
   "outputs": [
    {
     "data": {
      "text/plain": [
       "(69785, 79)"
      ]
     },
     "execution_count": 94,
     "metadata": {},
     "output_type": "execute_result"
    }
   ],
   "source": [
    "df = pd.read_csv(os.path.join(PATH_DATA, 'train.csv'),\n",
    "                 sep = ';',\n",
    "                 #parse_dates=['date'],\n",
    "                 #infer_datetime_format=True,\n",
    "                 decimal = ',',\n",
    "                 thousands='\\xa0',\n",
    "                 engine='python',\n",
    "                )\n",
    "df.shape"
   ]
  },
  {
   "cell_type": "code",
   "execution_count": 95,
   "id": "c8c02175-3d9a-4e05-a606-b6a7a2d9d4f7",
   "metadata": {},
   "outputs": [],
   "source": [
    "df['date'] = pd.to_datetime(df['date'], format='%d.%m.%Y')"
   ]
  },
  {
   "cell_type": "code",
   "execution_count": null,
   "id": "5f29c3e7-00a5-42c9-8cd8-a06076717170",
   "metadata": {},
   "outputs": [],
   "source": []
  },
  {
   "cell_type": "code",
   "execution_count": 116,
   "id": "73dddd0a-cfe8-4ef4-86f3-93a196d2dcc3",
   "metadata": {},
   "outputs": [],
   "source": [
    "oktmo = df.oktmo.unique()\n",
    "items = df.columns[4:]"
   ]
  },
  {
   "cell_type": "code",
   "execution_count": 14,
   "id": "2fd7b2d8-a4cd-4943-a42e-b0dfe3f1fe6b",
   "metadata": {},
   "outputs": [],
   "source": [
    "length = df.loc[df.oktmo == 46000000000, ['date', itm]].shape[0]"
   ]
  },
  {
   "cell_type": "code",
   "execution_count": 97,
   "id": "3caf37e4-33fd-4c88-a33d-0b810a015356",
   "metadata": {},
   "outputs": [
    {
     "data": {
      "text/plain": [
       "(7735, 79)"
      ]
     },
     "execution_count": 97,
     "metadata": {},
     "output_type": "execute_result"
    }
   ],
   "source": [
    "submission = pd.read_csv(os.path.join(PATH_DATA, 'sample_submission.csv'), \n",
    "                        #parse_dates = ['date']\n",
    "                        )\n",
    "submission.shape"
   ]
  },
  {
   "cell_type": "code",
   "execution_count": 98,
   "id": "f32302c6-0d68-4a1d-9d77-7497a187e5ac",
   "metadata": {},
   "outputs": [
    {
     "data": {
      "text/plain": [
       "(Timestamp('2021-04-01 00:00:00'), Timestamp('2021-06-30 00:00:00'))"
      ]
     },
     "execution_count": 98,
     "metadata": {},
     "output_type": "execute_result"
    }
   ],
   "source": [
    "submission['date'] = pd.to_datetime(submission['date'], format='%d.%m.%Y')\n",
    "submission.date.min(), submission.date.max()"
   ]
  },
  {
   "cell_type": "code",
   "execution_count": 99,
   "id": "6f2aeeec-ecc5-492e-9d23-067e3d1d664e",
   "metadata": {},
   "outputs": [
    {
     "data": {
      "text/html": [
       "<div>\n",
       "<style scoped>\n",
       "    .dataframe tbody tr th:only-of-type {\n",
       "        vertical-align: middle;\n",
       "    }\n",
       "\n",
       "    .dataframe tbody tr th {\n",
       "        vertical-align: top;\n",
       "    }\n",
       "\n",
       "    .dataframe thead th {\n",
       "        text-align: right;\n",
       "    }\n",
       "</style>\n",
       "<table border=\"1\" class=\"dataframe\">\n",
       "  <thead>\n",
       "    <tr style=\"text-align: right;\">\n",
       "      <th></th>\n",
       "      <th>region</th>\n",
       "      <th>oktmo</th>\n",
       "      <th>okato</th>\n",
       "      <th>date</th>\n",
       "      <th>pasta</th>\n",
       "      <th>legumes</th>\n",
       "      <th>bread</th>\n",
       "      <th>flour</th>\n",
       "      <th>rice</th>\n",
       "      <th>groats</th>\n",
       "      <th>...</th>\n",
       "      <th>spice_value</th>\n",
       "      <th>tea_value</th>\n",
       "      <th>ai92</th>\n",
       "      <th>ai95</th>\n",
       "      <th>ai98</th>\n",
       "      <th>dt</th>\n",
       "      <th>ai92_value</th>\n",
       "      <th>ai95_value</th>\n",
       "      <th>ai98_value</th>\n",
       "      <th>dt_value</th>\n",
       "    </tr>\n",
       "  </thead>\n",
       "  <tbody>\n",
       "    <tr>\n",
       "      <th>0</th>\n",
       "      <td>65</td>\n",
       "      <td>64000000000</td>\n",
       "      <td>64000000000</td>\n",
       "      <td>2021-06-30</td>\n",
       "      <td>0</td>\n",
       "      <td>0</td>\n",
       "      <td>0</td>\n",
       "      <td>0</td>\n",
       "      <td>0</td>\n",
       "      <td>0</td>\n",
       "      <td>...</td>\n",
       "      <td>0</td>\n",
       "      <td>0</td>\n",
       "      <td>0</td>\n",
       "      <td>0</td>\n",
       "      <td>0</td>\n",
       "      <td>0</td>\n",
       "      <td>0</td>\n",
       "      <td>0</td>\n",
       "      <td>0</td>\n",
       "      <td>0</td>\n",
       "    </tr>\n",
       "    <tr>\n",
       "      <th>1</th>\n",
       "      <td>66</td>\n",
       "      <td>65000000000</td>\n",
       "      <td>65000000000</td>\n",
       "      <td>2021-06-30</td>\n",
       "      <td>0</td>\n",
       "      <td>0</td>\n",
       "      <td>0</td>\n",
       "      <td>0</td>\n",
       "      <td>0</td>\n",
       "      <td>0</td>\n",
       "      <td>...</td>\n",
       "      <td>0</td>\n",
       "      <td>0</td>\n",
       "      <td>0</td>\n",
       "      <td>0</td>\n",
       "      <td>0</td>\n",
       "      <td>0</td>\n",
       "      <td>0</td>\n",
       "      <td>0</td>\n",
       "      <td>0</td>\n",
       "      <td>0</td>\n",
       "    </tr>\n",
       "    <tr>\n",
       "      <th>2</th>\n",
       "      <td>64</td>\n",
       "      <td>63000000000</td>\n",
       "      <td>63000000000</td>\n",
       "      <td>2021-06-30</td>\n",
       "      <td>0</td>\n",
       "      <td>0</td>\n",
       "      <td>0</td>\n",
       "      <td>0</td>\n",
       "      <td>0</td>\n",
       "      <td>0</td>\n",
       "      <td>...</td>\n",
       "      <td>0</td>\n",
       "      <td>0</td>\n",
       "      <td>0</td>\n",
       "      <td>0</td>\n",
       "      <td>0</td>\n",
       "      <td>0</td>\n",
       "      <td>0</td>\n",
       "      <td>0</td>\n",
       "      <td>0</td>\n",
       "      <td>0</td>\n",
       "    </tr>\n",
       "    <tr>\n",
       "      <th>3</th>\n",
       "      <td>67</td>\n",
       "      <td>66000000000</td>\n",
       "      <td>66000000000</td>\n",
       "      <td>2021-06-30</td>\n",
       "      <td>0</td>\n",
       "      <td>0</td>\n",
       "      <td>0</td>\n",
       "      <td>0</td>\n",
       "      <td>0</td>\n",
       "      <td>0</td>\n",
       "      <td>...</td>\n",
       "      <td>0</td>\n",
       "      <td>0</td>\n",
       "      <td>0</td>\n",
       "      <td>0</td>\n",
       "      <td>0</td>\n",
       "      <td>0</td>\n",
       "      <td>0</td>\n",
       "      <td>0</td>\n",
       "      <td>0</td>\n",
       "      <td>0</td>\n",
       "    </tr>\n",
       "    <tr>\n",
       "      <th>4</th>\n",
       "      <td>70</td>\n",
       "      <td>69000000000</td>\n",
       "      <td>69000000000</td>\n",
       "      <td>2021-06-30</td>\n",
       "      <td>0</td>\n",
       "      <td>0</td>\n",
       "      <td>0</td>\n",
       "      <td>0</td>\n",
       "      <td>0</td>\n",
       "      <td>0</td>\n",
       "      <td>...</td>\n",
       "      <td>0</td>\n",
       "      <td>0</td>\n",
       "      <td>0</td>\n",
       "      <td>0</td>\n",
       "      <td>0</td>\n",
       "      <td>0</td>\n",
       "      <td>0</td>\n",
       "      <td>0</td>\n",
       "      <td>0</td>\n",
       "      <td>0</td>\n",
       "    </tr>\n",
       "  </tbody>\n",
       "</table>\n",
       "<p>5 rows × 79 columns</p>\n",
       "</div>"
      ],
      "text/plain": [
       "   region        oktmo        okato       date  pasta  legumes  bread  flour  \\\n",
       "0      65  64000000000  64000000000 2021-06-30      0        0      0      0   \n",
       "1      66  65000000000  65000000000 2021-06-30      0        0      0      0   \n",
       "2      64  63000000000  63000000000 2021-06-30      0        0      0      0   \n",
       "3      67  66000000000  66000000000 2021-06-30      0        0      0      0   \n",
       "4      70  69000000000  69000000000 2021-06-30      0        0      0      0   \n",
       "\n",
       "   rice  groats  ...  spice_value  tea_value  ai92  ai95  ai98  dt  \\\n",
       "0     0       0  ...            0          0     0     0     0   0   \n",
       "1     0       0  ...            0          0     0     0     0   0   \n",
       "2     0       0  ...            0          0     0     0     0   0   \n",
       "3     0       0  ...            0          0     0     0     0   0   \n",
       "4     0       0  ...            0          0     0     0     0   0   \n",
       "\n",
       "   ai92_value  ai95_value  ai98_value  dt_value  \n",
       "0           0           0           0         0  \n",
       "1           0           0           0         0  \n",
       "2           0           0           0         0  \n",
       "3           0           0           0         0  \n",
       "4           0           0           0         0  \n",
       "\n",
       "[5 rows x 79 columns]"
      ]
     },
     "execution_count": 99,
     "metadata": {},
     "output_type": "execute_result"
    }
   ],
   "source": [
    "submission.head()"
   ]
  },
  {
   "cell_type": "code",
   "execution_count": null,
   "id": "395d0537-df93-4052-a77d-2fa0846ac201",
   "metadata": {},
   "outputs": [],
   "source": []
  },
  {
   "cell_type": "code",
   "execution_count": null,
   "id": "066833a0-d0ed-40a8-b661-1a316dc2c8b3",
   "metadata": {},
   "outputs": [],
   "source": []
  },
  {
   "cell_type": "markdown",
   "id": "e00b9742-8a7a-4ff9-84eb-7d32558f7231",
   "metadata": {},
   "source": [
    "Определяем важность ряда: чем большее значение в итоговую ошибку он вносит, тем больше его важность.   \n",
    "Определяем просто - через ошибку при подаче нуля"
   ]
  },
  {
   "cell_type": "code",
   "execution_count": 18,
   "id": "3fa1dec6-96f0-49dd-b023-a9c9890e57fd",
   "metadata": {},
   "outputs": [
    {
     "data": {
      "application/vnd.jupyter.widget-view+json": {
       "model_id": "e8018530c6f042868886ae0104ab87eb",
       "version_major": 2,
       "version_minor": 0
      },
      "text/plain": [
       "  0%|          | 0/6375 [00:00<?, ?it/s]"
      ]
     },
     "metadata": {},
     "output_type": "display_data"
    }
   ],
   "source": [
    "ej_df = pd.DataFrame(columns = list(items), index = oktmo)\n",
    "\n",
    "for itm, reg in tqdm(product(items, oktmo), total = len(oktmo)*len(items)):\n",
    "\n",
    "    val = [0]*length\n",
    "    v_mae_j  = mean_absolute_error( df.loc[df.oktmo == reg, itm], val)\n",
    "    v_mean_j  = 1\n",
    "    \n",
    "    ej_df.loc[reg, itm] = (v_mae_j / v_mean_j)"
   ]
  },
  {
   "cell_type": "code",
   "execution_count": 19,
   "id": "eb8ccdf3-2171-4b40-87a2-786bb2943304",
   "metadata": {},
   "outputs": [],
   "source": [
    "order = []\n",
    "for el in items:\n",
    "    order.append((el, ej_df[el].sum()))"
   ]
  },
  {
   "cell_type": "code",
   "execution_count": 26,
   "id": "0a3a49a8-1b76-4733-857d-41faa3b97ea9",
   "metadata": {},
   "outputs": [],
   "source": [
    "order = sorted(order, key=lambda tup: tup[1], reverse = True)"
   ]
  },
  {
   "cell_type": "code",
   "execution_count": 28,
   "id": "8adc9fd0-92b1-430d-9cdc-1d9f67703445",
   "metadata": {},
   "outputs": [],
   "source": [
    "X = df.loc[df.oktmo == 46000000000, :]\n",
    "X = X.reset_index()[['date', 'pasta']]\n",
    "X.columns=['ds', 'y']\n",
    "\n",
    "model = Prophet(yearly_seasonality=True,daily_seasonality=True)\n",
    "model.fit(X)\n",
    "\n",
    "future = model.make_future_dataframe(periods=91)\n",
    "future = future[821:]"
   ]
  },
  {
   "cell_type": "code",
   "execution_count": 106,
   "id": "34a05ee3-cb9a-491f-a6fa-f5722eb92d49",
   "metadata": {},
   "outputs": [
    {
     "data": {
      "application/vnd.jupyter.widget-view+json": {
       "model_id": "62f11b955d2d41dab7b8b79a645c9d7a",
       "version_major": 2,
       "version_minor": 0
      },
      "text/plain": [
       "  0%|          | 0/10 [00:00<?, ?it/s]"
      ]
     },
     "metadata": {},
     "output_type": "display_data"
    },
    {
     "name": "stdout",
     "output_type": "stream",
     "text": [
      "cpi_1\n"
     ]
    },
    {
     "data": {
      "application/vnd.jupyter.widget-view+json": {
       "model_id": "",
       "version_major": 2,
       "version_minor": 0
      },
      "text/plain": [
       "  0%|          | 0/85 [00:00<?, ?it/s]"
      ]
     },
     "metadata": {},
     "output_type": "display_data"
    },
    {
     "name": "stdout",
     "output_type": "stream",
     "text": [
      "butter_value\n"
     ]
    },
    {
     "data": {
      "application/vnd.jupyter.widget-view+json": {
       "model_id": "",
       "version_major": 2,
       "version_minor": 0
      },
      "text/plain": [
       "  0%|          | 0/85 [00:00<?, ?it/s]"
      ]
     },
     "metadata": {},
     "output_type": "display_data"
    },
    {
     "name": "stdout",
     "output_type": "stream",
     "text": [
      "cpi_2\n"
     ]
    },
    {
     "data": {
      "application/vnd.jupyter.widget-view+json": {
       "model_id": "",
       "version_major": 2,
       "version_minor": 0
      },
      "text/plain": [
       "  0%|          | 0/85 [00:00<?, ?it/s]"
      ]
     },
     "metadata": {},
     "output_type": "display_data"
    },
    {
     "name": "stdout",
     "output_type": "stream",
     "text": [
      "ai98_value\n"
     ]
    },
    {
     "data": {
      "application/vnd.jupyter.widget-view+json": {
       "model_id": "",
       "version_major": 2,
       "version_minor": 0
      },
      "text/plain": [
       "  0%|          | 0/85 [00:00<?, ?it/s]"
      ]
     },
     "metadata": {},
     "output_type": "display_data"
    },
    {
     "name": "stdout",
     "output_type": "stream",
     "text": [
      "herring_value\n"
     ]
    },
    {
     "data": {
      "application/vnd.jupyter.widget-view+json": {
       "model_id": "",
       "version_major": 2,
       "version_minor": 0
      },
      "text/plain": [
       "  0%|          | 0/85 [00:00<?, ?it/s]"
      ]
     },
     "metadata": {},
     "output_type": "display_data"
    },
    {
     "name": "stdout",
     "output_type": "stream",
     "text": [
      "beef_value\n"
     ]
    },
    {
     "data": {
      "application/vnd.jupyter.widget-view+json": {
       "model_id": "",
       "version_major": 2,
       "version_minor": 0
      },
      "text/plain": [
       "  0%|          | 0/85 [00:00<?, ?it/s]"
      ]
     },
     "metadata": {},
     "output_type": "display_data"
    },
    {
     "name": "stdout",
     "output_type": "stream",
     "text": [
      "fish_value\n"
     ]
    },
    {
     "data": {
      "application/vnd.jupyter.widget-view+json": {
       "model_id": "",
       "version_major": 2,
       "version_minor": 0
      },
      "text/plain": [
       "  0%|          | 0/85 [00:00<?, ?it/s]"
      ]
     },
     "metadata": {},
     "output_type": "display_data"
    },
    {
     "name": "stdout",
     "output_type": "stream",
     "text": [
      "margarine_value\n"
     ]
    },
    {
     "data": {
      "application/vnd.jupyter.widget-view+json": {
       "model_id": "",
       "version_major": 2,
       "version_minor": 0
      },
      "text/plain": [
       "  0%|          | 0/85 [00:00<?, ?it/s]"
      ]
     },
     "metadata": {},
     "output_type": "display_data"
    },
    {
     "name": "stdout",
     "output_type": "stream",
     "text": [
      "butter\n"
     ]
    },
    {
     "data": {
      "application/vnd.jupyter.widget-view+json": {
       "model_id": "",
       "version_major": 2,
       "version_minor": 0
      },
      "text/plain": [
       "  0%|          | 0/85 [00:00<?, ?it/s]"
      ]
     },
     "metadata": {},
     "output_type": "display_data"
    },
    {
     "name": "stdout",
     "output_type": "stream",
     "text": [
      "cheese\n"
     ]
    },
    {
     "data": {
      "application/vnd.jupyter.widget-view+json": {
       "model_id": "",
       "version_major": 2,
       "version_minor": 0
      },
      "text/plain": [
       "  0%|          | 0/85 [00:00<?, ?it/s]"
      ]
     },
     "metadata": {},
     "output_type": "display_data"
    }
   ],
   "source": [
    "#for (itm, _), reg in tqdm(product(order[:10], oktmo), total = 10 * len(oktmo)):\n",
    "for itm, _ in tqdm(order[30:40]):\n",
    "    print(itm)\n",
    "    for reg in tqdm(oktmo, leave = False):\n",
    "        X = df.loc[df.oktmo == reg, ['date', itm]]\n",
    "        X = X.reset_index()[['date', itm]]\n",
    "        X.columns=['ds', 'y']\n",
    "\n",
    "        model = Prophet(yearly_seasonality=True, daily_seasonality=True,\n",
    "                        seasonality_mode='multiplicative',  # hz. future firecast more sharp\n",
    "                        holidays = all_holidays,\n",
    "                       )\n",
    "        model.fit(X)\n",
    "        forecast = model.predict(future)\n",
    "\n",
    "        for dt, value in forecast[['ds', 'yhat']].values:\n",
    "        #for dt in future.ds.values:\n",
    "            #mult = deviation_df.loc[reg, itm]\n",
    "            #value = forecast.query('ds == @dt')['yhat'] + mult\n",
    "            #value = forecast.loc[forecast.ds == dt, 'yhat'].values[0]\n",
    "            if value < 0:\n",
    "                value = 0\n",
    "            submission.loc[(submission.date == dt) & (submission.oktmo == reg), itm] = value"
   ]
  },
  {
   "cell_type": "code",
   "execution_count": 107,
   "id": "7d6f8fb0-8659-4f20-822c-58e83bd8c4c6",
   "metadata": {},
   "outputs": [],
   "source": [
    "submission.to_csv(os.path.join(PATH_SUBM, 'all_first_40.csv'))"
   ]
  },
  {
   "cell_type": "code",
   "execution_count": null,
   "id": "0554b1f5-e26b-492b-8a01-c69294957468",
   "metadata": {},
   "outputs": [],
   "source": []
  },
  {
   "cell_type": "markdown",
   "id": "ff2eef53-9967-467a-b5e6-71e3038fe938",
   "metadata": {},
   "source": [
    "Загружаем ручную разметку. Из нее потребуются кластеры с константными зачениями и нулями."
   ]
  },
  {
   "cell_type": "code",
   "execution_count": 114,
   "id": "20aef8f9-61b5-4eee-8793-34d5c0b730a5",
   "metadata": {},
   "outputs": [],
   "source": [
    "groups_df = pd.read_excel(os.path.join('.', 'notes_groups.xlsx'), index_col = 0)"
   ]
  },
  {
   "cell_type": "code",
   "execution_count": null,
   "id": "0d5c53e4-d18e-4db7-9357-5846672834f9",
   "metadata": {},
   "outputs": [],
   "source": []
  },
  {
   "cell_type": "markdown",
   "id": "27dfbd24-75ad-45b3-8caa-681784ab7265",
   "metadata": {},
   "source": [
    "Заполняем значения."
   ]
  },
  {
   "cell_type": "code",
   "execution_count": 135,
   "id": "9a3dc721-e8bb-4723-a8d9-6b50437eb08d",
   "metadata": {},
   "outputs": [],
   "source": [
    "zeros = []\n",
    "for itm, reg in prd(df.columns[4:], oktmo):\n",
    "    if groups_df.loc[reg, itm] == 'zero':\n",
    "        zeros.append((itm, reg))"
   ]
  },
  {
   "cell_type": "code",
   "execution_count": 136,
   "id": "3da7c80a-fe20-4e89-938f-bfce411178e4",
   "metadata": {},
   "outputs": [],
   "source": [
    "consts = []\n",
    "for itm, reg in product(df.columns[4:], oktmo):\n",
    "    if groups_df.loc[reg, itm] == 'const':\n",
    "        consts.append((itm, reg))"
   ]
  },
  {
   "cell_type": "code",
   "execution_count": 140,
   "id": "c912ce44-9411-4493-b0f1-1a68f4c47c9a",
   "metadata": {},
   "outputs": [
    {
     "data": {
      "application/vnd.jupyter.widget-view+json": {
       "model_id": "c7ef36433e604ea7a3783b8d800e8be9",
       "version_major": 2,
       "version_minor": 0
      },
      "text/plain": [
       "  0%|          | 0/242 [00:00<?, ?it/s]"
      ]
     },
     "metadata": {},
     "output_type": "display_data"
    }
   ],
   "source": [
    "for itm, reg in tqdm(zeros):\n",
    "    for dt, value in forecast[['ds', 'yhat']].values:\n",
    "        #value = [0]*91\n",
    "        first.loc[(first.date == dt) & (first.oktmo == reg), itm] = 0"
   ]
  },
  {
   "cell_type": "code",
   "execution_count": null,
   "id": "bf31049b-5f5c-4bd5-991a-ee719faaddfa",
   "metadata": {},
   "outputs": [],
   "source": []
  },
  {
   "cell_type": "code",
   "execution_count": null,
   "id": "14170cb7-64f1-4e45-8a78-26f9d8f7ecc3",
   "metadata": {},
   "outputs": [],
   "source": []
  },
  {
   "cell_type": "markdown",
   "id": "d56d7e03-bc53-4086-8939-0abbfe3ad404",
   "metadata": {},
   "source": [
    "# Заполняем константами и нулями значения рядов, рассчитанных на другом устройстве."
   ]
  },
  {
   "cell_type": "code",
   "execution_count": 108,
   "id": "c8d25c46-29b6-4e87-9a78-766b71eb6f9d",
   "metadata": {},
   "outputs": [],
   "source": [
    "first = submission.copy()"
   ]
  },
  {
   "cell_type": "code",
   "execution_count": 110,
   "id": "13b25f29-ac5b-4854-9627-d5313ce6bc4c",
   "metadata": {},
   "outputs": [],
   "source": [
    "last = pd.read_csv(os.path.join(PATH_SUBM, 'all_last_40.csv'))\n",
    "#last['date'] = pd.to_datetime(last['date'], format='%d.%m.%Y')\n",
    "last['date'] = pd.to_datetime(last['date'], format='%Y-%m-%d')"
   ]
  },
  {
   "cell_type": "code",
   "execution_count": 112,
   "id": "b77ee5cf-40f1-4d11-928b-b3c8b084a906",
   "metadata": {},
   "outputs": [],
   "source": [
    "for el, _ in order[40:]:\n",
    "    first[el] = last[el]"
   ]
  },
  {
   "cell_type": "code",
   "execution_count": 146,
   "id": "c572018a-b297-41bc-a2c8-963c3f393958",
   "metadata": {},
   "outputs": [],
   "source": []
  },
  {
   "cell_type": "code",
   "execution_count": 142,
   "id": "e261da28-3007-43a6-97d5-4eac6bd52d74",
   "metadata": {},
   "outputs": [],
   "source": [
    "const_dt = np.datetime64('2021-01-31')"
   ]
  },
  {
   "cell_type": "code",
   "execution_count": 143,
   "id": "3117822b-6923-4a00-94a7-fd28987baf68",
   "metadata": {},
   "outputs": [],
   "source": [
    "const_df = df.query('date > @const_dt')"
   ]
  },
  {
   "cell_type": "code",
   "execution_count": 145,
   "id": "f3e51750-4743-47bc-b453-281f8d354c82",
   "metadata": {},
   "outputs": [
    {
     "data": {
      "application/vnd.jupyter.widget-view+json": {
       "model_id": "38bd59a29bf747539397e776ed2cb738",
       "version_major": 2,
       "version_minor": 0
      },
      "text/plain": [
       "  0%|          | 0/146 [00:00<?, ?it/s]"
      ]
     },
     "metadata": {},
     "output_type": "display_data"
    }
   ],
   "source": [
    "for itm, reg in tqdm(consts):\n",
    "    constttt = np.mean(const_df.loc[const_df.oktmo == reg, itm])\n",
    "    \n",
    "    for dt, value in forecast[['ds', 'yhat']].values:\n",
    "        first.loc[(first.date == dt) & (first.oktmo == reg), itm] = constttt"
   ]
  },
  {
   "cell_type": "code",
   "execution_count": null,
   "id": "285442fd-1e51-4d70-aa31-eca08bf6bacd",
   "metadata": {},
   "outputs": [],
   "source": []
  },
  {
   "cell_type": "code",
   "execution_count": null,
   "id": "e64cd48d-f6f7-420b-be88-00e4ea1b3422",
   "metadata": {},
   "outputs": [],
   "source": []
  },
  {
   "cell_type": "code",
   "execution_count": null,
   "id": "c3dd2dba-ea35-413f-b57c-449a37256de5",
   "metadata": {},
   "outputs": [],
   "source": [
    "first.to_csv(os.path.join(PATH_SUBM, 'all_w_zeros_w_const.csv'))"
   ]
  }
 ],
 "metadata": {
  "kernelspec": {
   "display_name": "Python 3",
   "language": "python",
   "name": "python3"
  },
  "language_info": {
   "codemirror_mode": {
    "name": "ipython",
    "version": 3
   },
   "file_extension": ".py",
   "mimetype": "text/x-python",
   "name": "python",
   "nbconvert_exporter": "python",
   "pygments_lexer": "ipython3",
   "version": "3.7.10"
  }
 },
 "nbformat": 4,
 "nbformat_minor": 5
}
