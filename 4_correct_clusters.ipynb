{
 "cells": [
  {
   "cell_type": "code",
   "execution_count": null,
   "id": "6bc3d282-9e18-4eee-9e86-4f6cc3f0649c",
   "metadata": {},
   "outputs": [],
   "source": [
    "import os\n",
    "from pathlib import Path\n",
    "\n",
    "import pandas as pd\n",
    "import numpy as np\n",
    "\n",
    "import plotly.express as px\n",
    "\n",
    "import pickle as pkl"
   ]
  },
  {
   "cell_type": "code",
   "execution_count": null,
   "id": "17ffba31-173e-4dff-ae61-3a52ae40557f",
   "metadata": {},
   "outputs": [],
   "source": [
    "from prophet import Prophet\n",
    "from sklearn.metrics import mean_absolute_error"
   ]
  },
  {
   "cell_type": "code",
   "execution_count": null,
   "id": "382fcfb4-0ee4-49bf-9ea0-10873cc1bc8a",
   "metadata": {},
   "outputs": [],
   "source": []
  },
  {
   "cell_type": "markdown",
   "id": "d11fd87d-08a0-43b2-b167-7ea86f7c1ead",
   "metadata": {},
   "source": [
    "# Здесь только формируем список рядов (продукт - регион), для которого будет формироваться отдельная модель, \n",
    "# т.к. при модели отклонения от среднего по кластеру этот ряд сильно влияет на итоговую ошибку."
   ]
  },
  {
   "cell_type": "code",
   "execution_count": null,
   "id": "bad7cdd5-a3ab-40c1-a8da-fd8fbbc8cda9",
   "metadata": {},
   "outputs": [],
   "source": [
    "PATH_DATA = os.path.join(Path.cwd(), 'data')\n",
    "PATH_SUBM = os.path.join(Path.cwd(), 'submissions')"
   ]
  },
  {
   "cell_type": "code",
   "execution_count": null,
   "id": "193c3fae-fbd4-4f55-a684-a60a51c099a0",
   "metadata": {},
   "outputs": [],
   "source": [
    "ej_p = pd.read_csv(os.path.join(PATH_DATA, 'ej_gr_total.csv'), index_col = 0)"
   ]
  },
  {
   "cell_type": "code",
   "execution_count": null,
   "id": "de7ef23a-dbc1-4cac-b0df-66a272f664db",
   "metadata": {},
   "outputs": [],
   "source": [
    "fig = px.imshow(ej_p.values,\n",
    "               width=1200, height=1200\n",
    "               )\n",
    "fig.show()"
   ]
  },
  {
   "cell_type": "code",
   "execution_count": null,
   "id": "51d7965c-67f1-4d50-8eed-1fce6d2c3fdf",
   "metadata": {},
   "outputs": [],
   "source": [
    "THRESHOLD = 100\n",
    "heat = ej_p.copy()\n",
    "tt = ej_p.copy()\n",
    "zzeros = ej_p.copy()\n",
    "\n",
    "for el in heat.columns:\n",
    "    heat[el] = heat[el].map(lambda x: x if x > THRESHOLD and x != 55.55555555 else np.nan)\n",
    "    #heat[el] = heat[el].map(lambda x: x if x == 55.55555555 else np.nan)\n",
    "    tt[el] = tt[el].map(lambda x: 1 if x > THRESHOLD  and x != 55.55555555 else 0)\n",
    "    zzeros[el] = zzeros[el].map(lambda x: 1 if x > 55.555554 and x < 55.55556 else 0)\n",
    "        \n",
    "print('points more ej threshold ' + str(THRESHOLD))\n",
    "print(np.sum(tt.sum()))\n",
    "print('zeros')\n",
    "print(np.sum(zzeros.sum()))\n",
    "#fig = px.imshow(ej_p.values,\n",
    "fig = px.imshow(heat.values,\n",
    "               width=1200, height=1200\n",
    "               )\n",
    "fig.show()"
   ]
  },
  {
   "cell_type": "code",
   "execution_count": null,
   "id": "c564e96b-0d8b-4b2e-a227-0474bf785a87",
   "metadata": {},
   "outputs": [],
   "source": []
  },
  {
   "cell_type": "code",
   "execution_count": null,
   "id": "44bc6907-862b-4f59-b89e-07a6e4b4ad3b",
   "metadata": {},
   "outputs": [],
   "source": [
    "correct = []\n",
    "for el in ej_p.columns:\n",
    "    for idx in ej_p.index:\n",
    "        if tt.loc[idx, el] == 1:\n",
    "            correct.append((el, idx))"
   ]
  },
  {
   "cell_type": "code",
   "execution_count": null,
   "id": "b71dad45-f3ce-4399-a40f-3c6533062b31",
   "metadata": {},
   "outputs": [],
   "source": [
    "len(correct)"
   ]
  },
  {
   "cell_type": "code",
   "execution_count": null,
   "id": "23338adf-4e7c-43b4-ad54-fae6740b3480",
   "metadata": {},
   "outputs": [],
   "source": [
    "correct[:5]"
   ]
  },
  {
   "cell_type": "code",
   "execution_count": null,
   "id": "82296ed1-80c7-422e-b6be-fc440b7ef289",
   "metadata": {},
   "outputs": [],
   "source": [
    "#with open(os.path.join(PATH_DATA, 'correct.pickle'), 'wb') as f:\n",
    "with open('correct3.pickle', 'wb') as f:\n",
    "    pkl.dump(correct, f)"
   ]
  },
  {
   "cell_type": "code",
   "execution_count": null,
   "id": "dbb6bb3c-97c1-49f9-b945-01772c85d232",
   "metadata": {},
   "outputs": [],
   "source": []
  }
 ],
 "metadata": {
  "kernelspec": {
   "display_name": "Python 3",
   "language": "python",
   "name": "python3"
  },
  "language_info": {
   "codemirror_mode": {
    "name": "ipython",
    "version": 3
   },
   "file_extension": ".py",
   "mimetype": "text/x-python",
   "name": "python",
   "nbconvert_exporter": "python",
   "pygments_lexer": "ipython3",
   "version": "3.7.10"
  }
 },
 "nbformat": 4,
 "nbformat_minor": 5
}
