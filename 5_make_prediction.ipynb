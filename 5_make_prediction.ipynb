{
 "cells": [
  {
   "cell_type": "code",
   "execution_count": 2,
   "id": "75470091-319b-41b9-a5dc-41383142f3a7",
   "metadata": {},
   "outputs": [],
   "source": [
    "import os\n",
    "from pathlib import Path\n",
    "\n",
    "import pandas as pd\n",
    "import json"
   ]
  },
  {
   "cell_type": "code",
   "execution_count": 4,
   "id": "e765ecb8-258b-4ebe-bc11-ef2de286f880",
   "metadata": {},
   "outputs": [],
   "source": [
    "from itertools import product\n",
    "from tqdm import tqdm"
   ]
  },
  {
   "cell_type": "code",
   "execution_count": null,
   "id": "0cc460d6-9440-4aca-ae9e-03ede01423a1",
   "metadata": {},
   "outputs": [],
   "source": [
    "from fns_holidays import all_holidays"
   ]
  },
  {
   "cell_type": "code",
   "execution_count": null,
   "id": "400c47a4-59a6-4458-96b9-24fc37051f15",
   "metadata": {},
   "outputs": [],
   "source": []
  },
  {
   "cell_type": "code",
   "execution_count": 5,
   "id": "f86973dd-617d-4818-90c9-a91d748d5a39",
   "metadata": {},
   "outputs": [],
   "source": [
    "PATH_DATA = os.path.join(Path.cwd(), 'data')\n",
    "PATH_SUBM = os.path.join(Path.cwd(), 'submissions')"
   ]
  },
  {
   "cell_type": "code",
   "execution_count": null,
   "id": "63936872-dc35-4780-bb82-b7289dacdab1",
   "metadata": {},
   "outputs": [],
   "source": [
    "FULL = True"
   ]
  },
  {
   "cell_type": "code",
   "execution_count": null,
   "id": "f4456489-0856-4547-a017-5e275950e4d8",
   "metadata": {},
   "outputs": [],
   "source": [
    "DEV_NAME = 'deviation_gr_nz'"
   ]
  },
  {
   "cell_type": "code",
   "execution_count": null,
   "id": "bba65f9e-828c-48b3-88fd-eb53225279b7",
   "metadata": {},
   "outputs": [],
   "source": []
  },
  {
   "cell_type": "markdown",
   "id": "fc873050-698f-4907-816e-57a8f32bab33",
   "metadata": {},
   "source": [
    "# Построение моделей и расчет ошибок"
   ]
  },
  {
   "cell_type": "markdown",
   "id": "88c1ccf8-46e4-4815-ac57-3976e81c002c",
   "metadata": {},
   "source": [
    "это завершающий этап из цикла 1-5, который призван итерационно уменьшать ошибку"
   ]
  },
  {
   "cell_type": "markdown",
   "id": "fafc5c8a-f530-4af0-be04-6fca7b180359",
   "metadata": {},
   "source": [
    "Загрузка данных"
   ]
  },
  {
   "cell_type": "code",
   "execution_count": 12,
   "id": "d4c48fb3-e90c-4994-b4cf-a5325a9bdfec",
   "metadata": {},
   "outputs": [
    {
     "data": {
      "text/plain": [
       "(69785, 79)"
      ]
     },
     "execution_count": 12,
     "metadata": {},
     "output_type": "execute_result"
    }
   ],
   "source": [
    "#train = pd.read_csv(os.path.join(PATH_DATA, 'train_orig.csv'), sep = ';', encoding = 'utf-8', engine='python')\n",
    "df = pd.read_csv(os.path.join(PATH_DATA, 'train.csv'),\n",
    "                 sep = ';',\n",
    "                 parse_dates=['date'],\n",
    "                 infer_datetime_format=True,\n",
    "                 decimal = ',',\n",
    "                 thousands='\\xa0',\n",
    "                 engine='python',\n",
    "                )\n",
    "df.shape"
   ]
  },
  {
   "cell_type": "code",
   "execution_count": 6,
   "id": "4d158a1b-22b9-49e3-9616-1ac7f4f36ce4",
   "metadata": {},
   "outputs": [],
   "source": [
    "oktmo = df.oktmo.unique()\n",
    "items = df.columns[4:]"
   ]
  },
  {
   "cell_type": "markdown",
   "id": "c5a27d72-1239-483b-a167-f7e62b07b90a",
   "metadata": {},
   "source": [
    "Загрузка кластеров, отклонений рядов"
   ]
  },
  {
   "cell_type": "code",
   "execution_count": null,
   "id": "df9c3bae-428c-48cf-8e5c-dc51ff6ac47f",
   "metadata": {},
   "outputs": [],
   "source": [
    "with open(os.path.join('.', 'groups.json')) as json_file:\n",
    "    groups = json.load(json_file)"
   ]
  },
  {
   "cell_type": "code",
   "execution_count": null,
   "id": "d4713016-4469-4886-895c-0a43a0a2bf2e",
   "metadata": {},
   "outputs": [],
   "source": [
    "if not FULL:\n",
    "    #average_df = pd.read_csv(os.path.join('.', 'average.csv'), index_col = 0)\n",
    "    #deviation_df = pd.read_csv(os.path.join(PATH_DATA, DEV_NAME+'_part.csv'), index_col = 0)\n",
    "    name = os.path.join(PATH_DATA, DEV_NAME+'_part.csv')\n",
    "else:\n",
    "    #average_df = pd.read_csv(os.path.join('.', 'average.csv'), index_col = 0)\n",
    "    #deviation_df = pd.read_csv(os.path.join(PATH_DATA, DEV_NAME+'_full.csv'), index_col = 0)\n",
    "    name = os.path.join(PATH_DATA, DEV_NAME+'_full.csv')\n",
    "    \n",
    "average_df = pd.read_csv(os.path.join('.', 'average.csv'), index_col = 0)\n",
    "deviation_df = pd.read_csv(name, index_col = 0)"
   ]
  },
  {
   "cell_type": "code",
   "execution_count": 7,
   "id": "9712433a-de73-4aa5-b6a3-d63e75b25fd0",
   "metadata": {},
   "outputs": [],
   "source": []
  },
  {
   "cell_type": "code",
   "execution_count": 8,
   "id": "afde1186-c41c-45e0-8902-96b6caab57d5",
   "metadata": {},
   "outputs": [],
   "source": []
  },
  {
   "cell_type": "markdown",
   "id": "7d565fe1-34c7-4c62-9b75-aa440528c3d4",
   "metadata": {},
   "source": [
    "Создание дат для прогноза с 01.04.2021 по 30.06.2021"
   ]
  },
  {
   "cell_type": "code",
   "execution_count": null,
   "id": "7a5d40f6-f7e9-45db-b25b-411844f7d75b",
   "metadata": {},
   "outputs": [],
   "source": [
    "X = average_df['pasta_group_0']\n",
    "X = X.reset_index()#[['date', 'pasta_group_0']]\n",
    "X.columns=['ds', 'y']"
   ]
  },
  {
   "cell_type": "code",
   "execution_count": null,
   "id": "8b4569aa-557a-4f98-958c-a903feb957c3",
   "metadata": {},
   "outputs": [],
   "source": [
    "model = Prophet(yearly_seasonality=True, daily_seasonality=True)\n",
    "model.fit(X)\n",
    "\n",
    "#future = model.make_future_dataframe(periods = test.date.unique().shape[0])\n",
    "future = model.make_future_dataframe(periods = 0)\n",
    "future = future[train.date.unique().shape[0]:]"
   ]
  },
  {
   "cell_type": "code",
   "execution_count": null,
   "id": "972b6850-70fa-4ca8-9d24-2e3bd7db961c",
   "metadata": {},
   "outputs": [],
   "source": []
  },
  {
   "cell_type": "code",
   "execution_count": null,
   "id": "25aa28a2-b8f0-418c-b12f-267939c5fac9",
   "metadata": {},
   "outputs": [],
   "source": [
    "dev_groups = ['group_0','group_1','group_2','group_3','group_4','group_5']"
   ]
  },
  {
   "cell_type": "markdown",
   "id": "f8e1337a-4271-43f4-9faf-bbf908075dea",
   "metadata": {},
   "source": [
    "Построение моделей для средних кластеров и расчет ошибок для каждого ряда"
   ]
  },
  {
   "cell_type": "markdown",
   "id": "fc79ddc2-1af7-4773-bcb7-377af698f175",
   "metadata": {},
   "source": [
    "т.к. в делителе v_mean_j может быть 0 (например при передаче 0 в качестве значений)   \n",
    "присваиваем значение 55.55555555 ошибке ej. такие значения можно будет с легкостью увидеть на хитмапе ошибок в 4"
   ]
  },
  {
   "cell_type": "code",
   "execution_count": null,
   "id": "706e0909-117d-41c2-8647-fab3c9bde689",
   "metadata": {},
   "outputs": [],
   "source": [
    "ej = list()\n",
    "ej_df = pd.DataFrame(columns = list(items), index = oktmo)\n",
    "\n",
    "for itm in tqdm(items):\n",
    "    #for cur_group in tqdm(groups[itm], leave=False):\n",
    "    for cur_group in tqdm(dev_groups, leave=False):\n",
    "                \n",
    "        if len(groups[itm][cur_group]) == 0:\n",
    "            continue\n",
    "            \n",
    "        X = average_df[f'{itm}_{cur_group}']\n",
    "        X = X.reset_index()#[['date', itm]]#.columns = ['ds', 'y']\n",
    "        X.columns=['ds', 'y']\n",
    "        \n",
    "        #print(itm, cur_group, X.shape)\n",
    "        model = Prophet(yearly_seasonality=True, daily_seasonality=True,\n",
    "                        seasonality_mode='multiplicative',  # hz. future firecast more sharp\n",
    "                        #changepoint_prior_scale=0.15,   # 0.1 - 0.15 looks adequately\n",
    "                        holidays = all_holidays,\n",
    "                        #changepoints=['2020-09-23', '2020-03-09', '2020-10-26'],\n",
    "                       )\n",
    "        #model.add_country_holidays(country_name='RUS')\n",
    "        model.fit(X)\n",
    "        forecast = model.predict(future)\n",
    "\n",
    "        for reg in groups[itm][cur_group]:\n",
    "            mult = deviation_df.loc[reg, itm]\n",
    "            val = forecast.yhat.values + mult\n",
    "            val = list(map(lambda x: x if x >=0 else 0, val))\n",
    "            #v_mae_j  = mean_absolute_error( test_df.loc[test_df.oktmo == reg, itm], forecast.yhat.values + mult)\n",
    "            #v_mae_j  = mean_absolute_error( test_df.loc[test_df.oktmo == reg, itm], forecast.yhat.values * mult)\n",
    "            v_mae_j  = mean_absolute_error( test.loc[test.oktmo == reg, itm], val)\n",
    "            v_mean_j  = np.mean(val)\n",
    "            #v_mean_j  = np.mean(forecast.yhat.values + mult)\n",
    "            if v_mean_j == 0:\n",
    "                ej.append(55.55555555)\n",
    "                ej_df.loc[reg, itm] = 55.55555555\n",
    "            else:\n",
    "                ej.append(v_mae_j / v_mean_j)\n",
    "                ej_df.loc[reg, itm] = (v_mae_j / v_mean_j)"
   ]
  },
  {
   "cell_type": "markdown",
   "id": "8f1d6273-2382-43fe-8f58-b17eafea13e1",
   "metadata": {},
   "source": [
    "Формирование submission"
   ]
  },
  {
   "cell_type": "code",
   "execution_count": null,
   "id": "2195842f-6300-4272-aee5-8ba2edf71c53",
   "metadata": {},
   "outputs": [],
   "source": [
    "for itm in tqdm(items):\n",
    "    for reg in individual_models[itm]:\n",
    "        \n",
    "        if reg != 26000000000:\n",
    "            X = data.loc[data.oktmo == reg, ['date', itm]]\n",
    "            #X = train_df.loc[train_df.oktmo == reg, ['date', itm]]\n",
    "\n",
    "            X = X.reset_index()[['date', itm]]\n",
    "            X.columns=['ds', 'y']\n",
    "\n",
    "            model = Prophet(yearly_seasonality=True, daily_seasonality=True,\n",
    "                    seasonality_mode='multiplicative',  # hz. future firecast more sharp\n",
    "                    #changepoint_prior_scale=0.15,   # 0.1 - 0.15 looks adequately\n",
    "                    holidays = all_holidays,\n",
    "                    #changepoints=['2020-09-23', '2020-03-09', '2020-10-26'],\n",
    "                   )\n",
    "            model.fit(X)\n",
    "            forecast = model.predict(future)\n",
    "        #if reg == 26000000000:\n",
    "        else:\n",
    "            forecast.yhat = forecast.yhat * 0\n",
    "\n",
    "        for dt in future.ds.values:\n",
    "            value = forecast.loc[forecast.ds == dt, 'yhat'].values[0]\n",
    "            submission.loc[(submission.date == dt) & (submission.oktmo == reg), itm] = value"
   ]
  },
  {
   "cell_type": "code",
   "execution_count": null,
   "id": "1026f3ff-c54f-4c36-aaec-15e3b6aaa0b5",
   "metadata": {},
   "outputs": [],
   "source": []
  },
  {
   "cell_type": "code",
   "execution_count": null,
   "id": "8f70b305-f540-4363-a399-b2611be1925f",
   "metadata": {},
   "outputs": [],
   "source": [
    "for itm in tqdm(items):\n",
    "                       \n",
    "    if len(groups[itm]['const']) != 0:\n",
    "        for reg in groups[itm]['const']:\n",
    "            # getting average for last 2 month\n",
    "            constttt = np.mean(const_df.loc[const_df.reg == reg, itm])\n",
    "            #insert to df / submission\n",
    "            val = [constttt]*future.shape[0]\n",
    "            v_mae_j  = mean_absolute_error( test.loc[test.oktmo == reg, itm], [0]*future.shape[0])\n",
    "            v_mean_j = np.mean(val)\n",
    "            \n",
    "            if v_mean_j == 0:\n",
    "                ej_df.loc[reg, itm] = 55.55555555\n",
    "            else:\n",
    "                ej_df.loc[reg, itm] = (v_mae_j / v_mean_j)\n",
    "    \n",
    "    \n",
    "    if len(groups[itm]['zero']) != 0:\n",
    "        for reg in groups[itm]['zero']:\n",
    "            #v_mae_j  = mean_absolute_error( test.loc[test.oktmo == reg, itm], [0]*future.shape[0])\n",
    "            #v_mean_j = 0\n",
    "            ej_df.loc[reg, itm] = 55.55555555"
   ]
  },
  {
   "cell_type": "code",
   "execution_count": null,
   "id": "ccee005f-7d89-41f3-bf8a-f1fc347b3201",
   "metadata": {},
   "outputs": [],
   "source": []
  },
  {
   "cell_type": "code",
   "execution_count": null,
   "id": "74deac7f-8651-4c94-a8ec-28db82705508",
   "metadata": {},
   "outputs": [],
   "source": []
  },
  {
   "cell_type": "code",
   "execution_count": null,
   "id": "48ded5e5-1a9a-4b9b-8418-9f16738f24c2",
   "metadata": {},
   "outputs": [],
   "source": []
  },
  {
   "cell_type": "code",
   "execution_count": 10,
   "id": "16c8c00b-f2f0-45ba-93ec-80b4e349a6c6",
   "metadata": {},
   "outputs": [
    {
     "data": {
      "text/plain": [
       "(7735, 79)"
      ]
     },
     "execution_count": 10,
     "metadata": {},
     "output_type": "execute_result"
    }
   ],
   "source": [
    "submission = pd.read_csv(os.path.join(PATH_DATA, 'sample_submission.csv'), \n",
    "                        parse_dates = ['date'])\n",
    "submission.shape"
   ]
  },
  {
   "cell_type": "code",
   "execution_count": null,
   "id": "c4bf5724-1b05-4612-9054-9a064e0f8118",
   "metadata": {},
   "outputs": [],
   "source": []
  }
 ],
 "metadata": {
  "kernelspec": {
   "display_name": "Python 3",
   "language": "python",
   "name": "python3"
  },
  "language_info": {
   "codemirror_mode": {
    "name": "ipython",
    "version": 3
   },
   "file_extension": ".py",
   "mimetype": "text/x-python",
   "name": "python",
   "nbconvert_exporter": "python",
   "pygments_lexer": "ipython3",
   "version": "3.7.10"
  }
 },
 "nbformat": 4,
 "nbformat_minor": 5
}
