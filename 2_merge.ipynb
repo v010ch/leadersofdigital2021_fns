{
 "cells": [
  {
   "cell_type": "code",
   "execution_count": 1,
   "id": "46abff37-d546-4a93-93e2-f271f9b60f54",
   "metadata": {},
   "outputs": [],
   "source": [
    "import os\n",
    "from pathlib import Path\n",
    "\n",
    "import pandas as pd\n",
    "import numpy as np\n",
    "import json\n",
    "import pickle as pkl\n",
    "\n",
    "from itertools import product\n",
    "from tqdm.auto import tqdm  # notebook compatible"
   ]
  },
  {
   "cell_type": "code",
   "execution_count": 2,
   "id": "e46c9512-69e3-4127-afb0-03975287d737",
   "metadata": {},
   "outputs": [],
   "source": [
    "from datetime import datetime"
   ]
  },
  {
   "cell_type": "code",
   "execution_count": 3,
   "id": "e024539c-bb2c-47f2-916b-88656a1a119c",
   "metadata": {},
   "outputs": [],
   "source": [
    "PATH_DATA = os.path.join(Path.cwd(), 'data')\n",
    "PATH_SUBM = os.path.join(Path.cwd(), 'submissions')"
   ]
  },
  {
   "cell_type": "code",
   "execution_count": null,
   "id": "ee5e1500-64e3-4619-a514-9c0a98ecc026",
   "metadata": {},
   "outputs": [],
   "source": []
  },
  {
   "cell_type": "markdown",
   "id": "a7d13916-9833-49cb-babe-b51d13e98890",
   "metadata": {},
   "source": [
    "# Здесь только объединяем результаты рядов, подсчитанных на разных устройствах"
   ]
  },
  {
   "cell_type": "code",
   "execution_count": null,
   "id": "8ad81cc5-9990-4660-bdaa-f4f2805df8ba",
   "metadata": {},
   "outputs": [],
   "source": [
    "first = pd.read_csv(os.path.join(PATH_SUBM, 'all_first_40.csv'))"
   ]
  },
  {
   "cell_type": "code",
   "execution_count": null,
   "id": "87993827-fa56-45b8-a754-0a38d27a66cd",
   "metadata": {},
   "outputs": [],
   "source": [
    "first['date'] = pd.to_datetime(first['date'], format='%d.%m.%Y')"
   ]
  },
  {
   "cell_type": "code",
   "execution_count": null,
   "id": "ae8b6900-77ff-429c-94a6-953d57ab0e1d",
   "metadata": {},
   "outputs": [],
   "source": [
    "last = pd.read_csv(os.path.join(PATH_SUBM, 'all_last_40.csv'))"
   ]
  },
  {
   "cell_type": "code",
   "execution_count": null,
   "id": "8fcfe3bd-b8d4-4558-8f8e-e81ad26a9ba6",
   "metadata": {},
   "outputs": [],
   "source": [
    "last['date'] = pd.to_datetime(last['date'], format='%d.%m.%Y')"
   ]
  },
  {
   "cell_type": "code",
   "execution_count": null,
   "id": "421d1d30-7fad-46cb-a7cb-219536251684",
   "metadata": {},
   "outputs": [],
   "source": []
  },
  {
   "cell_type": "code",
   "execution_count": null,
   "id": "1d98941f-6226-4842-b360-3c328d3eb496",
   "metadata": {},
   "outputs": [],
   "source": [
    "df = pd.read_csv(os.path.join(PATH_DATA, 'train.csv'),\n",
    "                 sep = ';',\n",
    "                 #parse_dates=['date'],\n",
    "                 #infer_datetime_format=True,\n",
    "                 decimal = ',',\n",
    "                 thousands='\\xa0',\n",
    "                 engine='python',\n",
    "                )\n",
    "df.shape"
   ]
  },
  {
   "cell_type": "code",
   "execution_count": null,
   "id": "b70a5987-3c07-422f-a734-42412a1e03a5",
   "metadata": {},
   "outputs": [],
   "source": [
    "df['date'] = pd.to_datetime(df['date'], format='%d.%m.%Y')"
   ]
  },
  {
   "cell_type": "code",
   "execution_count": null,
   "id": "9f771cd5-c496-4d24-ae51-c316dd7c8661",
   "metadata": {},
   "outputs": [],
   "source": []
  },
  {
   "cell_type": "code",
   "execution_count": null,
   "id": "fa3a8d26-93b3-4c0e-8f5c-d06d2414663f",
   "metadata": {},
   "outputs": [],
   "source": [
    "oktmo = df.oktmo.unique()\n",
    "items = df.columns[4:]"
   ]
  },
  {
   "cell_type": "code",
   "execution_count": null,
   "id": "e7738bdf-9bfa-4ea7-968e-939e11b74dce",
   "metadata": {},
   "outputs": [],
   "source": [
    "ej_df = pd.DataFrame(columns = list(items), index = oktmo)\n",
    "\n",
    "for itm, reg in tqdm(product(items, oktmo), total = len(oktmo)*len(items)):\n",
    "\n",
    "    val = [0]*length\n",
    "    v_mae_j  = mean_absolute_error( df.loc[df.oktmo == reg, itm], val)\n",
    "    v_mean_j  = 1\n",
    "    \n",
    "    ej_df.loc[reg, itm] = (v_mae_j / v_mean_j)"
   ]
  },
  {
   "cell_type": "code",
   "execution_count": null,
   "id": "ff8e0819-79e5-4d11-a204-06357ce3ece1",
   "metadata": {},
   "outputs": [],
   "source": [
    "order = sorted(order, key=lambda tup: tup[1], reverse = True)"
   ]
  },
  {
   "cell_type": "code",
   "execution_count": null,
   "id": "99c83e07-471d-4c0b-99d8-78e586763a62",
   "metadata": {},
   "outputs": [],
   "source": []
  },
  {
   "cell_type": "code",
   "execution_count": null,
   "id": "b940e8ee-c200-4617-97b3-c8c92e96789f",
   "metadata": {},
   "outputs": [],
   "source": [
    "order[40:]"
   ]
  },
  {
   "cell_type": "code",
   "execution_count": null,
   "id": "440a7602-3360-4e07-9df0-fdafcd4e7674",
   "metadata": {},
   "outputs": [],
   "source": [
    "for el in order[40:]:\n",
    "    first[el] = last[el]"
   ]
  },
  {
   "cell_type": "code",
   "execution_count": null,
   "id": "6e578394-6960-4f50-b5c9-297d894ba7c1",
   "metadata": {},
   "outputs": [],
   "source": [
    "first.to_csv(os.path.join(PATH_SUBM, 'all.csv'))"
   ]
  }
 ],
 "metadata": {
  "kernelspec": {
   "display_name": "Python 3",
   "language": "python",
   "name": "python3"
  },
  "language_info": {
   "codemirror_mode": {
    "name": "ipython",
    "version": 3
   },
   "file_extension": ".py",
   "mimetype": "text/x-python",
   "name": "python",
   "nbconvert_exporter": "python",
   "pygments_lexer": "ipython3",
   "version": "3.7.10"
  }
 },
 "nbformat": 4,
 "nbformat_minor": 5
}
