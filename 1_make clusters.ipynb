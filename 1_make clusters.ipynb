{
 "cells": [
  {
   "cell_type": "code",
   "execution_count": null,
   "id": "a6065d8a-9331-4d2d-9dfd-3f5d4419440c",
   "metadata": {},
   "outputs": [],
   "source": [
    "import os\n",
    "from pathlib import Path\n",
    "\n",
    "import pandas as pd\n",
    "import numpy as np\n",
    "import json\n",
    "import pickle as pkl"
   ]
  },
  {
   "cell_type": "code",
   "execution_count": null,
   "id": "6d3226f5-ff26-41e1-97b3-c2910942175d",
   "metadata": {},
   "outputs": [],
   "source": [
    "from tqdm import tqdm\n",
    "from itertools import product"
   ]
  },
  {
   "cell_type": "code",
   "execution_count": null,
   "id": "23292a43-ab91-4a81-8d5a-3318f0729df7",
   "metadata": {},
   "outputs": [],
   "source": []
  },
  {
   "cell_type": "code",
   "execution_count": null,
   "id": "07b17ccc-bef0-43bb-acb7-1d4ae280e18a",
   "metadata": {},
   "outputs": [],
   "source": [
    "PATH_DATA = os.path.join(Path.cwd(), 'data')\n",
    "PATH_SUBM = os.path.join(Path.cwd(), 'submissions')"
   ]
  },
  {
   "cell_type": "code",
   "execution_count": null,
   "id": "3862357e-7a53-4504-8a05-a7ecfd33d0a2",
   "metadata": {},
   "outputs": [],
   "source": []
  },
  {
   "cell_type": "markdown",
   "id": "dad85bec-9319-4f68-ba9f-82b46dee59b0",
   "metadata": {},
   "source": [
    "Загружаем данные"
   ]
  },
  {
   "cell_type": "code",
   "execution_count": null,
   "id": "ed295550-7fda-4b27-b69b-26d1bfa0600f",
   "metadata": {},
   "outputs": [],
   "source": [
    "# вручную прикинутые кластеры\n",
    "df = pd.read_excel(os.path.join('.', 'notes_groups.xlsx'), index_col = 0)"
   ]
  },
  {
   "cell_type": "code",
   "execution_count": null,
   "id": "dc0f29f9-97dc-4987-8e28-5295d3ff9053",
   "metadata": {},
   "outputs": [],
   "source": [
    "#df.head()"
   ]
  },
  {
   "cell_type": "code",
   "execution_count": null,
   "id": "2ff73f0e-7af5-4eed-828a-8f11d57c3813",
   "metadata": {},
   "outputs": [],
   "source": [
    "#train = pd.read_csv(os.path.join(PATH_DATA, 'train_orig.csv'), sep = ';', encoding = 'utf-8', engine='python')\n",
    "train = pd.read_csv(os.path.join(PATH_DATA, 'train.csv'),\n",
    "                    sep = ';',\n",
    "                    parse_dates=['date'],\n",
    "                    infer_datetime_format=True,\n",
    "                    decimal = ',',\n",
    "                    thousands='\\xa0',\n",
    "                    engine='python',\n",
    "                   )\n",
    "train.shape"
   ]
  },
  {
   "cell_type": "code",
   "execution_count": null,
   "id": "83808cef-9cb8-4851-93db-8a5b31371ef4",
   "metadata": {},
   "outputs": [],
   "source": [
    "df.shape"
   ]
  },
  {
   "cell_type": "code",
   "execution_count": null,
   "id": "0af45b21-4f75-47c6-bc03-ee07c4a7627d",
   "metadata": {},
   "outputs": [],
   "source": [
    "df = df.iloc[:85, :]"
   ]
  },
  {
   "cell_type": "code",
   "execution_count": null,
   "id": "edf3cb77-23db-4c21-8563-5249ecfb4179",
   "metadata": {},
   "outputs": [],
   "source": [
    "oktmo = train.oktmo.unique()"
   ]
  },
  {
   "cell_type": "code",
   "execution_count": null,
   "id": "4bef4b09-1bfd-4f04-89a6-f121131207dc",
   "metadata": {},
   "outputs": [],
   "source": []
  },
  {
   "cell_type": "markdown",
   "id": "0143997b-ee16-4297-b5c4-b8ecd528f862",
   "metadata": {},
   "source": [
    "# распределяем регионы по кластерам, полученныи из excel файла"
   ]
  },
  {
   "cell_type": "markdown",
   "id": "a161df2f-192e-4f04-addf-2918705c5482",
   "metadata": {},
   "source": [
    "для каждого кластера будет расчитываться среднее по кластеру и среднее отклонение каждого ряда от среднего по кластеру)    \n",
    "далее при предсказании ряда будет браться модель, предсказывающая среднее ряда, и для каждого ряда добавляться среднее отклонение этого ряда"
   ]
  },
  {
   "cell_type": "markdown",
   "id": "c35ffa8a-ef04-4610-b549-86b1700b2d58",
   "metadata": {},
   "source": [
    "const - в качестве значений ряда будет передаваться константа - среднее значение начиная с 1 января 2021   \n",
    "zero - в качестве значения ряда всегда будут передаваться нули"
   ]
  },
  {
   "cell_type": "code",
   "execution_count": null,
   "id": "00e0fd3a-f2d5-4cf0-bc2a-9817da4c5789",
   "metadata": {},
   "outputs": [],
   "source": [
    "# просто обозначения для кластеров\n",
    "vals = set(['OOOO', 'PPPP', '####', 'MMMM', 'ZZZZ', 'const', 'zero'])\n",
    "for el in df.columns[1:3]:\n",
    "    for k in df[el].value_counts().keys():\n",
    "        if k not in vals:\n",
    "            print(el, k)\n",
    "            \n",
    "print('done')"
   ]
  },
  {
   "cell_type": "markdown",
   "id": "df5ea356-b0f8-419f-a33b-1cdb8a75ca95",
   "metadata": {},
   "source": [
    "кластеризация по сути на 4 кластера + const + zero, но сразу добавил запас в 2 кластера для автоматического разбиения на кластеры   \n",
    "(не пригодилось, до автоматического разбиения на кластеры не дошло. перешел на создание отдельной модели для \"каждого\" ряда)"
   ]
  },
  {
   "cell_type": "code",
   "execution_count": null,
   "id": "3a721100-f63e-472d-a4aa-040fd7664f14",
   "metadata": {},
   "outputs": [],
   "source": [
    "groups = dict()\n",
    "for el in tqdm(df.columns[1:]):\n",
    "    tmp = dict({'group_0': [], 'group_1': [], 'group_2': [], 'group_3': [], 'group_4': [], 'group_5': [], 'const': [], 'zero': [],})\n",
    "    length = 0\n",
    "    for k in df[el].value_counts().keys():\n",
    "        if k == 'OOOO':\n",
    "            name = 'group_2'\n",
    "        elif k == 'PPPP':\n",
    "            name = 'group_1'\n",
    "        elif k == '####':\n",
    "            name = 'group_3'\n",
    "        elif k == 'MMMM':\n",
    "            name = 'group_4'\n",
    "        elif k == 'ZZZZ':\n",
    "            name = 'group_0'\n",
    "        elif k == 'const':\n",
    "            name = 'const'\n",
    "        elif k == 'zero':\n",
    "            name = 'zero'\n",
    "        else:\n",
    "            print('what?', k)\n",
    "        \n",
    "        tmp[name] = list(df.loc[df[el] == k, :].index)\n",
    "        length += len(tmp[name])\n",
    "        \n",
    "    groups[el] = tmp\n",
    "    if length != 85:\n",
    "        print(el, length)\n",
    "        \n",
    "        \n",
    "print('done')"
   ]
  },
  {
   "cell_type": "markdown",
   "id": "8b1b3192-00a4-4580-8944-3e3162d7cd72",
   "metadata": {},
   "source": [
    "если есть файлы коррекции - созданные файлы с группами, из которых исключены непоторые ряды для построение отдельных моделей    \n",
    "то загружаем их и объединяем, если более одного.   \n",
    "итерационный процесс. здесь первый шаг. дальше построение моелей. расчет ошибок, определение рядов для отдельной моджели. возврат к текущему моменту."
   ]
  },
  {
   "cell_type": "code",
   "execution_count": null,
   "id": "b7db8444-ee2e-40d2-8b20-79d47d8be6d5",
   "metadata": {},
   "outputs": [],
   "source": [
    "if os.path.exists('correct.pickle'):\n",
    "    with open('correct.pickle', 'rb') as f:\n",
    "        correct = pkl.load(f)"
   ]
  },
  {
   "cell_type": "code",
   "execution_count": null,
   "id": "6d98bf7a-b311-4f3e-9a2a-eab5fa13fd09",
   "metadata": {},
   "outputs": [],
   "source": [
    "if os.path.exists('correct2.pickle'):\n",
    "    with open('correct2.pickle', 'rb') as f:\n",
    "        correct2 = pkl.load(f)"
   ]
  },
  {
   "cell_type": "code",
   "execution_count": null,
   "id": "ad84afde-40f7-4a96-a961-6396d214b089",
   "metadata": {},
   "outputs": [],
   "source": [
    "if os.path.exists('correct3.pickle'):\n",
    "    with open('correct3.pickle', 'rb') as f:\n",
    "        correct3 = pkl.load(f)"
   ]
  },
  {
   "cell_type": "code",
   "execution_count": null,
   "id": "10b5a1a9-d71d-44cb-82a2-605c452140f4",
   "metadata": {},
   "outputs": [],
   "source": [
    "dev_groups = ['group_0', 'group_1', 'group_2', 'group_3', 'group_4', 'group_5']"
   ]
  },
  {
   "cell_type": "code",
   "execution_count": null,
   "id": "27f4d87d-0b78-4835-aa4d-5c79b422c2a0",
   "metadata": {},
   "outputs": [],
   "source": [
    "correct = correct + correct2 + correct3\n",
    "#correct.append(correct3)"
   ]
  },
  {
   "cell_type": "code",
   "execution_count": null,
   "id": "93681d28-d12b-4e7c-8602-0017f190f079",
   "metadata": {},
   "outputs": [],
   "source": []
  },
  {
   "cell_type": "markdown",
   "id": "a41e8071-76aa-4f9c-af17-3b68c0e9a59c",
   "metadata": {},
   "source": [
    "Формируем кластеры в виде dict с сохранением в json"
   ]
  },
  {
   "cell_type": "code",
   "execution_count": null,
   "id": "1ed9adc2-ee77-45f0-a82a-babf6eaaea01",
   "metadata": {},
   "outputs": [],
   "source": [
    "#tmp = np.unique([el0 for el0, el1 in correct])\n",
    "#tmp"
   ]
  },
  {
   "cell_type": "code",
   "execution_count": null,
   "id": "1135c370-6b0b-405c-a670-2b1218147062",
   "metadata": {},
   "outputs": [],
   "source": [
    "i = 0\n",
    "for itm, reg in correct:\n",
    "    for el in dev_groups:\n",
    "        #print(itm, el)\n",
    "        if len(groups[itm][el]) == 0:\n",
    "            continue\n",
    "        if reg in groups[itm][el]:\n",
    "            i += 1\n",
    "            #groups[itm][el] = groups[itm][el].remove(reg)\n",
    "            groups[itm][el].remove(reg)\n",
    "\n",
    "print(i)"
   ]
  },
  {
   "cell_type": "code",
   "execution_count": null,
   "id": "318923b8-f344-47dc-a816-02d46ff4ce58",
   "metadata": {},
   "outputs": [],
   "source": []
  },
  {
   "cell_type": "code",
   "execution_count": null,
   "id": "4aca7376-24c0-40fe-b0bf-9ede5c0c2e4b",
   "metadata": {},
   "outputs": [],
   "source": [
    "with open(os.path.join('.', 'groups.json'), 'w') as outfile:\n",
    "    json.dump(groups, outfile)"
   ]
  },
  {
   "cell_type": "code",
   "execution_count": null,
   "id": "57883a4e-7240-4cf7-8e57-33c7e6b91083",
   "metadata": {},
   "outputs": [],
   "source": []
  },
  {
   "cell_type": "code",
   "execution_count": null,
   "id": "90443747-9720-488a-99bc-a8e25c0c7411",
   "metadata": {},
   "outputs": [],
   "source": [
    "zeros = []\n",
    "for itm, reg in product(df.columns[1:], oktmo):\n",
    "    if df.loc[reg, itm] == 'zero':\n",
    "        zeros.append((itm, reg))"
   ]
  },
  {
   "cell_type": "code",
   "execution_count": null,
   "id": "519073bf-2cdb-469a-865f-712fc63b9fb5",
   "metadata": {},
   "outputs": [],
   "source": [
    "with open(os.path.join('.', 'zeros.pickle'), 'wb') as outfile:\n",
    "    pkl.dump(zeros, outfile)"
   ]
  },
  {
   "cell_type": "code",
   "execution_count": null,
   "id": "4c9b55a0-a9cb-4da9-8e20-4452df3c2a72",
   "metadata": {},
   "outputs": [],
   "source": []
  },
  {
   "cell_type": "code",
   "execution_count": null,
   "id": "0f823484-8d18-43b0-a673-e8a6611f7b14",
   "metadata": {},
   "outputs": [],
   "source": []
  }
 ],
 "metadata": {
  "kernelspec": {
   "display_name": "Python 3",
   "language": "python",
   "name": "python3"
  },
  "language_info": {
   "codemirror_mode": {
    "name": "ipython",
    "version": 3
   },
   "file_extension": ".py",
   "mimetype": "text/x-python",
   "name": "python",
   "nbconvert_exporter": "python",
   "pygments_lexer": "ipython3",
   "version": "3.7.10"
  }
 },
 "nbformat": 4,
 "nbformat_minor": 5
}
