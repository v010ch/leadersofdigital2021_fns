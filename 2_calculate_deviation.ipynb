{
 "cells": [
  {
   "cell_type": "code",
   "execution_count": null,
   "id": "00175320-0f26-4777-bbde-c04d39bc61e8",
   "metadata": {},
   "outputs": [],
   "source": [
    "import os\n",
    "from pathlib import Path\n",
    "\n",
    "import pandas as pd\n",
    "import json"
   ]
  },
  {
   "cell_type": "code",
   "execution_count": null,
   "id": "3aea8b0e-cf24-48de-897f-8bae8b6e0242",
   "metadata": {},
   "outputs": [],
   "source": [
    "from itertools import product\n",
    "from tqdm import tqdm"
   ]
  },
  {
   "cell_type": "code",
   "execution_count": null,
   "id": "feaac805-c63b-40e2-8a68-0b2665d3294d",
   "metadata": {},
   "outputs": [],
   "source": []
  },
  {
   "cell_type": "code",
   "execution_count": null,
   "id": "60e9b04d-bb9c-4e7c-9807-0a87fd900dcf",
   "metadata": {},
   "outputs": [],
   "source": [
    "PATH_DATA = os.path.join(Path.cwd(), 'data')\n",
    "PATH_SUBM = os.path.join(Path.cwd(), 'submissions')"
   ]
  },
  {
   "cell_type": "code",
   "execution_count": null,
   "id": "a28c38c3-84b0-44e6-ad12-d2184ed10971",
   "metadata": {},
   "outputs": [],
   "source": []
  },
  {
   "cell_type": "code",
   "execution_count": null,
   "id": "80c52a32-3374-4180-9589-98ca5c5cba95",
   "metadata": {},
   "outputs": [],
   "source": [
    "FULL = True"
   ]
  },
  {
   "cell_type": "code",
   "execution_count": null,
   "id": "834ad5b5-7f78-4455-916f-9c40fbddd406",
   "metadata": {},
   "outputs": [],
   "source": [
    "DEV_NAME = 'deviation_gr_nz'"
   ]
  },
  {
   "cell_type": "code",
   "execution_count": null,
   "id": "26e3cdce-bc96-4a07-b703-79ab7187726e",
   "metadata": {},
   "outputs": [],
   "source": []
  },
  {
   "cell_type": "markdown",
   "id": "d3a9d9e4-206e-4fb4-8cb6-e8f2078adbdf",
   "metadata": {},
   "source": [
    "# Загружаем кластеры"
   ]
  },
  {
   "cell_type": "code",
   "execution_count": null,
   "id": "f9138ace-8046-402a-b09a-b4f6a9d5fe49",
   "metadata": {},
   "outputs": [],
   "source": [
    "with open(os.path.join('.', 'groups.json')) as json_file:\n",
    "    groups = json.load(json_file)"
   ]
  },
  {
   "cell_type": "code",
   "execution_count": null,
   "id": "dc99cd5f-6803-4b8b-9441-966404a218c4",
   "metadata": {},
   "outputs": [],
   "source": [
    "df = pd.read_csv(os.path.join(PATH_DATA, 'train.csv'),\n",
    "                 sep = ';',\n",
    "                 parse_dates=['date'],\n",
    "                 infer_datetime_format=True,\n",
    "                 decimal = ',',\n",
    "                 thousands='\\xa0',\n",
    "                 engine='python',\n",
    "                )\n",
    "df.shape"
   ]
  },
  {
   "cell_type": "markdown",
   "id": "d7f3dc66-141f-4c22-9b96-4c824854ce7f",
   "metadata": {},
   "source": [
    "Проверочная / тестовая выборки"
   ]
  },
  {
   "cell_type": "code",
   "execution_count": null,
   "id": "0f9bd887-75fe-448d-83f4-c30fb6e9dff0",
   "metadata": {},
   "outputs": [],
   "source": [
    "if not FULL:\n",
    "    dt = np.datetime64('2020-10-31')\n",
    "    df = df.query('date <= @dt')\n",
    "else:\n",
    "    print('full')"
   ]
  },
  {
   "cell_type": "code",
   "execution_count": null,
   "id": "6e04dbfe-802c-4aa1-8dfa-cb81fede4e0c",
   "metadata": {},
   "outputs": [],
   "source": [
    "oktmo = df.oktmo.unique()\n",
    "items = df.columns[4:]"
   ]
  },
  {
   "cell_type": "code",
   "execution_count": null,
   "id": "a4f8e5a9-f642-4998-86db-fde134a00b9b",
   "metadata": {},
   "outputs": [],
   "source": []
  },
  {
   "cell_type": "markdown",
   "id": "81f70c86-4e1b-4aec-91d8-86e624ae983b",
   "metadata": {},
   "source": [
    "# Создаем 'датасет' средних"
   ]
  },
  {
   "cell_type": "markdown",
   "id": "2a77b054-67e1-4d68-ba46-171ce2ae099f",
   "metadata": {},
   "source": [
    "#### среднее для всех продуктов / каждого кластера за исключением кластеров 'const' и 'zero'"
   ]
  },
  {
   "cell_type": "code",
   "execution_count": null,
   "id": "ba4a3240-20fe-4b07-b8eb-1ad2be0c89de",
   "metadata": {},
   "outputs": [],
   "source": [
    "def get_aver(inp_prod, inp_df, regions = set()):\n",
    "    \n",
    "    use_cols = ['date', inp_prod, 'oktmo']\n",
    "    return inp_df[use_cols].query('oktmo in @regions')[['date', inp_prod]].groupby('date').mean().sort_values(by='date')  "
   ]
  },
  {
   "cell_type": "code",
   "execution_count": null,
   "id": "7cb7fa5f-f482-4b2c-82cb-22c799ca09f4",
   "metadata": {},
   "outputs": [],
   "source": [
    "cols = ['_'.join([el0, el1]) for el0, el1 in product(items, groups['pasta'].keys())]\n",
    "\n",
    "average_df = pd.DataFrame(index = df.date.unique(), columns = cols)\n",
    "average_df.shape"
   ]
  },
  {
   "cell_type": "code",
   "execution_count": null,
   "id": "307d44a2-e001-4c3e-ba15-5b7cfff31bf1",
   "metadata": {},
   "outputs": [],
   "source": [
    "for el in tqdm(items):\n",
    "    for cur_group in groups[el].keys():\n",
    "        if len(groups[el][cur_group]) == 0 or cur_group == 'const' or cur_group == 'zero':\n",
    "            continue\n",
    "            \n",
    "        average_df[f'{el}_{cur_group}'] = get_aver(el, df, set(groups[el][cur_group]))\n",
    "        \n",
    "print('done', average_df.shape)"
   ]
  },
  {
   "cell_type": "code",
   "execution_count": null,
   "id": "81e2f4ae-91a9-4a21-92c8-40b51d36ab1c",
   "metadata": {},
   "outputs": [],
   "source": [
    "average_df.to_csv(os.path.join('.', 'average.csv'))"
   ]
  },
  {
   "cell_type": "code",
   "execution_count": null,
   "id": "d8062a3b-7af1-410f-aaee-71d1f5c3c9a5",
   "metadata": {},
   "outputs": [],
   "source": []
  },
  {
   "cell_type": "code",
   "execution_count": null,
   "id": "5a9c0b5f-174b-4d32-b4bf-b282861a1802",
   "metadata": {},
   "outputs": [],
   "source": []
  },
  {
   "cell_type": "markdown",
   "id": "2a1bf8fc-bd60-4008-beb6-e29b11ff3766",
   "metadata": {},
   "source": [
    "# Создаем \"датасет\" отклонений каждого ряда от среднего по кластеру"
   ]
  },
  {
   "cell_type": "markdown",
   "id": "7c4387c0-20bd-46cb-977a-514b7c8a8a53",
   "metadata": {},
   "source": [
    "#### за исключением кластеров 'const' и 'zero'"
   ]
  },
  {
   "cell_type": "code",
   "execution_count": null,
   "id": "2ee6794c-4deb-4abf-ae7c-0cf96f023f5d",
   "metadata": {},
   "outputs": [],
   "source": [
    "def calculate_deviation(inp_prod, inp_groups, inp_df, inp_aver_df):\n",
    "    \n",
    "    deviation = {el: 0 for el in inp_df.oktmo.unique()}\n",
    "    \n",
    "    # across all groups for this prod\n",
    "    for cur_group in inp_groups[inp_prod]:\n",
    "        if len(inp_groups[inp_prod][cur_group]) == 0:\n",
    "            continue\n",
    "        \n",
    "        # get aver for this group\n",
    "        aver = inp_aver_df[f'{inp_prod}_{cur_group}']\n",
    "        \n",
    "        # across all regiona at current group\n",
    "        for reg in inp_groups[inp_prod][cur_group]:\n",
    "            # devider or use if has zero value at \n",
    "            devider = len(inp_groups[inp_prod][cur_group])\n",
    "            \n",
    "            # for this region in his group\n",
    "            for numb, idx in enumerate(inp_df.query('oktmo == @reg').index):\n",
    "                if inp_df.loc[idx, inp_prod] > 0: # and (inp_df.loc[idx, 'date'] not in holiday_except):\n",
    "                    \n",
    "                    deviation[reg] += (inp_df.loc[idx, inp_prod] - aver.iloc[numb])\n",
    "                else:\n",
    "                    devider -= 1\n",
    "                    \n",
    "                if inp_df.loc[idx,'date'] != aver.index[numb]:\n",
    "                    print('bad!')\n",
    "                      \n",
    "                      \n",
    "            #print(sdf)\n",
    "    # after sum of all deviations getting average deviation\n",
    "            if devider != 0: \n",
    "                deviation[reg] = deviation[reg] / devider\n",
    "            else:\n",
    "                deviation[reg] = 0\n",
    "            \n",
    "    return deviation"
   ]
  },
  {
   "cell_type": "code",
   "execution_count": null,
   "id": "24b3f152-897f-4136-9360-2a675117923c",
   "metadata": {},
   "outputs": [],
   "source": [
    "deviation_df = pd.DataFrame(columns = list(items), index = oktmo)\n",
    "deviation_df.shape"
   ]
  },
  {
   "cell_type": "code",
   "execution_count": null,
   "id": "2ecd6ffd-e1d1-425a-b6ab-a156d9cd9d96",
   "metadata": {},
   "outputs": [],
   "source": [
    "for itm in tqdm(items):\n",
    "    #temp = calculate_deviation_v4(itm, train_df)\n",
    "    temp = calculate_deviation(itm, groups, df, average_df)\n",
    "    for el in temp.keys():\n",
    "        deviation_df.loc[el, itm] = temp[el]"
   ]
  },
  {
   "cell_type": "code",
   "execution_count": null,
   "id": "d1a2250b-66ec-4b22-aaaa-074bfc62d8b8",
   "metadata": {},
   "outputs": [],
   "source": [
    "deviation_df.shape"
   ]
  },
  {
   "cell_type": "code",
   "execution_count": null,
   "id": "07389a72-cb08-4994-afe9-f3ee7f69b755",
   "metadata": {},
   "outputs": [],
   "source": [
    "deviation_df.head()"
   ]
  },
  {
   "cell_type": "code",
   "execution_count": null,
   "id": "1ebdd4d5-4b4c-42dd-b1ac-da1edfd659a9",
   "metadata": {},
   "outputs": [],
   "source": [
    "if not FULL:\n",
    "    dev_name = DEV_NAME + '_part.csv'\n",
    "else:\n",
    "    dev_name = DEV_NAME + '_full.csv'\n",
    "    \n",
    "print(dev_name)\n",
    "deviation_df.to_csv(os.path.join(PATH_DATA, dev_name))"
   ]
  },
  {
   "cell_type": "code",
   "execution_count": null,
   "id": "40f2ea5a-af3e-430b-8862-5a24dcd02a79",
   "metadata": {},
   "outputs": [],
   "source": []
  }
 ],
 "metadata": {
  "kernelspec": {
   "display_name": "Python 3",
   "language": "python",
   "name": "python3"
  },
  "language_info": {
   "codemirror_mode": {
    "name": "ipython",
    "version": 3
   },
   "file_extension": ".py",
   "mimetype": "text/x-python",
   "name": "python",
   "nbconvert_exporter": "python",
   "pygments_lexer": "ipython3",
   "version": "3.7.10"
  }
 },
 "nbformat": 4,
 "nbformat_minor": 5
}
