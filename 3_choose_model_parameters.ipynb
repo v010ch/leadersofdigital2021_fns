{
 "cells": [
  {
   "cell_type": "code",
   "execution_count": null,
   "id": "136f528e-a354-4d52-a77b-a89095706d9c",
   "metadata": {},
   "outputs": [],
   "source": [
    "import os\n",
    "from pathlib import Path\n",
    "\n",
    "import pandas as pd\n",
    "import numpy as np\n",
    "import json\n",
    "import pickle as pkl"
   ]
  },
  {
   "cell_type": "code",
   "execution_count": null,
   "id": "2237213d-b74a-481b-9518-3592b68dc39d",
   "metadata": {},
   "outputs": [],
   "source": [
    "from prophet import Prophet\n",
    "from sklearn.metrics import mean_absolute_error"
   ]
  },
  {
   "cell_type": "code",
   "execution_count": null,
   "id": "4faa8ab1-0b96-45f5-9283-ee320966ca12",
   "metadata": {},
   "outputs": [],
   "source": [
    "from itertools import product\n",
    "#from tqdm import tqdm\n",
    "from tqdm.auto import tqdm  # notebook compatible"
   ]
  },
  {
   "cell_type": "code",
   "execution_count": null,
   "id": "7864cc63-a3bf-4d1b-aade-7c950c78d741",
   "metadata": {},
   "outputs": [],
   "source": [
    "from fns_holidays import all_holidays"
   ]
  },
  {
   "cell_type": "code",
   "execution_count": null,
   "id": "0946b98f-c3ae-4ceb-92c4-e985810a1974",
   "metadata": {},
   "outputs": [],
   "source": []
  },
  {
   "cell_type": "code",
   "execution_count": null,
   "id": "63a4b281-c734-41ea-a993-ad5cb6d5fb22",
   "metadata": {},
   "outputs": [],
   "source": [
    "PATH_DATA = os.path.join(Path.cwd(), 'data')\n",
    "PATH_SUBM = os.path.join(Path.cwd(), 'submissions')"
   ]
  },
  {
   "cell_type": "code",
   "execution_count": null,
   "id": "c10d8419-096a-4b94-ba5d-2a46c45ddea8",
   "metadata": {},
   "outputs": [],
   "source": []
  },
  {
   "cell_type": "code",
   "execution_count": null,
   "id": "dea8c930-96ab-4121-b231-53e20ec4e960",
   "metadata": {},
   "outputs": [],
   "source": [
    "FULL = True"
   ]
  },
  {
   "cell_type": "code",
   "execution_count": null,
   "id": "0968a74b-3371-4f31-8e91-c5161316abad",
   "metadata": {},
   "outputs": [],
   "source": [
    "DEV_NAME = 'deviation_gr_nz'"
   ]
  },
  {
   "cell_type": "code",
   "execution_count": null,
   "id": "da8536c9-1556-44f1-a991-842a510d896d",
   "metadata": {},
   "outputs": [],
   "source": []
  },
  {
   "cell_type": "markdown",
   "id": "b31d2bd7-7073-496d-b1b2-5380e4201c1e",
   "metadata": {},
   "source": [
    "# Загрузка кластеров"
   ]
  },
  {
   "cell_type": "code",
   "execution_count": null,
   "id": "030adf4a-bf33-4379-a6a6-0e4acb5bda59",
   "metadata": {},
   "outputs": [],
   "source": [
    "glob_zeros = 0"
   ]
  },
  {
   "cell_type": "code",
   "execution_count": null,
   "id": "605c407e-a1e0-4f39-9ad8-1cb39b917625",
   "metadata": {},
   "outputs": [],
   "source": [
    "with open(os.path.join('.', 'groups.json')) as json_file:\n",
    "    groups = json.load(json_file)"
   ]
  },
  {
   "cell_type": "code",
   "execution_count": null,
   "id": "e3d03cc4-da4a-42a3-906a-68dce05b024a",
   "metadata": {},
   "outputs": [],
   "source": [
    "df = pd.read_csv(os.path.join(PATH_DATA, 'train.csv'),\n",
    "                 sep = ';',\n",
    "                 parse_dates=['date'],\n",
    "                 infer_datetime_format=True,\n",
    "                 decimal = ',',\n",
    "                 thousands='\\xa0',\n",
    "                 engine='python',\n",
    "                )\n",
    "df.shape"
   ]
  },
  {
   "cell_type": "markdown",
   "id": "185214f8-7090-40de-8e65-3dbf4e860dfa",
   "metadata": {},
   "source": [
    "#### this part only use for get metric for test"
   ]
  },
  {
   "cell_type": "code",
   "execution_count": null,
   "id": "b2a7c2ed-e481-4f06-b7d8-65305475e024",
   "metadata": {},
   "outputs": [],
   "source": []
  },
  {
   "cell_type": "code",
   "execution_count": null,
   "id": "78e1309b-be27-4056-a0f1-788b436d3549",
   "metadata": {},
   "outputs": [],
   "source": [
    "#if not FULL:\n",
    "\n",
    "dt = np.datetime64('2020-10-31')\n",
    "test  = df.query('date > @dt')\n",
    "train = df.query('date <= @dt')"
   ]
  },
  {
   "cell_type": "code",
   "execution_count": null,
   "id": "b09c2e86-3bf7-4fa4-abcf-54ab1f7485e9",
   "metadata": {},
   "outputs": [],
   "source": [
    "oktmo = df.oktmo.unique()\n",
    "items = df.columns[4:]"
   ]
  },
  {
   "cell_type": "code",
   "execution_count": null,
   "id": "18edfe08-4e18-4b1f-a25d-bbe46cb0f789",
   "metadata": {},
   "outputs": [],
   "source": [
    "with open(os.path.join('.', 'groups.json')) as json_file:\n",
    "    groups = json.load(json_file)"
   ]
  },
  {
   "cell_type": "code",
   "execution_count": null,
   "id": "3ebc7edf-2059-4f9a-a5c8-39b558a1865e",
   "metadata": {},
   "outputs": [],
   "source": [
    "if not FULL:\n",
    "    const_dt = np.datetime64('2020-08-31')\n",
    "    average_df = pd.read_csv(os.path.join('.', 'average.csv'), index_col = 0)\n",
    "    deviation_df = pd.read_csv(os.path.join(PATH_DATA, DEV_NAME+'_part.csv'), index_col = 0)\n",
    "else:\n",
    "    const_dt = np.datetime64('2021-01-31')\n",
    "    average_df = pd.read_csv(os.path.join('.', 'average.csv'), index_col = 0)\n",
    "    deviation_df = pd.read_csv(os.path.join(PATH_DATA, DEV_NAME+'_full.csv'), index_col = 0)"
   ]
  },
  {
   "cell_type": "code",
   "execution_count": null,
   "id": "2d2005eb-0c14-4ad4-97ff-49a25ce291c1",
   "metadata": {},
   "outputs": [],
   "source": [
    "const_df = df.query('date > @const_dt')"
   ]
  },
  {
   "cell_type": "code",
   "execution_count": null,
   "id": "90a204ac-f05d-41ee-b0aa-ede81d2e36f5",
   "metadata": {},
   "outputs": [],
   "source": []
  },
  {
   "cell_type": "code",
   "execution_count": null,
   "id": "fb54c45d-7776-482c-b2ee-106f47c406c6",
   "metadata": {},
   "outputs": [],
   "source": [
    "#average_df"
   ]
  },
  {
   "cell_type": "markdown",
   "id": "e8490bd0-90cc-4410-8389-aaa96f3162c2",
   "metadata": {},
   "source": [
    "Создаем ряд дат будущего для построения прогноза   \n",
    "с 01.11.2020 по 01.04.2021"
   ]
  },
  {
   "cell_type": "code",
   "execution_count": null,
   "id": "e5c111aa-e5ab-4e87-9268-55dd3a528e02",
   "metadata": {},
   "outputs": [],
   "source": [
    "X = average_df['pasta_group_0']\n",
    "X = X.reset_index()#[['date', 'pasta_group_0']]\n",
    "X.columns=['ds', 'y']"
   ]
  },
  {
   "cell_type": "code",
   "execution_count": null,
   "id": "f19c1ed0-79ef-4981-b6f9-d6641b21ed5a",
   "metadata": {},
   "outputs": [],
   "source": [
    "model = Prophet(yearly_seasonality=True, daily_seasonality=True)\n",
    "model.fit(X)\n",
    "\n",
    "\n",
    "#future = model.make_future_dataframe(periods = test.date.unique().shape[0])\n",
    "future = model.make_future_dataframe(periods = 0)\n",
    "future = future[train.date.unique().shape[0]:]"
   ]
  },
  {
   "cell_type": "code",
   "execution_count": null,
   "id": "190efdf5-f1aa-47bf-b6e4-a6c9d59c71cb",
   "metadata": {},
   "outputs": [],
   "source": [
    "future.values[0], future.values[-1]"
   ]
  },
  {
   "cell_type": "code",
   "execution_count": null,
   "id": "b81da39a-6ea5-46f8-8f29-668b2a359b3b",
   "metadata": {},
   "outputs": [],
   "source": []
  },
  {
   "cell_type": "markdown",
   "id": "5dbea9a6-d46e-4bb7-be42-6ba56ee1f58f",
   "metadata": {},
   "source": [
    "# Рассчитываем значения и ошибки ej по всем продуктам / кластерам за исключением кластеров 'const' и 'zero'"
   ]
  },
  {
   "cell_type": "markdown",
   "id": "a6284313-65ba-4589-8c3c-bbd289b49f54",
   "metadata": {},
   "source": [
    "Для каждого прогнозируемого показателя (столбца) рассчитывается его среднее значение v_mean j  и значение метрики MAE: v_mae j   \n",
    "Для каждого показателя вычисляется отношение   \n",
    "E j  = v_mae j  / v_mean j    \n",
    "Рассчитывается среднее значение E среди всех столбцов    \n",
    "E_mean = 1 / n * sum(E j )   \n",
    "Берется обратная величина и делится на константу 1000   \n",
    "score = 1 / (1000 * E_mean)   "
   ]
  },
  {
   "cell_type": "code",
   "execution_count": null,
   "id": "c33019e0-410c-4fee-9ea7-3b38194ef30e",
   "metadata": {},
   "outputs": [],
   "source": [
    "dev_groups = ['group_0','group_1','group_2','group_3','group_4','group_5']"
   ]
  },
  {
   "cell_type": "code",
   "execution_count": null,
   "id": "bba23311-7a10-442f-8fb7-de76fd250379",
   "metadata": {},
   "outputs": [],
   "source": [
    "#ej = list()\n",
    "ej_df = pd.DataFrame(columns = list(items), index = oktmo)\n",
    "\n",
    "for itm in tqdm(items):\n",
    "    #for cur_group in tqdm(groups[itm], leave=False):\n",
    "    for cur_group in tqdm(dev_groups, leave=False):\n",
    "                \n",
    "        if len(groups[itm][cur_group]) == 0:\n",
    "            continue\n",
    "            \n",
    "        X = average_df[f'{itm}_{cur_group}']\n",
    "        X = X.reset_index()#[['date', itm]]#.columns = ['ds', 'y']\n",
    "        X.columns=['ds', 'y']\n",
    "        \n",
    "        #print(itm, cur_group, X.shape)\n",
    "        model = Prophet(yearly_seasonality=True, daily_seasonality=True,\n",
    "                        seasonality_mode='multiplicative',  # hz. future firecast more sharp\n",
    "                        #changepoint_prior_scale=0.15,   # 0.1 - 0.15 looks adequately\n",
    "                        holidays = all_holidays,\n",
    "                        #changepoints=['2020-09-23', '2020-03-09', '2020-10-26'],\n",
    "                       )\n",
    "        #model.add_country_holidays(country_name='RUS')\n",
    "        model.fit(X)\n",
    "        forecast = model.predict(future)\n",
    "\n",
    "        for reg in groups[itm][cur_group]:\n",
    "            mult = deviation_df.loc[reg, itm]\n",
    "            val = forecast.yhat.values + mult\n",
    "            val = list(map(lambda x: x if x >=0 else 0, val))\n",
    "            #v_mae_j  = mean_absolute_error( test_df.loc[test_df.oktmo == reg, itm], forecast.yhat.values + mult)\n",
    "            #v_mae_j  = mean_absolute_error( test_df.loc[test_df.oktmo == reg, itm], forecast.yhat.values * mult)\n",
    "            v_mae_j  = mean_absolute_error( test.loc[test.oktmo == reg, itm], val)\n",
    "            v_mean_j  = np.mean(val)\n",
    "            #v_mean_j  = np.mean(forecast.yhat.values + mult)\n",
    "            if v_mean_j == 0:\n",
    "                #ej.append(55.55555555)\n",
    "                ej_df.loc[reg, itm] = 55.55555555\n",
    "                glob_zeros += 1\n",
    "            else:\n",
    "                #ej.append(v_mae_j / v_mean_j)\n",
    "                ej_df.loc[reg, itm] = (v_mae_j / v_mean_j)\n",
    "        "
   ]
  },
  {
   "cell_type": "code",
   "execution_count": null,
   "id": "cdafdcfe-9678-472d-8f6a-c13b1fad563f",
   "metadata": {},
   "outputs": [],
   "source": [
    "#groups['legumes']"
   ]
  },
  {
   "cell_type": "code",
   "execution_count": null,
   "id": "f796fc4f-b481-420c-99ad-01a0880edd7e",
   "metadata": {},
   "outputs": [],
   "source": []
  },
  {
   "cell_type": "markdown",
   "id": "cf7b4218-ab0e-4c7b-9d68-e3aeb999f482",
   "metadata": {},
   "source": [
    "# Заполнение значений и расчет ошибок для кластеров 'const' и 'zeros'"
   ]
  },
  {
   "cell_type": "code",
   "execution_count": null,
   "id": "46b156c3-711e-4d56-a290-0728ba5fcbdf",
   "metadata": {},
   "outputs": [],
   "source": [
    "for itm in tqdm(items):\n",
    "                       \n",
    "    if len(groups[itm]['const']) != 0:\n",
    "        for reg in groups[itm]['const']:\n",
    "            # getting average for last 2 month\n",
    "            constttt = np.mean(const_df.loc[const_df.oktmo == reg, itm])\n",
    "            #insert to df / submission\n",
    "            val = [constttt]*future.shape[0]\n",
    "            v_mae_j  = mean_absolute_error( test.loc[test.oktmo == reg, itm], [0]*future.shape[0])\n",
    "            v_mean_j = np.mean(val)\n",
    "            \n",
    "            if v_mean_j == 0:\n",
    "                ej_df.loc[reg, itm] = 55.55555555\n",
    "                glob_zeros += 1\n",
    "            else:\n",
    "                ej_df.loc[reg, itm] = (v_mae_j / v_mean_j)\n",
    "    \n",
    "    \n",
    "    if len(groups[itm]['zero']) != 0:\n",
    "        for reg in groups[itm]['zero']:\n",
    "            #v_mae_j  = mean_absolute_error( test.loc[test.oktmo == reg, itm], [0]*future.shape[0])\n",
    "            #v_mean_j = 0\n",
    "            ej_df.loc[reg, itm] = 55.55555555\n",
    "            glob_zeros += 1"
   ]
  },
  {
   "cell_type": "code",
   "execution_count": null,
   "id": "e2701688-341c-46cd-8d06-f1628fbc7b3d",
   "metadata": {},
   "outputs": [],
   "source": []
  },
  {
   "cell_type": "code",
   "execution_count": null,
   "id": "592aeb27-9625-4dc7-b3da-b9cb34e2457c",
   "metadata": {},
   "outputs": [],
   "source": [
    "if os.path.exists('correct.pickle'):\n",
    "    with open('correct.pickle', 'rb') as f:\n",
    "        correct = pkl.load(f)"
   ]
  },
  {
   "cell_type": "code",
   "execution_count": null,
   "id": "f9ec729b-d789-45d2-af6e-24ed58ba01cb",
   "metadata": {},
   "outputs": [],
   "source": [
    "if os.path.exists('correct2.pickle'):\n",
    "    with open('correct2.pickle', 'rb') as f:\n",
    "        correct2 = pkl.load(f)"
   ]
  },
  {
   "cell_type": "code",
   "execution_count": null,
   "id": "885f97a4-cf27-42ba-9ce6-b71a0471207b",
   "metadata": {},
   "outputs": [],
   "source": [
    "if os.path.exists('correct3.pickle'):\n",
    "    with open('correct3.pickle', 'rb') as f:\n",
    "        correct3 = pkl.load(f)"
   ]
  },
  {
   "cell_type": "code",
   "execution_count": null,
   "id": "5535e358-6398-4944-b6d8-c693ed6bb431",
   "metadata": {},
   "outputs": [],
   "source": [
    "correct = correct + correct2 + correct3"
   ]
  },
  {
   "cell_type": "markdown",
   "id": "7819fca5-0d45-4f69-9b01-801768312549",
   "metadata": {},
   "source": [
    "# корректировка ошибки ej с новыми моделями"
   ]
  },
  {
   "cell_type": "code",
   "execution_count": null,
   "id": "c503cda9-d413-42b3-b732-b1ee3998dee2",
   "metadata": {},
   "outputs": [],
   "source": [
    "for itm, reg in tqdm(correct):\n",
    "    X = test.loc[test.oktmo == reg, ['date', itm]]\n",
    "    X = X.reset_index()[['date', itm]]\n",
    "    X.columns=['ds', 'y']\n",
    "    \n",
    "    model = Prophet(yearly_seasonality=True, daily_seasonality=True,\n",
    "                seasonality_mode='multiplicative',  # hz. future firecast more sharp\n",
    "                holidays = all_holidays,\n",
    "               )\n",
    "    model.fit(X)\n",
    "    forecast = model.predict(future)\n",
    "    \n",
    "    #mult = deviation_df.loc[reg, itm]\n",
    "    val = forecast.yhat.values# + mult\n",
    "    #val = list(map(lambda x: x if x >=0 else 0, val))\n",
    "    v_mae_j  = mean_absolute_error( test.loc[test.oktmo == reg, itm], val)\n",
    "    v_mean_j  = np.mean(val)\n",
    "    #v_mean_j  = np.mean(forecast.yhat.values + mult)\n",
    "    if v_mean_j == 0:\n",
    "        #ej.append(55.55555555)\n",
    "        ej_df.loc[reg, itm] = 55.55555555\n",
    "        glob_zeros += 1\n",
    "    else:\n",
    "        #ej.append(v_mae_j / v_mean_j)\n",
    "        ej_df.loc[reg, itm] = (v_mae_j / v_mean_j)"
   ]
  },
  {
   "cell_type": "code",
   "execution_count": null,
   "id": "1daf02da-9303-43e7-b9c2-fd20e5817d4e",
   "metadata": {},
   "outputs": [],
   "source": [
    "# before groups \n",
    "# about 0.0003664181624199924 2.729122359534649\n",
    "\n",
    "# handle groups before first correction\n",
    "# 1.0643645938894455e-05 93.95276822820253\n",
    "\n",
    "# handle with first correction\n",
    "# 3.199665097869074e-05 31.253270870941584\n",
    "\n",
    "# handle with second correction\n",
    "# 4.284439236846642e-05 23.340277331975948\n",
    "\n",
    "# handle with third correction\n",
    "# 4.391646063838126e-05 22.770505306296002\n",
    "# toooooooooooooooooo many zeros"
   ]
  },
  {
   "cell_type": "code",
   "execution_count": null,
   "id": "6f7480de-4afd-438a-988f-e8a14b26a38d",
   "metadata": {},
   "outputs": [],
   "source": []
  },
  {
   "cell_type": "code",
   "execution_count": null,
   "id": "9ef72185-4c6d-4214-9417-1d3a004ba092",
   "metadata": {},
   "outputs": [],
   "source": [
    "e_mean = ej_df.mean().mean()\n",
    "score  = 1 / (1000 * e_mean)\n",
    "print(score, e_mean)"
   ]
  },
  {
   "cell_type": "code",
   "execution_count": null,
   "id": "747d0756-c29b-4883-9725-bd57cda3d9cc",
   "metadata": {},
   "outputs": [],
   "source": [
    "ej_df.to_csv(os.path.join(PATH_DATA, 'ej_gr_total.csv'))"
   ]
  },
  {
   "cell_type": "code",
   "execution_count": null,
   "id": "72ac1828-22b9-419a-abe6-6787bd5d8b8e",
   "metadata": {},
   "outputs": [],
   "source": []
  },
  {
   "cell_type": "code",
   "execution_count": null,
   "id": "19b51c3e-eefc-4f4f-8e7d-c2eff77f16cd",
   "metadata": {},
   "outputs": [],
   "source": []
  },
  {
   "cell_type": "code",
   "execution_count": null,
   "id": "52b67186-00d7-4b66-9f47-27c8c3d4f361",
   "metadata": {},
   "outputs": [],
   "source": []
  },
  {
   "cell_type": "code",
   "execution_count": null,
   "id": "afe8ddd1-66a8-4e5c-9b38-255be2bce0c0",
   "metadata": {},
   "outputs": [],
   "source": []
  },
  {
   "cell_type": "code",
   "execution_count": null,
   "id": "9f1318d4-870a-451b-ba58-722aa5f94c6e",
   "metadata": {},
   "outputs": [],
   "source": []
  },
  {
   "cell_type": "code",
   "execution_count": null,
   "id": "6399bad9-cab7-4c70-b6a1-36f344c5f6d1",
   "metadata": {},
   "outputs": [],
   "source": []
  },
  {
   "cell_type": "code",
   "execution_count": null,
   "id": "c72490e7-f54c-4aa2-acc0-539df7484ea8",
   "metadata": {},
   "outputs": [],
   "source": []
  },
  {
   "cell_type": "code",
   "execution_count": null,
   "id": "83960a8d-b820-4106-adda-72cde93007a8",
   "metadata": {},
   "outputs": [],
   "source": [
    "if os.path.exists('correct2.pickle'):\n",
    "    with open('correct2.pickle', 'rb') as f:\n",
    "        correct2 = pkl.load(f)"
   ]
  },
  {
   "cell_type": "code",
   "execution_count": null,
   "id": "ff62693c-ed17-4a32-bf56-9504476bf7f6",
   "metadata": {},
   "outputs": [],
   "source": [
    "for itm, reg in tqdm(correct2):\n",
    "    X = test.loc[test.oktmo == reg, ['date', itm]]\n",
    "    X = X.reset_index()[['date', itm]]\n",
    "    X.columns=['ds', 'y']\n",
    "    \n",
    "    model = Prophet(yearly_seasonality=True, daily_seasonality=True,\n",
    "                seasonality_mode='multiplicative',  # hz. future firecast more sharp\n",
    "                holidays = all_holidays,\n",
    "               )\n",
    "    model.fit(X)\n",
    "    forecast = model.predict(future)\n",
    "    \n",
    "    #mult = deviation_df.loc[reg, itm]\n",
    "    val = forecast.yhat.values# + mult\n",
    "    #val = list(map(lambda x: x if x >=0 else 0, val))\n",
    "    v_mae_j  = mean_absolute_error( test.loc[test.oktmo == reg, itm], val)\n",
    "    v_mean_j  = np.mean(val)\n",
    "    #v_mean_j  = np.mean(forecast.yhat.values + mult)\n",
    "    if v_mean_j == 0:\n",
    "        ej.append(55.55555555)\n",
    "        ej_df.loc[reg, itm] = 55.55555555\n",
    "    else:\n",
    "        ej.append(v_mae_j / v_mean_j)\n",
    "        ej_df.loc[reg, itm] = (v_mae_j / v_mean_j)"
   ]
  },
  {
   "cell_type": "code",
   "execution_count": null,
   "id": "ed0a1b76-fa2d-44e6-b351-82048967acb5",
   "metadata": {},
   "outputs": [],
   "source": [
    "e_mean = ej_df.mean().mean()\n",
    "score  = 1 / (1000 * e_mean)\n",
    "print(score, e_mean)"
   ]
  },
  {
   "cell_type": "code",
   "execution_count": null,
   "id": "676d19c5-f855-4c2d-b974-5f731b026c23",
   "metadata": {},
   "outputs": [],
   "source": [
    "ej_df.to_csv(os.path.join(PATH_DATA, 'ej_gr_corr2.csv'))"
   ]
  },
  {
   "cell_type": "code",
   "execution_count": null,
   "id": "2907a7ca-0994-4e1f-8d67-195c7994b40b",
   "metadata": {},
   "outputs": [],
   "source": []
  },
  {
   "cell_type": "code",
   "execution_count": null,
   "id": "1e669e4c-bc1e-4cb7-a93c-57b3612dc78d",
   "metadata": {},
   "outputs": [],
   "source": [
    "if os.path.exists('correct3.pickle'):\n",
    "    with open('correct3.pickle', 'rb') as f:\n",
    "        correct3 = pkl.load(f)"
   ]
  },
  {
   "cell_type": "code",
   "execution_count": null,
   "id": "288f79bb-f7ab-4ebc-99e5-4c4bd7bf8398",
   "metadata": {},
   "outputs": [],
   "source": [
    "for itm, reg in tqdm(correct3):\n",
    "    X = test.loc[test.oktmo == reg, ['date', itm]]\n",
    "    X = X.reset_index()[['date', itm]]\n",
    "    X.columns=['ds', 'y']\n",
    "    \n",
    "    model = Prophet(yearly_seasonality=True, daily_seasonality=True,\n",
    "                seasonality_mode='multiplicative',  # hz. future firecast more sharp\n",
    "                holidays = all_holidays,\n",
    "               )\n",
    "    model.fit(X)\n",
    "    forecast = model.predict(future)\n",
    "    \n",
    "    #mult = deviation_df.loc[reg, itm]\n",
    "    val = forecast.yhat.values# + mult\n",
    "    #val = list(map(lambda x: x if x >=0 else 0, val))\n",
    "    v_mae_j  = mean_absolute_error( test.loc[test.oktmo == reg, itm], val)\n",
    "    v_mean_j  = np.mean(val)\n",
    "    #v_mean_j  = np.mean(forecast.yhat.values + mult)\n",
    "    if v_mean_j == 0:\n",
    "        ej.append(55.55555555)\n",
    "        ej_df.loc[reg, itm] = 55.55555555\n",
    "    else:\n",
    "        ej.append(v_mae_j / v_mean_j)\n",
    "        ej_df.loc[reg, itm] = (v_mae_j / v_mean_j)"
   ]
  },
  {
   "cell_type": "code",
   "execution_count": null,
   "id": "cf3cb62a-e54b-4d59-95c3-f4e4282086cd",
   "metadata": {},
   "outputs": [],
   "source": [
    "e_mean = ej_df.mean().mean()\n",
    "score  = 1 / (1000 * e_mean)\n",
    "print(score, e_mean)"
   ]
  },
  {
   "cell_type": "code",
   "execution_count": null,
   "id": "d225b514-f65f-4f33-821f-c5ef47c2b499",
   "metadata": {},
   "outputs": [],
   "source": [
    "ej_df.to_csv(os.path.join(PATH_DATA, 'ej_gr_corr3.csv'))"
   ]
  },
  {
   "cell_type": "code",
   "execution_count": null,
   "id": "1c4cd3c7-5248-4397-b017-c8df47434284",
   "metadata": {},
   "outputs": [],
   "source": []
  }
 ],
 "metadata": {
  "kernelspec": {
   "display_name": "Python 3",
   "language": "python",
   "name": "python3"
  },
  "language_info": {
   "codemirror_mode": {
    "name": "ipython",
    "version": 3
   },
   "file_extension": ".py",
   "mimetype": "text/x-python",
   "name": "python",
   "nbconvert_exporter": "python",
   "pygments_lexer": "ipython3",
   "version": "3.7.10"
  }
 },
 "nbformat": 4,
 "nbformat_minor": 5
}
